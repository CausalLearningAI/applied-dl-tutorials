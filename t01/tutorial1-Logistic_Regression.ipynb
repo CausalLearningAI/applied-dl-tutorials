{
 "cells": [
  {
   "cell_type": "markdown",
   "metadata": {
    "slideshow": {
     "slide_type": "slide"
    }
   },
   "source": [
    "$$\n",
    "\\newcommand{\\mat}[1]{\\boldsymbol {#1}}\n",
    "\\newcommand{\\mattr}[1]{\\boldsymbol {#1}^\\top}\n",
    "\\newcommand{\\matinv}[1]{\\boldsymbol {#1}^{-1}}\n",
    "\\newcommand{\\vec}[1]{\\boldsymbol {#1}}\n",
    "\\newcommand{\\vectr}[1]{\\boldsymbol {#1}^\\top}\n",
    "\\newcommand{\\rvar}[1]{\\mathrm {#1}}\n",
    "\\newcommand{\\rvec}[1]{\\boldsymbol{\\mathrm{#1}}}\n",
    "\\newcommand{\\diag}{\\mathop{\\mathrm {diag}}}\n",
    "\\newcommand{\\set}[1]{\\mathbb {#1}}\n",
    "\\newcommand{\\norm}[1]{\\left\\lVert#1\\right\\rVert}\n",
    "\\newcommand{\\pderiv}[2]{\\frac{\\partial #1}{\\partial #2}}\n",
    "\\newcommand{\\bb}[1]{\\boldsymbol{#1}}\n",
    "\\newcommand{\\E}[2][]{\\mathbb{E}_{#1}\\left[#2\\right]}\n",
    "\\newcommand{\\given}[]{~\\middle\\vert~}\n",
    "$$\n",
    "\n",
    "# ISTA: Applied Deep Learning for Scientists\n",
    "# Tutorial 1: Supervised Learning"
   ]
  },
  {
   "cell_type": "markdown",
   "metadata": {
    "slideshow": {
     "slide_type": "slide"
    }
   },
   "source": [
    "## Introduction\n",
    "\n",
    "In this tutorial, we will cover:\n",
    "\n",
    "* Basics of supervised learning\n",
    "    - Definitions\n",
    "    - Basics of optimization\n",
    "    - Types of errors\n",
    "* Classic ML example: Binary logistic regression from scratch using numpy (**self study**)\n",
    "* Multiclass logistic regression from scratch with PyTorch and autograd\n",
    "    - Optimization\n",
    "    - Writing training loops"
   ]
  },
  {
   "cell_type": "code",
   "execution_count": 1,
   "metadata": {
    "slideshow": {
     "slide_type": "subslide"
    }
   },
   "outputs": [],
   "source": [
    "# Setup\n",
    "%matplotlib inline\n",
    "import numpy as np\n",
    "import pandas as pd\n",
    "import sklearn\n",
    "import matplotlib.pyplot as plt"
   ]
  },
  {
   "cell_type": "code",
   "execution_count": 2,
   "metadata": {
    "slideshow": {
     "slide_type": "fragment"
    }
   },
   "outputs": [],
   "source": [
    "plt.rcParams['font.size'] = 20"
   ]
  },
  {
   "cell_type": "markdown",
   "metadata": {
    "slideshow": {
     "slide_type": "slide"
    }
   },
   "source": [
    "## Theory Reminders"
   ]
  },
  {
   "cell_type": "markdown",
   "metadata": {
    "slideshow": {
     "slide_type": "subslide"
    }
   },
   "source": [
    "### The supervised learning framework"
   ]
  },
  {
   "cell_type": "markdown",
   "metadata": {
    "slideshow": {
     "slide_type": "fragment"
    }
   },
   "source": [
    "We have a labeled dataset of $N$ labelled samples: $\\mathcal{S} = \\{ (\\vec{x}^i,y^i) \\}_{i=1}^N$, where\n",
    "- $\\vec{x}^i = \\left(x^i_1, \\dots, x^i_D\\right) \\in \\mathcal{X}$  is a **sample** or **feature vector**.\n",
    "- $y^i \\in \\mathcal{Y}$ is the **label**.\n",
    "- For classification with $C$ classes, $\\mathcal{Y} = \\{0,\\dots,C-1\\}$, so each $y^i$ is a **class label**.\n",
    "- Probabilistic perspective: assume each labeled sample $(\\vec{x}^i,y^i)\\sim\\mathcal{D}$,\n",
    "  i.e. each labeled sample is drawn from a joint distribution $\\mathcal{D}$ over $\\mathcal{X}\\times\\mathcal{Y}$."
   ]
  },
  {
   "cell_type": "markdown",
   "metadata": {
    "slideshow": {
     "slide_type": "subslide"
    }
   },
   "source": [
    "Our **model** is a parametrized set of functions $\\mathcal{H}\\subseteq \\mathcal{Y}^{\\mathcal{X}}$.\n",
    "\n",
    "($\\mathcal{Y}^{\\mathcal{X}}$ is the set of all functions from $\\mathcal{X}$ to $\\mathcal{Y}$).\n",
    "\n",
    "From a probabilistic perspective, a model is a posterior: $P_{Y|\\vec{X}}(y, \\vec{x})$."
   ]
  },
  {
   "cell_type": "markdown",
   "metadata": {
    "slideshow": {
     "slide_type": "subslide"
    }
   },
   "source": [
    "For example, the following hypothesis class\n",
    "$$\n",
    "\\mathcal{H} =\n",
    "\\left\\{ h: \\mathcal{X}\\rightarrow\\mathcal{Y}\n",
    "~\\vert~\n",
    "h(\\vec{x}) = \\varphi(\\vectr{w}\\vec{x}+b); \\vec{w}\\in\\set{R}^D,~b\\in\\set{R}\\right\\}\n",
    "$$\n",
    "where $\\varphi(\\cdot)$ is some nonlinear function, is known as the **perceptron** model, and is also called a **neuron** in the context of a neural network (due to it's biologically-inspired origin).\n",
    "\n",
    "\n",
    "| . | . |\n",
    "|---|---|\n",
    "| <img src=\"imgs/perceptron.png\" width=400 /> | <img src=\"imgs/neuron.png\" width=600 /> |\n"
   ]
  },
  {
   "cell_type": "markdown",
   "metadata": {
    "slideshow": {
     "slide_type": "subslide"
    }
   },
   "source": [
    "A **pointwise loss function** is some $\\ell:\\mathcal{Y}\\times\\mathcal{Y}\\to\\set{R}_{\\geq 0}$, e.g.\n",
    "- $\\ell(y,\\hat{y})=(y-\\hat{y})^2$\n",
    "- $\\ell(y,\\hat{y})= -y\\log(\\hat{y})-(1-y)\\log(1-\\hat{y})$"
   ]
  },
  {
   "cell_type": "markdown",
   "metadata": {
    "slideshow": {
     "slide_type": "subslide"
    }
   },
   "source": [
    "The task: Given the training set $\\mathcal{S} = \\{ (\\vec{x}^i,y^i) \\}_{i=1}^N \\sim \\mathcal{D}$, find \n",
    "a predictor (hypothesis) $h: \\mathcal{X}\\to\\mathcal{Y}$ which minimizes **population loss**:\n",
    "\n",
    "$$\n",
    "L_{\\mathcal{D}}(h) = \\E[(\\vec{x},y)\\sim\\mathcal{D}]{\\ell(y, h(\\vec{x})}.\n",
    "$$\n",
    "\n",
    "This is also known as the **out-of-sample** loss. It is a deterministic quantity?"
   ]
  },
  {
   "cell_type": "markdown",
   "metadata": {
    "slideshow": {
     "slide_type": "fragment"
    }
   },
   "source": [
    "Yes, it's the true expectation of an RV.\n",
    "\n",
    "Can we solve this problem?"
   ]
  },
  {
   "cell_type": "markdown",
   "metadata": {
    "slideshow": {
     "slide_type": "fragment"
    }
   },
   "source": [
    "Joint-distribution $\\mathcal{D}$ is unknown!"
   ]
  },
  {
   "cell_type": "markdown",
   "metadata": {
    "slideshow": {
     "slide_type": "subslide"
    }
   },
   "source": [
    "Instead, we define an **empirical (in-sample) loss** $L_{\\mathcal{S}}(h)$ as the measure of how well a function $h\\in\\mathcal{H}$ fits the data $\\mathcal{S}$, for example\n",
    "$$\n",
    "L_{\\mathcal{S}}(h) = \\frac{1}{N} \\sum_{i=1}^{N} \\ell(h(\\vec{x}^i), y^i) + R(h)\n",
    "$$\n",
    "where\n",
    "\n",
    "- $\\ell(y,\\hat{y})$ is some pointwise loss (depends on the data).\n",
    "- $R(h)$ is a regularization term (depends only on the model).\n",
    "\n",
    "Is this is a deterministic quantity?"
   ]
  },
  {
   "cell_type": "markdown",
   "metadata": {
    "slideshow": {
     "slide_type": "subslide"
    }
   },
   "source": [
    "### Optimization"
   ]
  },
  {
   "cell_type": "markdown",
   "metadata": {
    "slideshow": {
     "slide_type": "fragment"
    }
   },
   "source": [
    "The model is **trained** by updating its parameters to improve its performance on some data."
   ]
  },
  {
   "cell_type": "markdown",
   "metadata": {
    "slideshow": {
     "slide_type": "fragment"
    }
   },
   "source": [
    "We wish to find a parametrization $\\vec{w}^\\ast$ of our model $h^{\\ast}_{\\mathcal{S}}(\\vec{x};\\vec{w}^\\ast)\\in\\mathcal{H}$ such that\n",
    "$$\n",
    "h^{\\ast}_{\\mathcal{S}} = \\arg\\min_{h\\in\\mathcal{H}} L_{\\mathcal{S}}(h)\n",
    "$$"
   ]
  },
  {
   "cell_type": "markdown",
   "metadata": {
    "slideshow": {
     "slide_type": "subslide"
    }
   },
   "source": [
    "Usual approach: descent-based optimization (will be covered in next lecture)\n",
    "$$\n",
    "\\vec{w}_{k+1} \\leftarrow \\vec{w}_{k} - \\eta_k \\vec{d}_{k}\n",
    "$$\n",
    "\n",
    "Where $\\vec{d}_k$ is a **descent direction** and $\\eta_k$ is the step size at step $k$."
   ]
  },
  {
   "cell_type": "markdown",
   "metadata": {
    "slideshow": {
     "slide_type": "fragment"
    }
   },
   "source": [
    "Most common choice for $\\vec{d}_k$?"
   ]
  },
  {
   "cell_type": "markdown",
   "metadata": {
    "slideshow": {
     "slide_type": "fragment"
    }
   },
   "source": [
    "Gradient descent: $\\vec{d}_k = \\nabla_{\\vec{w}_{k}} L(\\vec{w}_{k})$"
   ]
  },
  {
   "cell_type": "markdown",
   "metadata": {
    "slideshow": {
     "slide_type": "fragment"
    }
   },
   "source": [
    "Will we find the optimal solution, $\\vec{w}^\\ast$, though?"
   ]
  },
  {
   "cell_type": "markdown",
   "metadata": {
    "slideshow": {
     "slide_type": "subslide"
    }
   },
   "source": [
    "Generally the loss is non-convex and we have no guarantee of converging to the global optimum!\n",
    "$\\Rightarrow$ **Optimization Error**"
   ]
  },
  {
   "cell_type": "markdown",
   "metadata": {
    "slideshow": {
     "slide_type": "fragment"
    }
   },
   "source": [
    "<center><img src=\"imgs/sgd2d_2.png\" width=800 /></center>"
   ]
  },
  {
   "cell_type": "markdown",
   "metadata": {
    "slideshow": {
     "slide_type": "subslide"
    }
   },
   "source": [
    "Gradient descent (GD) has the advantage of being extremely simple to apply, and requires only first-order derivatives.\n",
    "\n",
    "However it provides no guarantees for convergence on non-convex objectives.\n",
    "\n",
    "Later in the course we'll learn about variants of GD which perform well in practice even on the non-convex objectives we'll face in deep learning."
   ]
  },
  {
   "cell_type": "markdown",
   "metadata": {
    "slideshow": {
     "slide_type": "subslide"
    }
   },
   "source": [
    "### Generalization and Expressiveness"
   ]
  },
  {
   "cell_type": "markdown",
   "metadata": {
    "slideshow": {
     "slide_type": "fragment"
    }
   },
   "source": [
    "We've talked about optimization error.\n",
    "\n",
    "What are **other** sources of errors in our learning approach (besides optimization)?"
   ]
  },
  {
   "cell_type": "markdown",
   "metadata": {
    "slideshow": {
     "slide_type": "subslide"
    }
   },
   "source": [
    "We train to minimize our empirical loss $L_\\mathcal{S}$ instead of the population loss $L_\\mathcal{D}$ $\\Rightarrow$ **Generalization Error**"
   ]
  },
  {
   "cell_type": "markdown",
   "metadata": {
    "slideshow": {
     "slide_type": "fragment"
    }
   },
   "source": [
    "We only consider a limited set of possible functions, $\\mathcal{H}$ $\\Rightarrow$ **Approximation Error**"
   ]
  },
  {
   "cell_type": "markdown",
   "metadata": {
    "slideshow": {
     "slide_type": "fragment"
    }
   },
   "source": [
    "<center><img src=\"imgs/error_types.png\" width=900 /></center>"
   ]
  },
  {
   "cell_type": "markdown",
   "metadata": {
    "slideshow": {
     "slide_type": "subslide"
    }
   },
   "source": [
    "How do we mitigate these errors in the practice of machine learning?"
   ]
  },
  {
   "cell_type": "markdown",
   "metadata": {
    "slideshow": {
     "slide_type": "fragment"
    }
   },
   "source": [
    "- Optimization error: Mini batches; GD variants like stochastic gradient, Momentum, Adam, LR scheduling, etc (we'll see later in the course)."
   ]
  },
  {
   "cell_type": "markdown",
   "metadata": {
    "slideshow": {
     "slide_type": "fragment"
    }
   },
   "source": [
    "- Generalization error: Get more data; get data which better represents $\\mathcal{D}$; train-test splits; cross validation; early stopping; regularization;  \"inductive bias\" - tailoring the model to the domain (e.g. CNN for images)."
   ]
  },
  {
   "cell_type": "markdown",
   "metadata": {
    "slideshow": {
     "slide_type": "fragment"
    }
   },
   "source": [
    "- Approximation error: Use a powerful hypothesis class (e.g. DNN); more parameters."
   ]
  },
  {
   "cell_type": "markdown",
   "metadata": {
    "slideshow": {
     "slide_type": "slide"
    }
   },
   "source": [
    "### Binary Logistic Regression\n",
    "\n",
    "Actually a **classification** model. We're trying to classify data into 2 classes."
   ]
  },
  {
   "cell_type": "markdown",
   "metadata": {
    "slideshow": {
     "slide_type": "subslide"
    }
   },
   "source": [
    "- Domain: $\\vec{x}^i \\in \\set{R}^D$\n",
    "- Target: $y^i \\in \\{0,1\\}$\n",
    "- Model: $\\hat{y} = h(\\vec{x}) = \\sigma(\\vectr{w}\\vec{x}+b)$, where $\\sigma(\\vec{z})$ is the **logistic function**:\n",
    "    $$\\sigma(\\vec{z}) = \\frac{1}{1+e^{-\\vec{z}}}.$$\n",
    "    This function maps the real line onto $[0,1]$.\n",
    "- Probabilistic interpretation: $\\hat{y}=P(\\rvar{Y}=1|\\rvec{X}=\\vec{x})$.\n",
    "\n",
    "  This is a posterior probability function for our target variable $\\rvar{Y}$."
   ]
  },
  {
   "cell_type": "code",
   "execution_count": 3,
   "metadata": {
    "slideshow": {
     "slide_type": "subslide"
    }
   },
   "outputs": [
    {
     "data": {
      "image/png": "[encoded data removed]",
      "text/plain": [
       "<Figure size 640x480 with 1 Axes>"
      ]
     },
     "metadata": {},
     "output_type": "display_data"
    }
   ],
   "source": [
    "def logistic(z):\n",
    "    return 1 / (1 + np.exp(-z))\n",
    "\n",
    "x = np.arange(-5, 5, .01)\n",
    "y_hat = logistic(x)\n",
    "\n",
    "plt.plot(x, y_hat, label='$\\sigma(z)$')\n",
    "plt.grid(True); plt.xlabel('z'); plt.legend(); plt.title('The logistic function');"
   ]
  },
  {
   "cell_type": "markdown",
   "metadata": {
    "slideshow": {
     "slide_type": "subslide"
    }
   },
   "source": [
    "Recall: the probability mass function of a Bernoulli varable $y$, with parameter $p$, is\n",
    "$$\n",
    "\\begin{aligned}\n",
    "P(y) &= \\begin{cases} 1-p & \\text{if } y = 0 \\\\ p & \\text{if } y = 1\\end{cases},\\\\\n",
    "     &=  (1-p)^{1-y} (p)^{y}.\n",
    "\\end{aligned}\n",
    "$$"
   ]
  },
  {
   "cell_type": "markdown",
   "metadata": {
    "slideshow": {
     "slide_type": "slide"
    }
   },
   "source": [
    "To optimize, we minimize the **negative log-likelihood** (equivalent to maximizing likelihood, i.e. MLE) of the parameters $\\vec{w}$:\n",
    "\n",
    "$$\n",
    "\\bb{w}^\\ast = \\mathrm{arg}\\max_{ \\bb{w}} \\prod_{i=1}^n P(y_i | \\bb{x}_i;\\vec{w}) = \\mathrm{arg}\\min_{ \\bb{w}} \\sum_{i=1}^n -\\log P(y_i | \\bb{x}_i; \\vec{w})\n",
    "$$\n",
    "\n",
    "Based on this we define our loss $L(\\bb{w})$ (what we minimize) as,"
   ]
  },
  {
   "cell_type": "markdown",
   "metadata": {
    "slideshow": {
     "slide_type": "fragment"
    }
   },
   "source": [
    "$$\n",
    "\\begin{align}\n",
    "L(\\bb{w}) &\\triangleq \\sum_{i=1}^n -\\log P(y_i | \\bb{x}_i; \\vec{w})\\\\\n",
    "&= \\sum_{i=1}^n -y_i \\log P(y_i=1 | \\bb{x}_i; \\vec{w}) - (1-y_i) \\log P(y_i=0 | \\bb{x}_i; \\vec{w}) \\\\\n",
    "&= \\sum_{i=1}^n -y_i \\log \\hat{y}_i - (1-y_i) \\log(1-\\hat{y}_i)\n",
    "\\end{align}\n",
    "$$"
   ]
  },
  {
   "cell_type": "markdown",
   "metadata": {
    "slideshow": {
     "slide_type": "subslide"
    }
   },
   "source": [
    "The resulting pointwise loss is also known as **cross-entropy**:\n",
    "$$\n",
    "\\begin{align}\n",
    "\\ell(y, \\hat{y}) &=  - y \\log(\\hat{y}) - (1-y) \\log(1-\\hat{y}) \\\\\n",
    "\\end{align}\n",
    "$$\n",
    "\n",
    "(The \"cross\" here is between the distribution of the samples $y^i$ and the distribution of the predictions $\\hat{y}^i$)."
   ]
  },
  {
   "cell_type": "markdown",
   "metadata": {
    "slideshow": {
     "slide_type": "subslide"
    }
   },
   "source": [
    "Optimization scheme: No closed form solution, but loss is **convex** so gradient-based approach leads to global optimum.\n",
    "\n",
    "$$\n",
    "\\begin{align}\n",
    "\\ell(y, \\hat{y}) &=  - y \\log(\\hat{y}) - (1-y) \\log(1-\\hat{y}) \\\\\n",
    "\\end{align}\n",
    "$$\n",
    "\n",
    "Let's plot this loss function:"
   ]
  },
  {
   "cell_type": "code",
   "execution_count": 4,
   "metadata": {
    "slideshow": {
     "slide_type": "fragment"
    }
   },
   "outputs": [
    {
     "data": {
      "image/png": "[encoded data removed]",
      "text/plain": [
       "<Figure size 640x480 with 1 Axes>"
      ]
     },
     "metadata": {},
     "output_type": "display_data"
    }
   ],
   "source": [
    "loss_y0 = -np.log(1-y_hat)\n",
    "loss_y1 = -np.log(y_hat)\n",
    "plt.plot(y_hat, loss_y0, label='$\\ell(y=0,\\hat{y})$')\n",
    "plt.plot(y_hat, loss_y1, label='$\\ell(y=1,\\hat{y})$')\n",
    "plt.grid(True); plt.xlabel('$\\hat{y}$'); plt.legend(); plt.title('Cross entropy loss');"
   ]
  },
  {
   "cell_type": "markdown",
   "metadata": {
    "slideshow": {
     "slide_type": "subslide"
    }
   },
   "source": [
    "To apply gradient descent, we need to know the gradient of the loss w.r.t. the parameters $\\vec{w}$."
   ]
  },
  {
   "cell_type": "markdown",
   "metadata": {
    "slideshow": {
     "slide_type": "fragment"
    }
   },
   "source": [
    "Exercise: Prove that for the cross entropy loss with binary logistic regression, it holds that:\n",
    "$$\n",
    "\\pderiv{\\ell(y,\\hat{y})}{\\vec{w}}= (\\hat{y}-y)\\vec{x}.\n",
    "$$"
   ]
  },
  {
   "cell_type": "markdown",
   "metadata": {
    "slideshow": {
     "slide_type": "skip"
    }
   },
   "source": [
    "Proof:\n",
    "\n",
    "First, we apply the chain-rule\n",
    "$$\n",
    "\\pderiv{\\ell(y,\\hat{y})}{\\vec{w}}=\\pderiv{\\ell}{\\hat{y}}\\cdot\\pderiv{\\hat{y}}{z}\\cdot\\pderiv{z}{\\vec{w}},\n",
    "$$\n",
    "where $z=\\vectr{w}\\vec{x}$."
   ]
  },
  {
   "cell_type": "markdown",
   "metadata": {
    "slideshow": {
     "slide_type": "skip"
    }
   },
   "source": [
    "Now, just by definition,\n",
    "$$\n",
    "\\begin{align}\n",
    "\\pderiv{\\ell}{\\hat{y}}&=-\\frac{y}{\\hat{y}}+\\frac{1-y}{1-\\hat{y}}=\\frac{\\hat{y}-y}{\\hat{y}(1-\\hat{y})}\\\\\n",
    "\\pderiv{\\hat{y}}{z}&=\\frac{e^{-z}}{(1+e^{-z})^2}=\n",
    "\\frac{e^{-z}}{1+e^{-z}}\\cdot\\frac{1}{1+e^{-z}}=(1-\\sigma(z))\\sigma(z)=(1-\\hat{y})\\hat{y}\\\\\n",
    "\\pderiv{z}{\\vec{w}}&=\\vec{x}\n",
    "\\end{align}\n",
    "$$"
   ]
  },
  {
   "cell_type": "markdown",
   "metadata": {
    "slideshow": {
     "slide_type": "slide"
    }
   },
   "source": [
    "## Part 1: Binary Logistic Regression"
   ]
  },
  {
   "cell_type": "markdown",
   "metadata": {
    "slideshow": {
     "slide_type": "fragment"
    }
   },
   "source": [
    "As a warm up exercise, let's see a quick example of implementing this algorithm and training it from scratch using just `numpy` (and a toy dataset from `sklearn`).\n",
    "\n",
    "This is a classic and very simple example of implementing and training a machine learning algorithm."
   ]
  },
  {
   "cell_type": "markdown",
   "metadata": {
    "slideshow": {
     "slide_type": "subslide"
    }
   },
   "source": [
    "## Dataset\n",
    "\n",
    "The `scikit-learn` library comes with a few [toy datasets](http://scikit-learn.org/stable/datasets/index.html#toy-datasets) that are fun to quickly train small models on.\n",
    "\n",
    "As an example we'll load the Wisconsin-breast cancer database:\n",
    "- 569 samples of cancer patients\n",
    "- 30 features: various properties of tumor cells extracted from images\n",
    "- 2 classes: Tumor is either Benign or Malignant\n",
    "\n",
    "We'll apply the basic machine learning approach we saw above: binary logistic regression."
   ]
  },
  {
   "cell_type": "code",
   "execution_count": 5,
   "metadata": {
    "slideshow": {
     "slide_type": "subslide"
    }
   },
   "outputs": [
    {
     "name": "stdout",
     "output_type": "stream",
     "text": [
      "n_features=30\n",
      "feature names: ['mean radius' 'mean texture' 'mean perimeter' 'mean area'\n",
      " 'mean smoothness' 'mean compactness' 'mean concavity'\n",
      " 'mean concave points' 'mean symmetry' 'mean fractal dimension'\n",
      " 'radius error' 'texture error' 'perimeter error' 'area error'\n",
      " 'smoothness error' 'compactness error' 'concavity error'\n",
      " 'concave points error' 'symmetry error' 'fractal dimension error'\n",
      " 'worst radius' 'worst texture' 'worst perimeter' 'worst area'\n",
      " 'worst smoothness' 'worst compactness' 'worst concavity'\n",
      " 'worst concave points' 'worst symmetry' 'worst fractal dimension']\n",
      "target  names: ['malignant' 'benign']\n"
     ]
    }
   ],
   "source": [
    "import sklearn.datasets\n",
    "\n",
    "ds_cancer = sklearn.datasets.load_breast_cancer()\n",
    "feature_names = ds_cancer.feature_names\n",
    "target_names = ds_cancer.target_names\n",
    "n_features = len(feature_names)\n",
    "\n",
    "print(f'{n_features=}')\n",
    "print(f'feature names: {feature_names}')\n",
    "print(f'target  names: {target_names}')"
   ]
  },
  {
   "cell_type": "code",
   "execution_count": 6,
   "metadata": {
    "slideshow": {
     "slide_type": "subslide"
    }
   },
   "outputs": [
    {
     "name": "stdout",
     "output_type": "stream",
     "text": [
      "X: (569, 30)\n",
      "y: (569,)\n"
     ]
    }
   ],
   "source": [
    "X, y = ds_cancer.data, ds_cancer.target\n",
    "n_samples = len(y)\n",
    "\n",
    "print(f'X: {X.shape}')\n",
    "print(f'y: {y.shape}')"
   ]
  },
  {
   "cell_type": "code",
   "execution_count": 7,
   "metadata": {
    "slideshow": {
     "slide_type": "subslide"
    }
   },
   "outputs": [
    {
     "data": {
      "text/html": [
       "<div>\n",
       "<style scoped>\n",
       "    .dataframe tbody tr th:only-of-type {\n",
       "        vertical-align: middle;\n",
       "    }\n",
       "\n",
       "    .dataframe tbody tr th {\n",
       "        vertical-align: top;\n",
       "    }\n",
       "\n",
       "    .dataframe thead th {\n",
       "        text-align: right;\n",
       "    }\n",
       "</style>\n",
       "<table border=\"1\" class=\"dataframe\">\n",
       "  <thead>\n",
       "    <tr style=\"text-align: right;\">\n",
       "      <th></th>\n",
       "      <th>mean radius</th>\n",
       "      <th>mean area</th>\n",
       "      <th>mean concavity</th>\n",
       "      <th>mean fractal dimension</th>\n",
       "      <th>perimeter error</th>\n",
       "      <th>compactness error</th>\n",
       "      <th>symmetry error</th>\n",
       "      <th>worst texture</th>\n",
       "      <th>worst smoothness</th>\n",
       "      <th>worst concave points</th>\n",
       "      <th>CLASS</th>\n",
       "    </tr>\n",
       "  </thead>\n",
       "  <tbody>\n",
       "    <tr>\n",
       "      <th>100</th>\n",
       "      <td>13.610</td>\n",
       "      <td>582.7</td>\n",
       "      <td>0.08625</td>\n",
       "      <td>0.05871</td>\n",
       "      <td>2.8610</td>\n",
       "      <td>0.014880</td>\n",
       "      <td>0.01465</td>\n",
       "      <td>35.27</td>\n",
       "      <td>0.1265</td>\n",
       "      <td>0.11840</td>\n",
       "      <td>MALIGNANT</td>\n",
       "    </tr>\n",
       "    <tr>\n",
       "      <th>101</th>\n",
       "      <td>6.981</td>\n",
       "      <td>143.5</td>\n",
       "      <td>0.00000</td>\n",
       "      <td>0.07818</td>\n",
       "      <td>1.5530</td>\n",
       "      <td>0.010840</td>\n",
       "      <td>0.02659</td>\n",
       "      <td>19.54</td>\n",
       "      <td>0.1584</td>\n",
       "      <td>0.00000</td>\n",
       "      <td>BENIGN</td>\n",
       "    </tr>\n",
       "    <tr>\n",
       "      <th>102</th>\n",
       "      <td>12.180</td>\n",
       "      <td>458.7</td>\n",
       "      <td>0.02383</td>\n",
       "      <td>0.05677</td>\n",
       "      <td>1.1830</td>\n",
       "      <td>0.006098</td>\n",
       "      <td>0.01447</td>\n",
       "      <td>32.84</td>\n",
       "      <td>0.1123</td>\n",
       "      <td>0.07431</td>\n",
       "      <td>BENIGN</td>\n",
       "    </tr>\n",
       "    <tr>\n",
       "      <th>103</th>\n",
       "      <td>9.876</td>\n",
       "      <td>298.3</td>\n",
       "      <td>0.06154</td>\n",
       "      <td>0.06322</td>\n",
       "      <td>1.5280</td>\n",
       "      <td>0.021960</td>\n",
       "      <td>0.01609</td>\n",
       "      <td>26.83</td>\n",
       "      <td>0.1559</td>\n",
       "      <td>0.09749</td>\n",
       "      <td>BENIGN</td>\n",
       "    </tr>\n",
       "    <tr>\n",
       "      <th>104</th>\n",
       "      <td>10.490</td>\n",
       "      <td>336.1</td>\n",
       "      <td>0.02995</td>\n",
       "      <td>0.06481</td>\n",
       "      <td>2.3020</td>\n",
       "      <td>0.022190</td>\n",
       "      <td>0.02710</td>\n",
       "      <td>23.31</td>\n",
       "      <td>0.1219</td>\n",
       "      <td>0.03203</td>\n",
       "      <td>BENIGN</td>\n",
       "    </tr>\n",
       "    <tr>\n",
       "      <th>105</th>\n",
       "      <td>13.110</td>\n",
       "      <td>530.2</td>\n",
       "      <td>0.20710</td>\n",
       "      <td>0.07692</td>\n",
       "      <td>2.4100</td>\n",
       "      <td>0.029120</td>\n",
       "      <td>0.01547</td>\n",
       "      <td>22.40</td>\n",
       "      <td>0.1862</td>\n",
       "      <td>0.19860</td>\n",
       "      <td>MALIGNANT</td>\n",
       "    </tr>\n",
       "    <tr>\n",
       "      <th>106</th>\n",
       "      <td>11.640</td>\n",
       "      <td>412.5</td>\n",
       "      <td>0.07070</td>\n",
       "      <td>0.06520</td>\n",
       "      <td>2.1550</td>\n",
       "      <td>0.023100</td>\n",
       "      <td>0.01565</td>\n",
       "      <td>29.26</td>\n",
       "      <td>0.1688</td>\n",
       "      <td>0.12180</td>\n",
       "      <td>BENIGN</td>\n",
       "    </tr>\n",
       "    <tr>\n",
       "      <th>107</th>\n",
       "      <td>12.360</td>\n",
       "      <td>466.7</td>\n",
       "      <td>0.02643</td>\n",
       "      <td>0.06066</td>\n",
       "      <td>0.8484</td>\n",
       "      <td>0.010470</td>\n",
       "      <td>0.01251</td>\n",
       "      <td>27.49</td>\n",
       "      <td>0.1184</td>\n",
       "      <td>0.08442</td>\n",
       "      <td>BENIGN</td>\n",
       "    </tr>\n",
       "    <tr>\n",
       "      <th>108</th>\n",
       "      <td>22.270</td>\n",
       "      <td>1509.0</td>\n",
       "      <td>0.42640</td>\n",
       "      <td>0.07039</td>\n",
       "      <td>10.0500</td>\n",
       "      <td>0.086680</td>\n",
       "      <td>0.03112</td>\n",
       "      <td>28.01</td>\n",
       "      <td>0.1701</td>\n",
       "      <td>0.29100</td>\n",
       "      <td>MALIGNANT</td>\n",
       "    </tr>\n",
       "    <tr>\n",
       "      <th>109</th>\n",
       "      <td>11.340</td>\n",
       "      <td>396.5</td>\n",
       "      <td>0.05133</td>\n",
       "      <td>0.06529</td>\n",
       "      <td>1.5970</td>\n",
       "      <td>0.015570</td>\n",
       "      <td>0.01568</td>\n",
       "      <td>29.15</td>\n",
       "      <td>0.1699</td>\n",
       "      <td>0.08278</td>\n",
       "      <td>BENIGN</td>\n",
       "    </tr>\n",
       "  </tbody>\n",
       "</table>\n",
       "</div>"
      ],
      "text/plain": [
       "     mean radius  mean area  mean concavity  mean fractal dimension  \\\n",
       "100       13.610      582.7         0.08625                 0.05871   \n",
       "101        6.981      143.5         0.00000                 0.07818   \n",
       "102       12.180      458.7         0.02383                 0.05677   \n",
       "103        9.876      298.3         0.06154                 0.06322   \n",
       "104       10.490      336.1         0.02995                 0.06481   \n",
       "105       13.110      530.2         0.20710                 0.07692   \n",
       "106       11.640      412.5         0.07070                 0.06520   \n",
       "107       12.360      466.7         0.02643                 0.06066   \n",
       "108       22.270     1509.0         0.42640                 0.07039   \n",
       "109       11.340      396.5         0.05133                 0.06529   \n",
       "\n",
       "     perimeter error  compactness error  symmetry error  worst texture  \\\n",
       "100           2.8610           0.014880         0.01465          35.27   \n",
       "101           1.5530           0.010840         0.02659          19.54   \n",
       "102           1.1830           0.006098         0.01447          32.84   \n",
       "103           1.5280           0.021960         0.01609          26.83   \n",
       "104           2.3020           0.022190         0.02710          23.31   \n",
       "105           2.4100           0.029120         0.01547          22.40   \n",
       "106           2.1550           0.023100         0.01565          29.26   \n",
       "107           0.8484           0.010470         0.01251          27.49   \n",
       "108          10.0500           0.086680         0.03112          28.01   \n",
       "109           1.5970           0.015570         0.01568          29.15   \n",
       "\n",
       "     worst smoothness  worst concave points      CLASS  \n",
       "100            0.1265               0.11840  MALIGNANT  \n",
       "101            0.1584               0.00000     BENIGN  \n",
       "102            0.1123               0.07431     BENIGN  \n",
       "103            0.1559               0.09749     BENIGN  \n",
       "104            0.1219               0.03203     BENIGN  \n",
       "105            0.1862               0.19860  MALIGNANT  \n",
       "106            0.1688               0.12180     BENIGN  \n",
       "107            0.1184               0.08442     BENIGN  \n",
       "108            0.1701               0.29100  MALIGNANT  \n",
       "109            0.1699               0.08278     BENIGN  "
      ]
     },
     "execution_count": 7,
     "metadata": {},
     "output_type": "execute_result"
    }
   ],
   "source": [
    "# Load into a pandas dataframe and show some samples\n",
    "y_names = np.full_like(y, target_names[0].upper(), dtype=target_names.dtype)\n",
    "y_names[y==1] = target_names[1].upper()\n",
    "\n",
    "df_cancer = pd.DataFrame(data=X, columns=ds_cancer.feature_names)\n",
    "df_cancer = df_cancer.assign(CLASS=y_names)\n",
    "df_cancer.iloc[100:110, 0::3]"
   ]
  },
  {
   "cell_type": "code",
   "execution_count": 8,
   "metadata": {
    "slideshow": {
     "slide_type": "subslide"
    }
   },
   "outputs": [
    {
     "name": "stdout",
     "output_type": "stream",
     "text": [
      "train: X=(398, 30) y=(398,)\n",
      "test : X=(171, 30) y=(171,)\n"
     ]
    }
   ],
   "source": [
    "# Split into train and test sets\n",
    "from sklearn.model_selection import train_test_split\n",
    "\n",
    "X_train, X_test, y_train, y_test = train_test_split(X, y, test_size=0.3, random_state=42, stratify=y)\n",
    "\n",
    "print(f'train: X={X_train.shape} y={y_train.shape}')\n",
    "print(f'test : X={X_test.shape} y={y_test.shape}')"
   ]
  },
  {
   "cell_type": "code",
   "execution_count": 9,
   "metadata": {
    "slideshow": {
     "slide_type": "subslide"
    }
   },
   "outputs": [
    {
     "name": "stdout",
     "output_type": "stream",
     "text": [
      "mu_X.shape=(30,), sigma_X.shape=(30,)\n"
     ]
    }
   ],
   "source": [
    "# Standardize the features\n",
    "\n",
    "# Note: each feature is standardized individually:\n",
    "mu_X = np.mean(X_train, axis=0) # (N, D) -> (D,)\n",
    "sigma_X = np.std(X_train, axis=0)\n",
    "\n",
    "# Note: Broadcasting (N, D) with (D,) -> (N, D)\n",
    "X_train_sc = (X_train - mu_X) / sigma_X \n",
    "\n",
    "# Note: Test set must be transformed identically to training set\n",
    "X_test_sc = (X_test - mu_X) / sigma_X\n",
    "\n",
    "print(f'{mu_X.shape=}, {sigma_X.shape=}')"
   ]
  },
  {
   "cell_type": "markdown",
   "metadata": {
    "slideshow": {
     "slide_type": "slide"
    }
   },
   "source": [
    "## Model Implementation\n",
    "\n",
    "We'll implement based on the above definitions.\n",
    "\n",
    "The model will be implemented as a class with an API that conforms to the `sklearn` models, specifically see\n",
    "`sklearn`'s [`LogisticRegression`](http://scikit-learn.org/stable/modules/generated/sklearn.linear_model.LogisticRegression.html#sklearn.linear_model.LogisticRegression) class.\n"
   ]
  },
  {
   "cell_type": "code",
   "execution_count": 10,
   "metadata": {
    "slideshow": {
     "slide_type": "subslide"
    }
   },
   "outputs": [],
   "source": [
    "class BinaryLogisticRegression(object):\n",
    "    def __init__(self, n_iter=100, learn_rate=0.1):\n",
    "        self.n_iter = n_iter\n",
    "        self.learn_rate = learn_rate\n",
    "        self._w = None\n",
    "        \n",
    "    def _add_bias(self, X: np.ndarray):\n",
    "        # Add a bias term column\n",
    "        ones_col = np.ones((X.shape[0], 1))\n",
    "        return np.hstack([ones_col, X])\n",
    "    \n",
    "    def predict_proba(self, X: np.ndarray, add_bias=True):\n",
    "        X = self._add_bias(X) if add_bias else X\n",
    "        \n",
    "        # Apply logistic model\n",
    "        z = np.dot(X, self.weights) # (N, D) * (D,)\n",
    "        return logistic(z) # shape (N,)\n",
    "    \n",
    "    def predict(self, X: np.ndarray):\n",
    "        proba = self.predict_proba(X)\n",
    "        \n",
    "        # Apply naive threshold of .5\n",
    "        return np.array(proba > .5, dtype=np.int64)\n",
    "    \n",
    "    def fit(self, X: np.ndarray, y: np.ndarray):\n",
    "        n, d = X.shape # X is (N, D), y is (N,)\n",
    "        \n",
    "        # Initialize weights\n",
    "        self._w = np.random.randn(d + 1) * 0.1\n",
    "        \n",
    "        Xb = self._add_bias(X)\n",
    "\n",
    "        # Training loop\n",
    "        self._losses = []\n",
    "        for i in range(self.n_iter):\n",
    "            # Predicted probabilities\n",
    "            y_hat = self.predict_proba(Xb, add_bias=False)\n",
    "            \n",
    "            # Pointwise loss\n",
    "            loss = -y.dot(np.log(y_hat)) - ((1 - y).dot(np.log(1 - y_hat)))\n",
    "            \n",
    "            # See Exercise for gradient derivation\n",
    "            loss_grad = 1/n * Xb.T.dot(y_hat - y)  # dl/dw: (D+1, N) * (N,)\n",
    "            \n",
    "            # Optimization step\n",
    "            self._w += -self.learn_rate * loss_grad\n",
    "            self._losses.append(loss)\n",
    "            \n",
    "        return self\n",
    "    \n",
    "    @property\n",
    "    def weights(self):\n",
    "        if self._w is None:\n",
    "            raise ValueError(\"Model is not fitted\")\n",
    "        return self._w"
   ]
  },
  {
   "cell_type": "code",
   "execution_count": 11,
   "metadata": {
    "slideshow": {
     "slide_type": "subslide"
    }
   },
   "outputs": [
    {
     "data": {
      "image/png": "[encoded data removed]",
      "text/plain": [
       "<Figure size 640x480 with 1 Axes>"
      ]
     },
     "metadata": {},
     "output_type": "display_data"
    }
   ],
   "source": [
    "# Fit the model to the training data\n",
    "lr_model = BinaryLogisticRegression(n_iter=500, learn_rate=0.01)\n",
    "lr_model.fit(X_train_sc, y_train)\n",
    "\n",
    "plt.plot(lr_model._losses, label='$L_{\\mathcal{S}}$');\n",
    "plt.xlabel('training iteration'); plt.legend(); plt.grid(True); plt.title('Train loss');"
   ]
  },
  {
   "cell_type": "code",
   "execution_count": 12,
   "metadata": {
    "slideshow": {
     "slide_type": "subslide"
    }
   },
   "outputs": [
    {
     "name": "stdout",
     "output_type": "stream",
     "text": [
      "train set accuracy: 97.74%\n",
      "test set accuracy: 98.25%\n"
     ]
    }
   ],
   "source": [
    "y_train_pred = lr_model.predict(X_train_sc)\n",
    "train_acc = np.mean(y_train_pred == y_train)\n",
    "print(f'train set accuracy: {train_acc*100:.2f}%')\n",
    "\n",
    "y_test_pred = lr_model.predict(X_test_sc)\n",
    "test_acc = np.mean(y_test_pred == y_test)\n",
    "print(f'test set accuracy: {test_acc*100:.2f}%')"
   ]
  },
  {
   "cell_type": "markdown",
   "metadata": {
    "slideshow": {
     "slide_type": "slide"
    }
   },
   "source": [
    "## Part 2: Multiclass Logistic Regression"
   ]
  },
  {
   "cell_type": "markdown",
   "metadata": {
    "slideshow": {
     "slide_type": "fragment"
    }
   },
   "source": [
    "What if we have $C$ classes? Can we still use logistic regression?"
   ]
  },
  {
   "cell_type": "markdown",
   "metadata": {
    "slideshow": {
     "slide_type": "fragment"
    }
   },
   "source": [
    "A naïve approach is to train $C$ binary logistic regression classifiers, for example in a One vs. Rest scheme,\n",
    "and then predict based on the classifier returning the greatest probability."
   ]
  },
  {
   "cell_type": "markdown",
   "metadata": {
    "slideshow": {
     "slide_type": "fragment"
    }
   },
   "source": [
    "One major drawback of this approach is that it doesn't model the probability distribution over the possible classes, $P_{\\vec{Y}|\\vec{X}}$. \n",
    "\n",
    "For example, a sample might be classified as class A with probability $0.8$ and class $B$ with $0.7$ since nothing constrains the different classifiers.\n",
    "\n",
    "Also, without *calibrating* each model, their raw scores cannot reliably be compared even though they're in the same range."
   ]
  },
  {
   "cell_type": "markdown",
   "metadata": {
    "slideshow": {
     "slide_type": "subslide"
    }
   },
   "source": [
    "### The softmax function"
   ]
  },
  {
   "cell_type": "markdown",
   "metadata": {
    "slideshow": {
     "slide_type": "fragment"
    }
   },
   "source": [
    "**Softmax** is a function which can generate a probability distribution for our $C$ classes given raw prediction scores. It's defined as follows:\n",
    "\n",
    "$$\n",
    "\\mathrm{softmax}(\\vec{z}) = \\frac{e^{\\vec{z}}}{\\sum_{j=1}^{C} e^{z_j}}\n",
    "$$\n",
    "\n",
    "note that this is a vector valued, multivariate function. The exponent in the enumerator operates elementwise.\n",
    "\n",
    "The result of softmax is a vector with elements in $[0,1]$ that all sum to $1$."
   ]
  },
  {
   "cell_type": "markdown",
   "metadata": {
    "slideshow": {
     "slide_type": "subslide"
    }
   },
   "source": [
    "### The multiclass model\n",
    "\n",
    "Our model can now be defined as\n",
    "\n",
    "$$\\hat{\\vec{y}} = h(\\vec{x}) = \\mathrm{softmax}(\\mattr{W}\\vec{x}+\\vec{b})$$\n",
    "\n",
    "where,\n",
    "- $\\hat{\\vec{y}}$ is a $C\\times 1$ vector of class probabilities.\n",
    "- ${\\vec{x}}$ is a $D\\times 1$ sample.\n",
    "- $\\mat{W}$ is a $D\\times C$ matrix representing the per-class weights.\n",
    "- $\\vec{b}$ is a per-class bias vector of length $C$.\n",
    "\n",
    "Probabilistic interpretation: $\\hat{y}_j = P(\\rvar{Y}=j|\\rvec{X}=\\vec{x})$.\n",
    "\n",
    "While not very powerful on it's own, this type of model is commonly found at the end of deep neural networks performing classification tasks."
   ]
  },
  {
   "cell_type": "markdown",
   "metadata": {
    "slideshow": {
     "slide_type": "subslide"
    }
   },
   "source": [
    "To train such a model we need our labels to also be singleton probability distributions instead of simply the number of the correct class.\n",
    "\n",
    "We'll transform our labels to a 1-hot encoded vector corresponding to a delta distribution.\n",
    "For example, if $y^i=j$ then we'll create\n",
    "$$\n",
    "\\vec{y}^i = [0,\\dots,0,\\underbrace{1}_{j\\mathrm{th\\ component}},0,\\dots,0]^\\top\n",
    "$$"
   ]
  },
  {
   "cell_type": "markdown",
   "metadata": {
    "slideshow": {
     "slide_type": "subslide"
    }
   },
   "source": [
    "### Cross-Entropy loss\n",
    "\n",
    "After defining the 1-hot label vectors, the multiclass extension of the binary cross-entropy is straightforward:\n",
    "\n",
    "$$\n",
    "\\ell(\\vec{y}, \\hat{\\vec{y}}) = - \\vectr{y} \\log(\\hat{\\vec{y}})\n",
    "$$\n",
    "\n",
    "Note that only the probability assigned to the correct class affects the loss.\n",
    "\n",
    "Minimizing this cross entropy can be interpreted as trying to move the probability distribution of model predictions towards the singleton distribution of the appropriate class."
   ]
  },
  {
   "cell_type": "markdown",
   "metadata": {
    "slideshow": {
     "slide_type": "subslide"
    }
   },
   "source": [
    "### Dataset"
   ]
  },
  {
   "cell_type": "markdown",
   "metadata": {
    "slideshow": {
     "slide_type": "fragment"
    }
   },
   "source": [
    "This time we'll tackle an image classification task, the MNIST database of handwritten digits.\n",
    "\n",
    "Today this is also considered a toy dataset, even though it was used in the past to benchmark classification algorithms."
   ]
  },
  {
   "cell_type": "code",
   "execution_count": 13,
   "metadata": {
    "slideshow": {
     "slide_type": "subslide"
    }
   },
   "outputs": [],
   "source": [
    "import os\n",
    "import torch\n",
    "import torch.autograd\n",
    "import torch.utils.data\n",
    "import torchvision\n",
    "import torchvision.transforms\n",
    "import plot_utils\n",
    "\n",
    "from torch import Tensor"
   ]
  },
  {
   "cell_type": "code",
   "execution_count": 14,
   "metadata": {
    "slideshow": {
     "slide_type": "subslide"
    }
   },
   "outputs": [],
   "source": [
    "# Define the transforms that should be applied to each image in the dataset before returning it\n",
    "tf_ds = torchvision.transforms.ToTensor()\n",
    "\n",
    "batch_size = 64\n",
    "data_root = os.path.expanduser(\"~/.pytorch-datasets\")\n",
    "\n",
    "# Training and test datasets\n",
    "ds_train, ds_test = [\n",
    "    torchvision.datasets.MNIST(root=data_root, download=True, train=train, transform=tf_ds)   \n",
    "    for train in [True, False]\n",
    "]\n",
    "\n",
    "# Data loaders\n",
    "dl_train = torch.utils.data.DataLoader(ds_train, batch_size, shuffle=True)\n",
    "dl_test = torch.utils.data.DataLoader(ds_test, batch_size=len(ds_test))\n",
    "\n",
    "x0, y0 = ds_train[0]\n",
    "n_features = torch.numel(x0)\n",
    "n_classes = 10"
   ]
  },
  {
   "cell_type": "code",
   "execution_count": 15,
   "metadata": {
    "slideshow": {
     "slide_type": "subslide"
    }
   },
   "outputs": [
    {
     "name": "stdout",
     "output_type": "stream",
     "text": [
      "x0: torch.Size([1, 28, 28]), y0: 5\n"
     ]
    },
    {
     "data": {
      "image/png": "[encoded data removed]",
      "text/plain": [
       "<Figure size 800x800 with 10 Axes>"
      ]
     },
     "metadata": {},
     "output_type": "display_data"
    }
   ],
   "source": [
    "# Show first few samples\n",
    "print(f'x0: {x0.shape}, y0: {y0}')\n",
    "plot_utils.dataset_first_n(ds_train, 10, cmap='gray');"
   ]
  },
  {
   "cell_type": "markdown",
   "metadata": {
    "slideshow": {
     "slide_type": "fragment"
    }
   },
   "source": [
    "Note that when training, we're actually working with **batches** of samples (we'll learn about SGD in the sebsequent lectures/tutorials):"
   ]
  },
  {
   "cell_type": "code",
   "execution_count": 16,
   "metadata": {
    "slideshow": {
     "slide_type": "fragment"
    }
   },
   "outputs": [
    {
     "data": {
      "text/plain": [
       "torch.Size([64, 1, 28, 28])"
      ]
     },
     "execution_count": 16,
     "metadata": {},
     "output_type": "execute_result"
    }
   ],
   "source": [
    "x0, y0 = next(iter(dl_train))\n",
    "x0.shape"
   ]
  },
  {
   "cell_type": "markdown",
   "metadata": {
    "slideshow": {
     "slide_type": "subslide"
    }
   },
   "source": [
    "### Model Implementation"
   ]
  },
  {
   "cell_type": "markdown",
   "metadata": {
    "slideshow": {
     "slide_type": "fragment"
    }
   },
   "source": [
    "This time we'll use `pytorch` tensors and its [`autograd`](https://pytorch.org/docs/stable/autograd.html) functionality to implement our model.\n",
    "\n",
    "This means we wont have to implement any gradient calculations!"
   ]
  },
  {
   "cell_type": "markdown",
   "metadata": {
    "slideshow": {
     "slide_type": "subslide"
    }
   },
   "source": [
    "First, let's implement $\\mathrm{softmax}(\\cdot)$. We need a small numerical trick to prevent large numbers from exploding the exponentiation. You can verify that this doesn't influence the result."
   ]
  },
  {
   "cell_type": "code",
   "execution_count": 17,
   "metadata": {
    "slideshow": {
     "slide_type": "fragment"
    }
   },
   "outputs": [],
   "source": [
    "def softmax(z: Tensor) -> Tensor:\n",
    "    \"\"\"\n",
    "    softmax(z)= e^(z) / sum(e^z)\n",
    "    :param z: A batch of C class scores per N samples, shape (N, C).\n",
    "    :returns: softmax per sample, of shape (N, C).\n",
    "    \"\"\"\n",
    "\n",
    "    # normalization trick to prevent numerical instability:\n",
    "    # shift so that the highest class score (per sample) is 0\n",
    "    zmax, _ = torch.max(z, dim=1, keepdim=True)\n",
    "    z = z - zmax # note broadcasting: (N,C) - (N,1)\n",
    "    \n",
    "    exp_z = torch.exp(z) # (N, C)\n",
    "    sum_exp = torch.sum(exp_z, dim=1, keepdim=True) # (N, 1)\n",
    "    return exp_z / sum_exp # probabilities, (N,C)"
   ]
  },
  {
   "cell_type": "markdown",
   "metadata": {
    "slideshow": {
     "slide_type": "subslide"
    }
   },
   "source": [
    "Let's test our softmax and calculate its derivative with `autograd`."
   ]
  },
  {
   "cell_type": "code",
   "execution_count": 44,
   "metadata": {
    "slideshow": {
     "slide_type": "fragment"
    }
   },
   "outputs": [
    {
     "data": {
      "text/plain": [
       "tensor([[0.0803, 0.1914, 0.7283],\n",
       "        [0.0947, 0.3873, 0.5179],\n",
       "        [0.5115, 0.3734, 0.1151],\n",
       "        [0.2145, 0.2478, 0.5377]], grad_fn=<DivBackward0>)"
      ]
     },
     "execution_count": 44,
     "metadata": {},
     "output_type": "execute_result"
    }
   ],
   "source": [
    "z = torch.randn(size=(4,3), requires_grad=True)\n",
    "y = softmax(z)\n",
    "y"
   ]
  },
  {
   "cell_type": "code",
   "execution_count": 43,
   "metadata": {
    "slideshow": {
     "slide_type": "fragment"
    }
   },
   "outputs": [
    {
     "data": {
      "text/plain": [
       "(tensor([[ 0.0000e+00,  0.0000e+00,  0.0000e+00],\n",
       "         [ 4.5784e-08,  2.4639e-08, -7.0423e-08],\n",
       "         [ 0.0000e+00,  0.0000e+00,  0.0000e+00],\n",
       "         [ 0.0000e+00,  0.0000e+00,  0.0000e+00]]),)"
      ]
     },
     "execution_count": 43,
     "metadata": {},
     "output_type": "execute_result"
    }
   ],
   "source": [
    "y = softmax(z)\n",
    "L = torch.sum(y) # scalar function of z \n",
    "\n",
    "# Calculate gradient: dL/dz\n",
    "torch.autograd.grad(L, z)"
   ]
  },
  {
   "cell_type": "markdown",
   "metadata": {
    "slideshow": {
     "slide_type": "subslide"
    }
   },
   "source": [
    "Instead of calling `autograd.grad()` directly with specific input tensors, `pytorch` provides us with a way to calculate the derivative of a tensor w.r.t. all the tensors which are **leaves** in it's computation graph (only $\\vec{z}$ in this case).\n",
    "\n",
    "This can be done by calling `.backward()` on a scalar tensor.\n",
    "As a result, the `.grad` property of leaf tensors will be populated with the gradient:"
   ]
  },
  {
   "cell_type": "code",
   "execution_count": 45,
   "metadata": {
    "slideshow": {
     "slide_type": "fragment"
    }
   },
   "outputs": [
    {
     "data": {
      "text/plain": [
       "(tensor([[ 0.0000e+00,  0.0000e+00,  0.0000e+00],\n",
       "         [ 3.4733e-09, -2.6157e-09, -8.5769e-10],\n",
       "         [ 0.0000e+00,  0.0000e+00,  0.0000e+00],\n",
       "         [ 0.0000e+00,  0.0000e+00,  0.0000e+00]]),\n",
       " tensor([[ 3.4733e-09, -2.6157e-09, -8.5769e-10]]))"
      ]
     },
     "execution_count": 45,
     "metadata": {},
     "output_type": "execute_result"
    }
   ],
   "source": [
    "# Example with two leaves in the computaion graph\n",
    "z1 = torch.randn(size=(4,3), requires_grad=True)\n",
    "z2 = torch.randn(size=(1,3), requires_grad=True)\n",
    "z = z1 + z2\n",
    "\n",
    "y = softmax(z)\n",
    "L = torch.sum(y) # scalar function of z \n",
    "L.backward()     # Calculate derivative w.r.t. all leaves\n",
    "\n",
    "z1.grad, z2.grad # The leaves z1, z2 will have their .grad populated"
   ]
  },
  {
   "cell_type": "markdown",
   "metadata": {
    "slideshow": {
     "slide_type": "subslide"
    }
   },
   "source": [
    "Here's the resulting computation graph:"
   ]
  },
  {
   "cell_type": "code",
   "execution_count": 46,
   "metadata": {
    "slideshow": {
     "slide_type": "fragment"
    }
   },
   "outputs": [
    {
     "data": {
      "image/svg+xml": [
       "<?xml version=\"1.0\" encoding=\"UTF-8\" standalone=\"no\"?>\n",
       "<!DOCTYPE svg PUBLIC \"-//W3C//DTD SVG 1.1//EN\"\n",
       " \"http://www.w3.org/Graphics/SVG/1.1/DTD/svg11.dtd\">\n",
       "<!-- Generated by graphviz version 10.0.1 (20240210.2158)\n",
       " -->\n",
       "<!-- Pages: 1 -->\n",
       "<svg width=\"226pt\" height=\"548pt\"\n",
       " viewBox=\"0.00 0.00 226.00 547.75\" xmlns=\"http://www.w3.org/2000/svg\" xmlns:xlink=\"http://www.w3.org/1999/xlink\">\n",
       "<g id=\"graph0\" class=\"graph\" transform=\"scale(1 1) rotate(0) translate(4 543.75)\">\n",
       "<polygon fill=\"white\" stroke=\"none\" points=\"-4,4 -4,-543.75 222,-543.75 222,4 -4,4\"/>\n",
       "<!-- 140575681449072 -->\n",
       "<g id=\"node1\" class=\"node\">\n",
       "<title>140575681449072</title>\n",
       "<polygon fill=\"#caff70\" stroke=\"black\" points=\"136,-31.25 82,-31.25 82,0 136,0 136,-31.25\"/>\n",
       "<text text-anchor=\"middle\" x=\"109\" y=\"-5.75\" font-family=\"monospace\" font-size=\"10.00\"> ()</text>\n",
       "</g>\n",
       "<!-- 140574283294560 -->\n",
       "<g id=\"node2\" class=\"node\">\n",
       "<title>140574283294560</title>\n",
       "<polygon fill=\"lightgrey\" stroke=\"black\" points=\"153,-86.5 65,-86.5 65,-67.25 153,-67.25 153,-86.5\"/>\n",
       "<text text-anchor=\"middle\" x=\"109\" y=\"-73\" font-family=\"monospace\" font-size=\"10.00\">SumBackward0</text>\n",
       "</g>\n",
       "<!-- 140574283294560&#45;&gt;140575681449072 -->\n",
       "<g id=\"edge13\" class=\"edge\">\n",
       "<title>140574283294560&#45;&gt;140575681449072</title>\n",
       "<path fill=\"none\" stroke=\"black\" d=\"M109,-66.88C109,-60.54 109,-51.7 109,-43.2\"/>\n",
       "<polygon fill=\"black\" stroke=\"black\" points=\"112.5,-43.22 109,-33.22 105.5,-43.22 112.5,-43.22\"/>\n",
       "</g>\n",
       "<!-- 140574283293360 -->\n",
       "<g id=\"node3\" class=\"node\">\n",
       "<title>140574283293360</title>\n",
       "<polygon fill=\"lightgrey\" stroke=\"black\" points=\"153,-141.75 65,-141.75 65,-122.5 153,-122.5 153,-141.75\"/>\n",
       "<text text-anchor=\"middle\" x=\"109\" y=\"-128.25\" font-family=\"monospace\" font-size=\"10.00\">DivBackward0</text>\n",
       "</g>\n",
       "<!-- 140574283293360&#45;&gt;140574283294560 -->\n",
       "<g id=\"edge1\" class=\"edge\">\n",
       "<title>140574283293360&#45;&gt;140574283294560</title>\n",
       "<path fill=\"none\" stroke=\"black\" d=\"M109,-122.33C109,-115.82 109,-106.67 109,-98.37\"/>\n",
       "<polygon fill=\"black\" stroke=\"black\" points=\"112.5,-98.37 109,-88.37 105.5,-98.37 112.5,-98.37\"/>\n",
       "</g>\n",
       "<!-- 140574283292784 -->\n",
       "<g id=\"node4\" class=\"node\">\n",
       "<title>140574283292784</title>\n",
       "<polygon fill=\"lightgrey\" stroke=\"black\" points=\"153,-252.25 65,-252.25 65,-233 153,-233 153,-252.25\"/>\n",
       "<text text-anchor=\"middle\" x=\"109\" y=\"-238.75\" font-family=\"monospace\" font-size=\"10.00\">ExpBackward0</text>\n",
       "</g>\n",
       "<!-- 140574283292784&#45;&gt;140574283293360 -->\n",
       "<g id=\"edge2\" class=\"edge\">\n",
       "<title>140574283292784&#45;&gt;140574283293360</title>\n",
       "<path fill=\"none\" stroke=\"black\" d=\"M104.48,-232.68C100.29,-223.86 94.37,-209.88 92,-197 89.2,-181.79 94.06,-164.9 99.29,-152.3\"/>\n",
       "<polygon fill=\"black\" stroke=\"black\" points=\"102.34,-154.04 103.35,-143.49 95.99,-151.11 102.34,-154.04\"/>\n",
       "</g>\n",
       "<!-- 140574283294080 -->\n",
       "<g id=\"node12\" class=\"node\">\n",
       "<title>140574283294080</title>\n",
       "<polygon fill=\"lightgrey\" stroke=\"black\" points=\"189,-197 101,-197 101,-177.75 189,-177.75 189,-197\"/>\n",
       "<text text-anchor=\"middle\" x=\"145\" y=\"-183.5\" font-family=\"monospace\" font-size=\"10.00\">SumBackward1</text>\n",
       "</g>\n",
       "<!-- 140574283292784&#45;&gt;140574283294080 -->\n",
       "<g id=\"edge12\" class=\"edge\">\n",
       "<title>140574283292784&#45;&gt;140574283294080</title>\n",
       "<path fill=\"none\" stroke=\"black\" d=\"M114.94,-232.83C119.71,-225.78 126.56,-215.65 132.52,-206.83\"/>\n",
       "<polygon fill=\"black\" stroke=\"black\" points=\"135.38,-208.86 138.08,-198.61 129.58,-204.94 135.38,-208.86\"/>\n",
       "</g>\n",
       "<!-- 140574283296240 -->\n",
       "<g id=\"node5\" class=\"node\">\n",
       "<title>140574283296240</title>\n",
       "<polygon fill=\"lightgrey\" stroke=\"black\" points=\"153,-307.5 65,-307.5 65,-288.25 153,-288.25 153,-307.5\"/>\n",
       "<text text-anchor=\"middle\" x=\"109\" y=\"-294\" font-family=\"monospace\" font-size=\"10.00\">SubBackward0</text>\n",
       "</g>\n",
       "<!-- 140574283296240&#45;&gt;140574283292784 -->\n",
       "<g id=\"edge3\" class=\"edge\">\n",
       "<title>140574283296240&#45;&gt;140574283292784</title>\n",
       "<path fill=\"none\" stroke=\"black\" d=\"M109,-288.08C109,-281.57 109,-272.42 109,-264.12\"/>\n",
       "<polygon fill=\"black\" stroke=\"black\" points=\"112.5,-264.12 109,-254.12 105.5,-264.12 112.5,-264.12\"/>\n",
       "</g>\n",
       "<!-- 140575093415456 -->\n",
       "<g id=\"node6\" class=\"node\">\n",
       "<title>140575093415456</title>\n",
       "<polygon fill=\"lightgrey\" stroke=\"black\" points=\"153,-418 65,-418 65,-398.75 153,-398.75 153,-418\"/>\n",
       "<text text-anchor=\"middle\" x=\"109\" y=\"-404.5\" font-family=\"monospace\" font-size=\"10.00\">AddBackward0</text>\n",
       "</g>\n",
       "<!-- 140575093415456&#45;&gt;140574283296240 -->\n",
       "<g id=\"edge4\" class=\"edge\">\n",
       "<title>140575093415456&#45;&gt;140574283296240</title>\n",
       "<path fill=\"none\" stroke=\"black\" d=\"M104.48,-398.43C100.29,-389.61 94.37,-375.63 92,-362.75 89.2,-347.54 94.06,-330.65 99.29,-318.05\"/>\n",
       "<polygon fill=\"black\" stroke=\"black\" points=\"102.34,-319.79 103.35,-309.24 95.99,-316.86 102.34,-319.79\"/>\n",
       "</g>\n",
       "<!-- 140574283294752 -->\n",
       "<g id=\"node11\" class=\"node\">\n",
       "<title>140574283294752</title>\n",
       "<polygon fill=\"lightgrey\" stroke=\"black\" points=\"189,-362.75 101,-362.75 101,-343.5 189,-343.5 189,-362.75\"/>\n",
       "<text text-anchor=\"middle\" x=\"145\" y=\"-349.25\" font-family=\"monospace\" font-size=\"10.00\">MaxBackward0</text>\n",
       "</g>\n",
       "<!-- 140575093415456&#45;&gt;140574283294752 -->\n",
       "<g id=\"edge10\" class=\"edge\">\n",
       "<title>140575093415456&#45;&gt;140574283294752</title>\n",
       "<path fill=\"none\" stroke=\"black\" d=\"M114.94,-398.58C119.71,-391.53 126.56,-381.4 132.52,-372.58\"/>\n",
       "<polygon fill=\"black\" stroke=\"black\" points=\"135.38,-374.61 138.08,-364.36 129.58,-370.69 135.38,-374.61\"/>\n",
       "</g>\n",
       "<!-- 140575667052208 -->\n",
       "<g id=\"node7\" class=\"node\">\n",
       "<title>140575667052208</title>\n",
       "<polygon fill=\"lightgrey\" stroke=\"black\" points=\"100,-473.25 0,-473.25 0,-454 100,-454 100,-473.25\"/>\n",
       "<text text-anchor=\"middle\" x=\"50\" y=\"-459.75\" font-family=\"monospace\" font-size=\"10.00\">AccumulateGrad</text>\n",
       "</g>\n",
       "<!-- 140575667052208&#45;&gt;140575093415456 -->\n",
       "<g id=\"edge5\" class=\"edge\">\n",
       "<title>140575667052208&#45;&gt;140575093415456</title>\n",
       "<path fill=\"none\" stroke=\"black\" d=\"M60.01,-453.59C68.37,-446.05 80.5,-435.1 90.6,-425.98\"/>\n",
       "<polygon fill=\"black\" stroke=\"black\" points=\"92.94,-428.59 98.02,-419.29 88.25,-423.39 92.94,-428.59\"/>\n",
       "</g>\n",
       "<!-- 140575633224064 -->\n",
       "<g id=\"node8\" class=\"node\">\n",
       "<title>140575633224064</title>\n",
       "<polygon fill=\"lightblue\" stroke=\"black\" points=\"79,-539.75 21,-539.75 21,-509.25 79,-509.25 79,-539.75\"/>\n",
       "<text text-anchor=\"middle\" x=\"50\" y=\"-526.25\" font-family=\"monospace\" font-size=\"10.00\">z1</text>\n",
       "<text text-anchor=\"middle\" x=\"50\" y=\"-515\" font-family=\"monospace\" font-size=\"10.00\"> (4, 3)</text>\n",
       "</g>\n",
       "<!-- 140575633224064&#45;&gt;140575667052208 -->\n",
       "<g id=\"edge6\" class=\"edge\">\n",
       "<title>140575633224064&#45;&gt;140575667052208</title>\n",
       "<path fill=\"none\" stroke=\"black\" d=\"M50,-508.95C50,-501.71 50,-492.84 50,-484.94\"/>\n",
       "<polygon fill=\"black\" stroke=\"black\" points=\"53.5,-485.21 50,-475.21 46.5,-485.21 53.5,-485.21\"/>\n",
       "</g>\n",
       "<!-- 140575667048848 -->\n",
       "<g id=\"node9\" class=\"node\">\n",
       "<title>140575667048848</title>\n",
       "<polygon fill=\"lightgrey\" stroke=\"black\" points=\"218,-473.25 118,-473.25 118,-454 218,-454 218,-473.25\"/>\n",
       "<text text-anchor=\"middle\" x=\"168\" y=\"-459.75\" font-family=\"monospace\" font-size=\"10.00\">AccumulateGrad</text>\n",
       "</g>\n",
       "<!-- 140575667048848&#45;&gt;140575093415456 -->\n",
       "<g id=\"edge7\" class=\"edge\">\n",
       "<title>140575667048848&#45;&gt;140575093415456</title>\n",
       "<path fill=\"none\" stroke=\"black\" d=\"M157.99,-453.59C149.63,-446.05 137.5,-435.1 127.4,-425.98\"/>\n",
       "<polygon fill=\"black\" stroke=\"black\" points=\"129.75,-423.39 119.98,-419.29 125.06,-428.59 129.75,-423.39\"/>\n",
       "</g>\n",
       "<!-- 140574825290224 -->\n",
       "<g id=\"node10\" class=\"node\">\n",
       "<title>140574825290224</title>\n",
       "<polygon fill=\"lightblue\" stroke=\"black\" points=\"197,-539.75 139,-539.75 139,-509.25 197,-509.25 197,-539.75\"/>\n",
       "<text text-anchor=\"middle\" x=\"168\" y=\"-526.25\" font-family=\"monospace\" font-size=\"10.00\">z2</text>\n",
       "<text text-anchor=\"middle\" x=\"168\" y=\"-515\" font-family=\"monospace\" font-size=\"10.00\"> (1, 3)</text>\n",
       "</g>\n",
       "<!-- 140574825290224&#45;&gt;140575667048848 -->\n",
       "<g id=\"edge8\" class=\"edge\">\n",
       "<title>140574825290224&#45;&gt;140575667048848</title>\n",
       "<path fill=\"none\" stroke=\"black\" d=\"M168,-508.95C168,-501.71 168,-492.84 168,-484.94\"/>\n",
       "<polygon fill=\"black\" stroke=\"black\" points=\"171.5,-485.21 168,-475.21 164.5,-485.21 171.5,-485.21\"/>\n",
       "</g>\n",
       "<!-- 140574283294752&#45;&gt;140574283296240 -->\n",
       "<g id=\"edge9\" class=\"edge\">\n",
       "<title>140574283294752&#45;&gt;140574283296240</title>\n",
       "<path fill=\"none\" stroke=\"black\" d=\"M139.06,-343.33C134.29,-336.28 127.44,-326.15 121.48,-317.33\"/>\n",
       "<polygon fill=\"black\" stroke=\"black\" points=\"124.42,-315.44 115.92,-309.11 118.62,-319.36 124.42,-315.44\"/>\n",
       "</g>\n",
       "<!-- 140574283294080&#45;&gt;140574283293360 -->\n",
       "<g id=\"edge11\" class=\"edge\">\n",
       "<title>140574283294080&#45;&gt;140574283293360</title>\n",
       "<path fill=\"none\" stroke=\"black\" d=\"M139.06,-177.58C134.29,-170.53 127.44,-160.4 121.48,-151.58\"/>\n",
       "<polygon fill=\"black\" stroke=\"black\" points=\"124.42,-149.69 115.92,-143.36 118.62,-153.61 124.42,-149.69\"/>\n",
       "</g>\n",
       "</g>\n",
       "</svg>\n"
      ],
      "text/plain": [
       "<graphviz.graphs.Digraph at 0x7fda003861f0>"
      ]
     },
     "execution_count": 46,
     "metadata": {},
     "output_type": "execute_result"
    }
   ],
   "source": [
    "import torchviz\n",
    "torchviz.make_dot(L, params=dict(z1=z1, z2=z2))"
   ]
  },
  {
   "cell_type": "markdown",
   "metadata": {
    "slideshow": {
     "slide_type": "subslide"
    }
   },
   "source": [
    "The next ingredient of the solution is the cross-entropy loss function.\n",
    "\n",
    "Recall that we need to encode our ground-truth labels as one-hot vectors to apply the multiclass cross-entropy."
   ]
  },
  {
   "cell_type": "code",
   "execution_count": 22,
   "metadata": {
    "slideshow": {
     "slide_type": "subslide"
    }
   },
   "outputs": [],
   "source": [
    "def cross_entropy_loss(y: Tensor, y_hat: Tensor, eps=1e-6):\n",
    "    \"\"\"\n",
    "    :param y:  Onehot-encoded ground-truth labels, shape (N, C)\n",
    "    :param y_hat: A batch of probabilities, shape (N,C)\n",
    "    :returns: Cross entropy between y and y_hat.\n",
    "    \"\"\"\n",
    "    return torch.sum( - y * torch.log(y_hat + eps) )"
   ]
  },
  {
   "cell_type": "code",
   "execution_count": 23,
   "metadata": {
    "slideshow": {
     "slide_type": "subslide"
    }
   },
   "outputs": [],
   "source": [
    "def onehot(y: Tensor, n_classes: int) -> Tensor:\n",
    "    \"\"\"\n",
    "    Encodes y of shape (N,) containing class labels in the range [0,C-1] as one-hot of shape (N,C).\n",
    "    \"\"\"\n",
    "    y = y.reshape(-1, 1) # Reshape y to (N,1)\n",
    "    zeros = torch.zeros(size=(len(y), n_classes), dtype=torch.float32) # (N,C)\n",
    "    ones = torch.ones_like(y, dtype=torch.float32)\n",
    "    \n",
    "    # scatter: put items from 'src' into 'dest' at indices correspondnig to 'index' along 'dim'\n",
    "    y_onehot = torch.scatter(zeros, dim=1, index=y, src=ones)\n",
    "    \n",
    "    return y_onehot # result has shape (N, C)"
   ]
  },
  {
   "cell_type": "code",
   "execution_count": 24,
   "metadata": {
    "scrolled": true,
    "slideshow": {
     "slide_type": "fragment"
    }
   },
   "outputs": [
    {
     "data": {
      "text/plain": [
       "tensor([[0., 1., 0., 0., 0., 0., 0., 0., 0., 0.],\n",
       "        [0., 0., 0., 1., 0., 0., 0., 0., 0., 0.],\n",
       "        [0., 0., 0., 0., 0., 1., 0., 0., 0., 0.],\n",
       "        [1., 0., 0., 0., 0., 0., 0., 0., 0., 0.]])"
      ]
     },
     "execution_count": 24,
     "metadata": {},
     "output_type": "execute_result"
    }
   ],
   "source": [
    "onehot(torch.tensor([1, 3, 5, 0]), n_classes=10)"
   ]
  },
  {
   "cell_type": "markdown",
   "metadata": {
    "slideshow": {
     "slide_type": "subslide"
    }
   },
   "source": [
    "Our model itself will just hold the parameters $\\mat{W}$ and $\\vec{b}$ and apply them to an input batch $\\mat{X}$."
   ]
  },
  {
   "cell_type": "code",
   "execution_count": 25,
   "metadata": {
    "slideshow": {
     "slide_type": "fragment"
    }
   },
   "outputs": [],
   "source": [
    "class MCLogisticRegression(object):\n",
    "    def __init__(self, n_features: int, n_classes: int):\n",
    "        # Define our parameter tensors: notice that now W and b are separate\n",
    "        # Specify we want to track their gradients with autograd\n",
    "        self.W = torch.randn(n_features, n_classes, requires_grad=True)\n",
    "        self.b = torch.randn(n_classes, requires_grad=True)\n",
    "        self.params = [self.W, self.b]\n",
    "    \n",
    "    def __call__(self, *args):\n",
    "        return self.forward(*args)\n",
    "\n",
    "    def forward(self, X: Tensor):\n",
    "        \"\"\"\n",
    "        :param X: A batch of samples, (N, D)\n",
    "        :return: A batch of class probabilities, (N, C)\n",
    "        \"\"\"\n",
    "        # X is (N, D), W is (D, C), b is (C,)\n",
    "        z = torch.mm(X, self.W) + self.b\n",
    "        y_hat = softmax(z)\n",
    "        return y_hat # (N, C)"
   ]
  },
  {
   "cell_type": "markdown",
   "metadata": {
    "slideshow": {
     "slide_type": "subslide"
    }
   },
   "source": [
    "Let's try out the model and loss on the first batch.\n",
    "\n",
    "Note that we naïvely treat each pixel as a separate feature. We'll learn how to properly work with images in a future tutorial."
   ]
  },
  {
   "cell_type": "code",
   "execution_count": 26,
   "metadata": {
    "slideshow": {
     "slide_type": "fragment"
    }
   },
   "outputs": [
    {
     "name": "stdout",
     "output_type": "stream",
     "text": [
      "x0_flat: torch.Size([64, 784])\n",
      "y0_onehot: torch.Size([64, 10])\n",
      "\n"
     ]
    }
   ],
   "source": [
    "model = MCLogisticRegression(n_features, n_classes)\n",
    "\n",
    "# Flatten images and convert labels to onehot\n",
    "x0_flat = x0.reshape(-1, n_features)\n",
    "y0_onehot =  onehot(y0, n_classes)\n",
    "\n",
    "print(f'x0_flat: {x0_flat.shape}')\n",
    "print(f'y0_onehot: {y0_onehot.shape}\\n')"
   ]
  },
  {
   "cell_type": "code",
   "execution_count": 27,
   "metadata": {
    "slideshow": {
     "slide_type": "fragment"
    }
   },
   "outputs": [
    {
     "name": "stdout",
     "output_type": "stream",
     "text": [
      "loss =  tensor(670.8378, grad_fn=<SumBackward0>)\n"
     ]
    }
   ],
   "source": [
    "# Forward pass and compute loss\n",
    "y0_hat = model(x0_flat)\n",
    "loss = cross_entropy_loss(y0_onehot, y0_hat)\n",
    "print('loss = ', loss)\n",
    "\n",
    "# Backward pass to populate .grad on leaf nodes\n",
    "loss.backward()"
   ]
  },
  {
   "cell_type": "markdown",
   "metadata": {
    "slideshow": {
     "slide_type": "subslide"
    }
   },
   "source": [
    "Since we specified `require_grad=True` for our model parameters, every operation performed on these tensors is recorded, and a **computation graph** can be built, which included the model and loss calculation.\n",
    "Notice that the **leaves** in this graph are our parameters $\\mat{W}$ and $\\vec{b}$."
   ]
  },
  {
   "cell_type": "code",
   "execution_count": 28,
   "metadata": {
    "slideshow": {
     "slide_type": "subslide"
    }
   },
   "outputs": [
    {
     "data": {
      "image/svg+xml": [
       "<?xml version=\"1.0\" encoding=\"UTF-8\" standalone=\"no\"?>\n",
       "<!DOCTYPE svg PUBLIC \"-//W3C//DTD SVG 1.1//EN\"\n",
       " \"http://www.w3.org/Graphics/SVG/1.1/DTD/svg11.dtd\">\n",
       "<!-- Generated by graphviz version 10.0.1 (20240210.2158)\n",
       " -->\n",
       "<!-- Pages: 1 -->\n",
       "<svg width=\"217pt\" height=\"780pt\"\n",
       " viewBox=\"0.00 0.00 217.00 780.00\" xmlns=\"http://www.w3.org/2000/svg\" xmlns:xlink=\"http://www.w3.org/1999/xlink\">\n",
       "<g id=\"graph0\" class=\"graph\" transform=\"scale(1 1) rotate(0) translate(4 776)\">\n",
       "<polygon fill=\"white\" stroke=\"none\" points=\"-4,4 -4,-776 213,-776 213,4 -4,4\"/>\n",
       "<!-- 140574284838848 -->\n",
       "<g id=\"node1\" class=\"node\">\n",
       "<title>140574284838848</title>\n",
       "<polygon fill=\"#caff70\" stroke=\"black\" points=\"131,-31.25 77,-31.25 77,0 131,0 131,-31.25\"/>\n",
       "<text text-anchor=\"middle\" x=\"104\" y=\"-5.75\" font-family=\"monospace\" font-size=\"10.00\"> ()</text>\n",
       "</g>\n",
       "<!-- 140574284886464 -->\n",
       "<g id=\"node2\" class=\"node\">\n",
       "<title>140574284886464</title>\n",
       "<polygon fill=\"lightgrey\" stroke=\"black\" points=\"148,-86.5 60,-86.5 60,-67.25 148,-67.25 148,-86.5\"/>\n",
       "<text text-anchor=\"middle\" x=\"104\" y=\"-73\" font-family=\"monospace\" font-size=\"10.00\">SumBackward0</text>\n",
       "</g>\n",
       "<!-- 140574284886464&#45;&gt;140574284838848 -->\n",
       "<g id=\"edge17\" class=\"edge\">\n",
       "<title>140574284886464&#45;&gt;140574284838848</title>\n",
       "<path fill=\"none\" stroke=\"black\" d=\"M104,-66.88C104,-60.54 104,-51.7 104,-43.2\"/>\n",
       "<polygon fill=\"black\" stroke=\"black\" points=\"107.5,-43.22 104,-33.22 100.5,-43.22 107.5,-43.22\"/>\n",
       "</g>\n",
       "<!-- 140574284888048 -->\n",
       "<g id=\"node3\" class=\"node\">\n",
       "<title>140574284888048</title>\n",
       "<polygon fill=\"lightgrey\" stroke=\"black\" points=\"148,-141.75 60,-141.75 60,-122.5 148,-122.5 148,-141.75\"/>\n",
       "<text text-anchor=\"middle\" x=\"104\" y=\"-128.25\" font-family=\"monospace\" font-size=\"10.00\">MulBackward0</text>\n",
       "</g>\n",
       "<!-- 140574284888048&#45;&gt;140574284886464 -->\n",
       "<g id=\"edge1\" class=\"edge\">\n",
       "<title>140574284888048&#45;&gt;140574284886464</title>\n",
       "<path fill=\"none\" stroke=\"black\" d=\"M104,-122.33C104,-115.82 104,-106.67 104,-98.37\"/>\n",
       "<polygon fill=\"black\" stroke=\"black\" points=\"107.5,-98.37 104,-88.37 100.5,-98.37 107.5,-98.37\"/>\n",
       "</g>\n",
       "<!-- 140574284886416 -->\n",
       "<g id=\"node4\" class=\"node\">\n",
       "<title>140574284886416</title>\n",
       "<polygon fill=\"lightgrey\" stroke=\"black\" points=\"148,-197 60,-197 60,-177.75 148,-177.75 148,-197\"/>\n",
       "<text text-anchor=\"middle\" x=\"104\" y=\"-183.5\" font-family=\"monospace\" font-size=\"10.00\">LogBackward0</text>\n",
       "</g>\n",
       "<!-- 140574284886416&#45;&gt;140574284888048 -->\n",
       "<g id=\"edge2\" class=\"edge\">\n",
       "<title>140574284886416&#45;&gt;140574284888048</title>\n",
       "<path fill=\"none\" stroke=\"black\" d=\"M104,-177.58C104,-171.07 104,-161.92 104,-153.62\"/>\n",
       "<polygon fill=\"black\" stroke=\"black\" points=\"107.5,-153.62 104,-143.62 100.5,-153.62 107.5,-153.62\"/>\n",
       "</g>\n",
       "<!-- 140574284887184 -->\n",
       "<g id=\"node5\" class=\"node\">\n",
       "<title>140574284887184</title>\n",
       "<polygon fill=\"lightgrey\" stroke=\"black\" points=\"148,-252.25 60,-252.25 60,-233 148,-233 148,-252.25\"/>\n",
       "<text text-anchor=\"middle\" x=\"104\" y=\"-238.75\" font-family=\"monospace\" font-size=\"10.00\">AddBackward0</text>\n",
       "</g>\n",
       "<!-- 140574284887184&#45;&gt;140574284886416 -->\n",
       "<g id=\"edge3\" class=\"edge\">\n",
       "<title>140574284887184&#45;&gt;140574284886416</title>\n",
       "<path fill=\"none\" stroke=\"black\" d=\"M104,-232.83C104,-226.32 104,-217.17 104,-208.87\"/>\n",
       "<polygon fill=\"black\" stroke=\"black\" points=\"107.5,-208.87 104,-198.87 100.5,-208.87 107.5,-208.87\"/>\n",
       "</g>\n",
       "<!-- 140574284886608 -->\n",
       "<g id=\"node6\" class=\"node\">\n",
       "<title>140574284886608</title>\n",
       "<polygon fill=\"lightgrey\" stroke=\"black\" points=\"148,-307.5 60,-307.5 60,-288.25 148,-288.25 148,-307.5\"/>\n",
       "<text text-anchor=\"middle\" x=\"104\" y=\"-294\" font-family=\"monospace\" font-size=\"10.00\">DivBackward0</text>\n",
       "</g>\n",
       "<!-- 140574284886608&#45;&gt;140574284887184 -->\n",
       "<g id=\"edge4\" class=\"edge\">\n",
       "<title>140574284886608&#45;&gt;140574284887184</title>\n",
       "<path fill=\"none\" stroke=\"black\" d=\"M104,-288.08C104,-281.57 104,-272.42 104,-264.12\"/>\n",
       "<polygon fill=\"black\" stroke=\"black\" points=\"107.5,-264.12 104,-254.12 100.5,-264.12 107.5,-264.12\"/>\n",
       "</g>\n",
       "<!-- 140574284886992 -->\n",
       "<g id=\"node7\" class=\"node\">\n",
       "<title>140574284886992</title>\n",
       "<polygon fill=\"lightgrey\" stroke=\"black\" points=\"148,-418 60,-418 60,-398.75 148,-398.75 148,-418\"/>\n",
       "<text text-anchor=\"middle\" x=\"104\" y=\"-404.5\" font-family=\"monospace\" font-size=\"10.00\">ExpBackward0</text>\n",
       "</g>\n",
       "<!-- 140574284886992&#45;&gt;140574284886608 -->\n",
       "<g id=\"edge5\" class=\"edge\">\n",
       "<title>140574284886992&#45;&gt;140574284886608</title>\n",
       "<path fill=\"none\" stroke=\"black\" d=\"M99.48,-398.43C95.29,-389.61 89.37,-375.63 87,-362.75 84.2,-347.54 89.06,-330.65 94.29,-318.05\"/>\n",
       "<polygon fill=\"black\" stroke=\"black\" points=\"97.34,-319.79 98.35,-309.24 90.99,-316.86 97.34,-319.79\"/>\n",
       "</g>\n",
       "<!-- 140574284886800 -->\n",
       "<g id=\"node16\" class=\"node\">\n",
       "<title>140574284886800</title>\n",
       "<polygon fill=\"lightgrey\" stroke=\"black\" points=\"184,-362.75 96,-362.75 96,-343.5 184,-343.5 184,-362.75\"/>\n",
       "<text text-anchor=\"middle\" x=\"140\" y=\"-349.25\" font-family=\"monospace\" font-size=\"10.00\">SumBackward1</text>\n",
       "</g>\n",
       "<!-- 140574284886992&#45;&gt;140574284886800 -->\n",
       "<g id=\"edge16\" class=\"edge\">\n",
       "<title>140574284886992&#45;&gt;140574284886800</title>\n",
       "<path fill=\"none\" stroke=\"black\" d=\"M109.94,-398.58C114.71,-391.53 121.56,-381.4 127.52,-372.58\"/>\n",
       "<polygon fill=\"black\" stroke=\"black\" points=\"130.38,-374.61 133.08,-364.36 124.58,-370.69 130.38,-374.61\"/>\n",
       "</g>\n",
       "<!-- 140574284886224 -->\n",
       "<g id=\"node8\" class=\"node\">\n",
       "<title>140574284886224</title>\n",
       "<polygon fill=\"lightgrey\" stroke=\"black\" points=\"148,-473.25 60,-473.25 60,-454 148,-454 148,-473.25\"/>\n",
       "<text text-anchor=\"middle\" x=\"104\" y=\"-459.75\" font-family=\"monospace\" font-size=\"10.00\">SubBackward0</text>\n",
       "</g>\n",
       "<!-- 140574284886224&#45;&gt;140574284886992 -->\n",
       "<g id=\"edge6\" class=\"edge\">\n",
       "<title>140574284886224&#45;&gt;140574284886992</title>\n",
       "<path fill=\"none\" stroke=\"black\" d=\"M104,-453.83C104,-447.32 104,-438.17 104,-429.87\"/>\n",
       "<polygon fill=\"black\" stroke=\"black\" points=\"107.5,-429.87 104,-419.87 100.5,-429.87 107.5,-429.87\"/>\n",
       "</g>\n",
       "<!-- 140574284888144 -->\n",
       "<g id=\"node9\" class=\"node\">\n",
       "<title>140574284888144</title>\n",
       "<polygon fill=\"lightgrey\" stroke=\"black\" points=\"148,-583.75 60,-583.75 60,-564.5 148,-564.5 148,-583.75\"/>\n",
       "<text text-anchor=\"middle\" x=\"104\" y=\"-570.25\" font-family=\"monospace\" font-size=\"10.00\">AddBackward0</text>\n",
       "</g>\n",
       "<!-- 140574284888144&#45;&gt;140574284886224 -->\n",
       "<g id=\"edge7\" class=\"edge\">\n",
       "<title>140574284888144&#45;&gt;140574284886224</title>\n",
       "<path fill=\"none\" stroke=\"black\" d=\"M99.48,-564.18C95.29,-555.36 89.37,-541.38 87,-528.5 84.2,-513.29 89.06,-496.4 94.29,-483.8\"/>\n",
       "<polygon fill=\"black\" stroke=\"black\" points=\"97.34,-485.54 98.35,-474.99 90.99,-482.61 97.34,-485.54\"/>\n",
       "</g>\n",
       "<!-- 140574284887760 -->\n",
       "<g id=\"node15\" class=\"node\">\n",
       "<title>140574284887760</title>\n",
       "<polygon fill=\"lightgrey\" stroke=\"black\" points=\"184,-528.5 96,-528.5 96,-509.25 184,-509.25 184,-528.5\"/>\n",
       "<text text-anchor=\"middle\" x=\"140\" y=\"-515\" font-family=\"monospace\" font-size=\"10.00\">MaxBackward0</text>\n",
       "</g>\n",
       "<!-- 140574284888144&#45;&gt;140574284887760 -->\n",
       "<g id=\"edge14\" class=\"edge\">\n",
       "<title>140574284888144&#45;&gt;140574284887760</title>\n",
       "<path fill=\"none\" stroke=\"black\" d=\"M109.94,-564.33C114.71,-557.28 121.56,-547.15 127.52,-538.33\"/>\n",
       "<polygon fill=\"black\" stroke=\"black\" points=\"130.38,-540.36 133.08,-530.11 124.58,-536.44 130.38,-540.36\"/>\n",
       "</g>\n",
       "<!-- 140574284888336 -->\n",
       "<g id=\"node10\" class=\"node\">\n",
       "<title>140574284888336</title>\n",
       "<polygon fill=\"lightgrey\" stroke=\"black\" points=\"91,-639 9,-639 9,-619.75 91,-619.75 91,-639\"/>\n",
       "<text text-anchor=\"middle\" x=\"50\" y=\"-625.5\" font-family=\"monospace\" font-size=\"10.00\">MmBackward0</text>\n",
       "</g>\n",
       "<!-- 140574284888336&#45;&gt;140574284888144 -->\n",
       "<g id=\"edge8\" class=\"edge\">\n",
       "<title>140574284888336&#45;&gt;140574284888144</title>\n",
       "<path fill=\"none\" stroke=\"black\" d=\"M58.92,-619.58C66.45,-612.15 77.47,-601.29 86.73,-592.16\"/>\n",
       "<polygon fill=\"black\" stroke=\"black\" points=\"89.15,-594.69 93.81,-585.17 84.23,-589.7 89.15,-594.69\"/>\n",
       "</g>\n",
       "<!-- 140574284888384 -->\n",
       "<g id=\"node11\" class=\"node\">\n",
       "<title>140574284888384</title>\n",
       "<polygon fill=\"lightgrey\" stroke=\"black\" points=\"100,-699.88 0,-699.88 0,-680.62 100,-680.62 100,-699.88\"/>\n",
       "<text text-anchor=\"middle\" x=\"50\" y=\"-686.38\" font-family=\"monospace\" font-size=\"10.00\">AccumulateGrad</text>\n",
       "</g>\n",
       "<!-- 140574284888384&#45;&gt;140574284888336 -->\n",
       "<g id=\"edge9\" class=\"edge\">\n",
       "<title>140574284888384&#45;&gt;140574284888336</title>\n",
       "<path fill=\"none\" stroke=\"black\" d=\"M50,-680.31C50,-672.53 50,-660.95 50,-650.91\"/>\n",
       "<polygon fill=\"black\" stroke=\"black\" points=\"53.5,-650.91 50,-640.91 46.5,-650.91 53.5,-650.91\"/>\n",
       "</g>\n",
       "<!-- 140574284791536 -->\n",
       "<g id=\"node12\" class=\"node\">\n",
       "<title>140574284791536</title>\n",
       "<polygon fill=\"lightblue\" stroke=\"black\" points=\"88,-772 12,-772 12,-741.5 88,-741.5 88,-772\"/>\n",
       "<text text-anchor=\"middle\" x=\"50\" y=\"-758.5\" font-family=\"monospace\" font-size=\"10.00\">W</text>\n",
       "<text text-anchor=\"middle\" x=\"50\" y=\"-747.25\" font-family=\"monospace\" font-size=\"10.00\"> (784, 10)</text>\n",
       "</g>\n",
       "<!-- 140574284791536&#45;&gt;140574284888384 -->\n",
       "<g id=\"edge10\" class=\"edge\">\n",
       "<title>140574284791536&#45;&gt;140574284888384</title>\n",
       "<path fill=\"none\" stroke=\"black\" d=\"M50,-741.11C50,-732.33 50,-721.02 50,-711.4\"/>\n",
       "<polygon fill=\"black\" stroke=\"black\" points=\"53.5,-711.59 50,-701.59 46.5,-711.59 53.5,-711.59\"/>\n",
       "</g>\n",
       "<!-- 140574284888576 -->\n",
       "<g id=\"node13\" class=\"node\">\n",
       "<title>140574284888576</title>\n",
       "<polygon fill=\"lightgrey\" stroke=\"black\" points=\"209,-639 109,-639 109,-619.75 209,-619.75 209,-639\"/>\n",
       "<text text-anchor=\"middle\" x=\"159\" y=\"-625.5\" font-family=\"monospace\" font-size=\"10.00\">AccumulateGrad</text>\n",
       "</g>\n",
       "<!-- 140574284888576&#45;&gt;140574284888144 -->\n",
       "<g id=\"edge11\" class=\"edge\">\n",
       "<title>140574284888576&#45;&gt;140574284888144</title>\n",
       "<path fill=\"none\" stroke=\"black\" d=\"M149.92,-619.58C142.16,-612.07 130.79,-601.06 121.3,-591.88\"/>\n",
       "<polygon fill=\"black\" stroke=\"black\" points=\"123.99,-589.6 114.37,-585.16 119.12,-594.63 123.99,-589.6\"/>\n",
       "</g>\n",
       "<!-- 140574284837408 -->\n",
       "<g id=\"node14\" class=\"node\">\n",
       "<title>140574284837408</title>\n",
       "<polygon fill=\"lightblue\" stroke=\"black\" points=\"186,-705.5 132,-705.5 132,-675 186,-675 186,-705.5\"/>\n",
       "<text text-anchor=\"middle\" x=\"159\" y=\"-692\" font-family=\"monospace\" font-size=\"10.00\">b</text>\n",
       "<text text-anchor=\"middle\" x=\"159\" y=\"-680.75\" font-family=\"monospace\" font-size=\"10.00\"> (10)</text>\n",
       "</g>\n",
       "<!-- 140574284837408&#45;&gt;140574284888576 -->\n",
       "<g id=\"edge12\" class=\"edge\">\n",
       "<title>140574284837408&#45;&gt;140574284888576</title>\n",
       "<path fill=\"none\" stroke=\"black\" d=\"M159,-674.7C159,-667.46 159,-658.59 159,-650.69\"/>\n",
       "<polygon fill=\"black\" stroke=\"black\" points=\"162.5,-650.96 159,-640.96 155.5,-650.96 162.5,-650.96\"/>\n",
       "</g>\n",
       "<!-- 140574284887760&#45;&gt;140574284886224 -->\n",
       "<g id=\"edge13\" class=\"edge\">\n",
       "<title>140574284887760&#45;&gt;140574284886224</title>\n",
       "<path fill=\"none\" stroke=\"black\" d=\"M134.06,-509.08C129.29,-502.03 122.44,-491.9 116.48,-483.08\"/>\n",
       "<polygon fill=\"black\" stroke=\"black\" points=\"119.42,-481.19 110.92,-474.86 113.62,-485.11 119.42,-481.19\"/>\n",
       "</g>\n",
       "<!-- 140574284886800&#45;&gt;140574284886608 -->\n",
       "<g id=\"edge15\" class=\"edge\">\n",
       "<title>140574284886800&#45;&gt;140574284886608</title>\n",
       "<path fill=\"none\" stroke=\"black\" d=\"M134.06,-343.33C129.29,-336.28 122.44,-326.15 116.48,-317.33\"/>\n",
       "<polygon fill=\"black\" stroke=\"black\" points=\"119.42,-315.44 110.92,-309.11 113.62,-319.36 119.42,-315.44\"/>\n",
       "</g>\n",
       "</g>\n",
       "</svg>\n"
      ],
      "text/plain": [
       "<graphviz.graphs.Digraph at 0x7fda0050b400>"
      ]
     },
     "execution_count": 28,
     "metadata": {},
     "output_type": "execute_result"
    }
   ],
   "source": [
    "import torchviz\n",
    "torchviz.make_dot(loss, params=dict(W=model.W, b=model.b))"
   ]
  },
  {
   "cell_type": "markdown",
   "metadata": {
    "slideshow": {
     "slide_type": "subslide"
    }
   },
   "source": [
    "This graph is what allows efficient implementation of the **back-propagation** algorithm which you'll learn about in the next lecture.\n",
    "\n",
    "By calling `.backward()` from the final loss tensor, pytorch automatically populated the `.grad` property of all leaves in this graph, without us having to explicitly specify them (`W` and `b`)."
   ]
  },
  {
   "cell_type": "markdown",
   "metadata": {
    "slideshow": {
     "slide_type": "subslide"
    }
   },
   "source": [
    "### Training"
   ]
  },
  {
   "cell_type": "markdown",
   "metadata": {
    "slideshow": {
     "slide_type": "fragment"
    }
   },
   "source": [
    "The optimization will be as before, but now we'll take the gradients from the `grad` property of our parameter tensors.\n",
    "\n",
    "Therefore, the optimizer only needs access to the parameter tensors from the model.\n",
    "Later you'll see that `pytorch`'s `Optimizer` classes work in the same way."
   ]
  },
  {
   "cell_type": "code",
   "execution_count": 29,
   "metadata": {
    "slideshow": {
     "slide_type": "subslide"
    }
   },
   "outputs": [],
   "source": [
    "from typing import Sequence\n",
    "\n",
    "class SGDOptimizer:\n",
    "    \"\"\"\n",
    "    A simple gradient descent optimizer.\n",
    "    \"\"\"\n",
    "    def __init__(self, params: Sequence[Tensor], learn_rate: float):\n",
    "        self._params = params\n",
    "        self._learn_rate = learn_rate\n",
    "    \n",
    "    def step(self):\n",
    "        \"\"\"\n",
    "        Updates parameters in-place based on their gradients.\n",
    "        \"\"\"\n",
    "        with torch.autograd.no_grad(): # Don't track this operation\n",
    "            for param in self._params:\n",
    "                if param.grad is not None:\n",
    "                    param -= self._learn_rate * param.grad\n",
    "    \n",
    "    def zero_grad(self):\n",
    "        \"\"\"\n",
    "        Zeros the parameters' gradients if they exist.\n",
    "        \"\"\"\n",
    "        for param in self._params:\n",
    "            if param.grad is not None:\n",
    "                param.grad.zero_()"
   ]
  },
  {
   "cell_type": "markdown",
   "metadata": {
    "slideshow": {
     "slide_type": "subslide"
    }
   },
   "source": [
    "Inference and prediction accuracy:"
   ]
  },
  {
   "cell_type": "code",
   "execution_count": 30,
   "metadata": {
    "slideshow": {
     "slide_type": "fragment"
    }
   },
   "outputs": [
    {
     "name": "stdout",
     "output_type": "stream",
     "text": [
      "Test set accuracy pre-training: 8.98%\n"
     ]
    }
   ],
   "source": [
    "def evaluate_accuracy(dataloader, model, max_batches=None):\n",
    "    n_correct = 0.\n",
    "    n_total = 0.\n",
    "    for i, (X, y) in enumerate(dataloader):\n",
    "        X = X.reshape(-1, n_features) # flatten images into vectors\n",
    "        \n",
    "        # Forward pass\n",
    "        with torch.autograd.no_grad():\n",
    "            y_hat = model(X)\n",
    "        \n",
    "        predictions = torch.argmax(y_hat, dim=1)\n",
    "        n_correct += torch.sum(predictions == y).type(torch.float32)\n",
    "        n_total += X.shape[0]\n",
    "        \n",
    "        if max_batches and i+1 >= max_batches:\n",
    "            break\n",
    "        \n",
    "    return (n_correct / n_total).item()\n",
    "\n",
    "test_set_acc = evaluate_accuracy(dl_test, MCLogisticRegression(n_features, n_classes))\n",
    "print(f'Test set accuracy pre-training: {test_set_acc*100:.2f}%')"
   ]
  },
  {
   "cell_type": "markdown",
   "metadata": {
    "slideshow": {
     "slide_type": "subslide"
    }
   },
   "source": [
    "#### The training loop\n",
    "\n",
    "This is a crucial part of any ML pipeline where model parameters get updated iteratively.\n",
    "\n",
    "One pass over the entire training data is called an **epoch**.\n",
    "When using `pytorch`, your training loop will generally contain the following steps:"
   ]
  },
  {
   "cell_type": "markdown",
   "metadata": {
    "slideshow": {
     "slide_type": "fragment"
    }
   },
   "source": [
    "- Each epoch:\n",
    "    - Split training data into batches\n",
    "    - For each batch\n",
    "        - Forward pass: Compute predictions and build computation graph\n",
    "        - Calculate loss\n",
    "        - Set existing gradients to zero\n",
    "        - Backward pass: Use back-propagation algorithm to calculate the gradients\n",
    "        - Optimization step: Use the gradients to update the parameters\n",
    "    - Evaluate accuracy on validation set"
   ]
  },
  {
   "cell_type": "code",
   "execution_count": 31,
   "metadata": {
    "scrolled": true,
    "slideshow": {
     "slide_type": "subslide"
    }
   },
   "outputs": [],
   "source": [
    "# Define some training hyper-parameters\n",
    "epochs = 10\n",
    "max_batches = 50  # limit batches so training is fast (just as a demo)\n",
    "learn_rate = .005\n",
    "num_samples = len(ds_train)\n",
    "\n",
    "# Instantiate the model we'll train\n",
    "model = MCLogisticRegression(n_features, n_classes)\n",
    "\n",
    "# Instantiate the optimizer with model's parameters\n",
    "optimizer = SGDOptimizer(model.params, learn_rate=learn_rate)"
   ]
  },
  {
   "cell_type": "code",
   "execution_count": 32,
   "metadata": {
    "slideshow": {
     "slide_type": "subslide"
    }
   },
   "outputs": [
    {
     "name": "stdout",
     "output_type": "stream",
     "text": [
      "Epoch 0. Avg Loss: 0.374, Train Acc: 43.31, Test Acc: 42.18\n",
      "Epoch 1. Avg Loss: 0.166, Train Acc: 60.37, Test Acc: 62.00\n",
      "Epoch 2. Avg Loss: 0.113, Train Acc: 68.62, Test Acc: 69.52\n",
      "Epoch 3. Avg Loss: 0.089, Train Acc: 73.12, Test Acc: 74.38\n",
      "Epoch 4. Avg Loss: 0.078, Train Acc: 76.09, Test Acc: 77.08\n",
      "Epoch 5. Avg Loss: 0.069, Train Acc: 79.34, Test Acc: 78.72\n",
      "Epoch 6. Avg Loss: 0.056, Train Acc: 79.41, Test Acc: 79.87\n",
      "Epoch 7. Avg Loss: 0.059, Train Acc: 79.91, Test Acc: 81.33\n",
      "Epoch 8. Avg Loss: 0.055, Train Acc: 81.47, Test Acc: 82.35\n",
      "Epoch 9. Avg Loss: 0.051, Train Acc: 80.81, Test Acc: 82.82\n"
     ]
    }
   ],
   "source": [
    "# Epoch: traverse all samples\n",
    "for e in range(epochs):\n",
    "    cumulative_loss = 0\n",
    "\n",
    "    # Loop over randdom batches of training data\n",
    "    for i, (X, y) in enumerate(dl_train):\n",
    "        \n",
    "        X = X.reshape(-1, n_features)\n",
    "        y_onehot = onehot(y, n_classes)\n",
    "        \n",
    "        # Forward pass: predictions and loss\n",
    "        y_hat = model(X)\n",
    "        loss = cross_entropy_loss(y_onehot, y_hat)\n",
    "        \n",
    "        # Clear previous gradients\n",
    "        optimizer.zero_grad()\n",
    "        \n",
    "        # Backward pass: calculate gradients \n",
    "        loss.backward() \n",
    "        \n",
    "        # Update model using the calculated gradients\n",
    "        optimizer.step()\n",
    "        \n",
    "        cumulative_loss += loss.item()\n",
    "        if i+1 > max_batches:\n",
    "            break\n",
    "\n",
    "    # Evaluation\n",
    "    test_accuracy = evaluate_accuracy(dl_test, model, max_batches)\n",
    "    train_accuracy = evaluate_accuracy(dl_train, model, max_batches)\n",
    "    \n",
    "    avg_loss = cumulative_loss/num_samples\n",
    "    print(f\"Epoch {e}. Avg Loss: {avg_loss:.3f}, Train Acc: {train_accuracy*100:.2f}, Test Acc: {test_accuracy*100:.2f}\")"
   ]
  },
  {
   "cell_type": "markdown",
   "metadata": {
    "slideshow": {
     "slide_type": "subslide"
    }
   },
   "source": [
    "#### Final notes"
   ]
  },
  {
   "cell_type": "markdown",
   "metadata": {
    "slideshow": {
     "slide_type": "fragment"
    }
   },
   "source": [
    "- This is a very naive implementation, for example because\n",
    "    - We didn't treat the images properly.\n",
    "    - We didn't include any regularization."
   ]
  },
  {
   "cell_type": "markdown",
   "metadata": {
    "slideshow": {
     "slide_type": "subslide"
    }
   },
   "source": [
    "- PyTorch provides many functions and classes that we could have used, for example:\n",
    "  - Fully connected layer with model parameters\n",
    "  - Softmax\n",
    "  - SGD and many other optimizers\n",
    "  - Cross entropy loss\n",
    "  \n",
    "  however the purpose here was to show an (almost) from-scratch implementation using only tensors,\n",
    "  in order to see whats \"under the hood\" (more or less) of the PyTorch functions."
   ]
  },
  {
   "cell_type": "markdown",
   "metadata": {
    "slideshow": {
     "slide_type": "subslide"
    }
   },
   "source": [
    "### Thanks!"
   ]
  },
  {
   "cell_type": "markdown",
   "metadata": {
    "slideshow": {
     "slide_type": "skip"
    }
   },
   "source": [
    "**Credits**\n",
    "\n",
    "This tutorial was written by [Aviv A. Rosenberg](https://avivr.net).<br>\n",
    "To re-use, please provide attribution and link to the original.\n",
    "\n",
    "Some images in this tutorial were taken and/or adapted from the following sources:\n",
    "\n",
    "- MartinThoma [CC0], via Wikimedia Commons https://commons.wikimedia.org/wiki/File:Perceptron-unit.svg\n",
    "- Dr. Nadav Cohen, http://www.cohennadav.com/files/icermw19_slides.pdf\n",
    "- Fundamentals of Deep Learning, Nikhil Buduma, Oreilly 2017"
   ]
  }
 ],
 "metadata": {
  "celltoolbar": "Slideshow",
  "kernelspec": {
   "display_name": "Python 3 (ipykernel)",
   "language": "python",
   "name": "python3"
  },
  "language_info": {
   "codemirror_mode": {
    "name": "ipython",
    "version": 3
   },
   "file_extension": ".py",
   "mimetype": "text/x-python",
   "name": "python",
   "nbconvert_exporter": "python",
   "pygments_lexer": "ipython3",
   "version": "3.8.12"
  },
  "rise": {
   "scroll": true
  }
 },
 "nbformat": 4,
 "nbformat_minor": 4
}
