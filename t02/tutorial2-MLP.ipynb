{
 "cells": [
  {
   "cell_type": "markdown",
   "metadata": {
    "slideshow": {
     "slide_type": "slide"
    }
   },
   "source": [
    "$$\n",
    "\\newcommand{\\mat}[1]{\\boldsymbol {#1}}\n",
    "\\newcommand{\\mattr}[1]{\\boldsymbol {#1}^\\top}\n",
    "\\newcommand{\\matinv}[1]{\\boldsymbol {#1}^{-1}}\n",
    "\\newcommand{\\vec}[1]{\\boldsymbol {#1}}\n",
    "\\newcommand{\\vectr}[1]{\\boldsymbol {#1}^\\top}\n",
    "\\newcommand{\\rvar}[1]{\\mathrm {#1}}\n",
    "\\newcommand{\\rvec}[1]{\\boldsymbol{\\mathrm{#1}}}\n",
    "\\newcommand{\\diag}{\\mathop{\\mathrm {diag}}}\n",
    "\\newcommand{\\set}[1]{\\mathbb {#1}}\n",
    "\\newcommand{\\norm}[1]{\\left\\lVert#1\\right\\rVert}\n",
    "\\newcommand{\\pderiv}[2]{\\frac{\\partial #1}{\\partial #2}}\n",
    "\\newcommand{\\bb}[1]{\\boldsymbol{#1}}\n",
    "$$\n",
    "\n",
    "# ISTA: Applied Deep Learning for Scientists\n",
    "# Tutorial 2: Multilayer Perceptron"
   ]
  },
  {
   "cell_type": "markdown",
   "metadata": {
    "slideshow": {
     "slide_type": "slide"
    }
   },
   "source": [
    "## Introduction\n",
    "\n",
    "In this tutorial, we will cover:\n",
    "\n",
    "* Linear (fully connected) layers\n",
    "* Activation functions\n",
    "* 2-Layer MLP implementation from scratch (self study)\n",
    "* N-layer MLP with PyTorch's `autograd` and `optim` modules"
   ]
  },
  {
   "cell_type": "code",
   "execution_count": 1,
   "metadata": {
    "slideshow": {
     "slide_type": "subslide"
    }
   },
   "outputs": [],
   "source": [
    "# Setup\n",
    "%matplotlib inline\n",
    "import os\n",
    "import numpy as np\n",
    "import sklearn\n",
    "import torch\n",
    "import matplotlib.pyplot as plt\n",
    "from typing import Sequence"
   ]
  },
  {
   "cell_type": "code",
   "execution_count": 2,
   "metadata": {
    "slideshow": {
     "slide_type": "fragment"
    }
   },
   "outputs": [],
   "source": [
    "plt.rcParams['font.size'] = 20"
   ]
  },
  {
   "cell_type": "markdown",
   "metadata": {
    "slideshow": {
     "slide_type": "slide"
    }
   },
   "source": [
    "## Reminder: Perceptrons and linear models"
   ]
  },
  {
   "cell_type": "markdown",
   "metadata": {
    "slideshow": {
     "slide_type": "subslide"
    }
   },
   "source": [
    "The following hypothesis class\n",
    "$$\n",
    "\\mathcal{H} =\n",
    "\\left\\{ h: \\mathcal{X}\\rightarrow\\mathcal{Y}\n",
    "~\\vert~\n",
    "h(\\vec{x}) = \\varphi(\\vectr{w}\\vec{x}+b); \\vec{w}\\in\\set{R}^D,~b\\in\\set{R}\\right\\}\n",
    "$$\n",
    "where $\\varphi(\\cdot)$ is some nonlinear function, is composed of functions representing the **perceptron** model.\n",
    "\n",
    "\n",
    "<img src=\"imgs/perceptron.png\" width=400 /> "
   ]
  },
  {
   "cell_type": "markdown",
   "metadata": {
    "slideshow": {
     "slide_type": "subslide"
    }
   },
   "source": [
    "Last tutorial: we trained a **logistic regression** model by using\n",
    "$$\\varphi(\\vec{z})=\\sigma(\\vec{z})=\\frac{1}{1+\\exp(-\\vec{z})}\\in[0,1].$$"
   ]
  },
  {
   "cell_type": "markdown",
   "metadata": {
    "slideshow": {
     "slide_type": "fragment"
    }
   },
   "source": [
    "**Limitation**: logistic regression is still a linear classifier. In what sense is it linear though?\n",
    "\n",
    "$$\\hat{y} = \\sigma(\\vectr{w}\\vec{x}+b)$$"
   ]
  },
  {
   "cell_type": "markdown",
   "metadata": {
    "slideshow": {
     "slide_type": "subslide"
    }
   },
   "source": [
    "**Linear** in the sense that output depends only on a linear combination of weights and inputs.\n",
    "\n",
    "Decision boundaries are therefore straight lines:\n",
    "\n",
    "<center><img src=\"imgs/perceptron_db.png\" width=\"600\"/></center>"
   ]
  },
  {
   "cell_type": "markdown",
   "metadata": {
    "slideshow": {
     "slide_type": "subslide"
    }
   },
   "source": [
    "If we define $y(\\vec{x})=\\vectr{w}\\vec{x}+b$, then the **decision surface** of the classifier is $y(\\vec{x})=\\text{const}$ (usually zero). Note that $b=w_0$ in the diagram below."
   ]
  },
  {
   "cell_type": "markdown",
   "metadata": {
    "slideshow": {
     "slide_type": "fragment"
    }
   },
   "source": [
    "<center><img src=\"imgs/linear_discriminant.png\" width=\"700\"/></center>"
   ]
  },
  {
   "cell_type": "markdown",
   "metadata": {
    "slideshow": {
     "slide_type": "subslide"
    }
   },
   "source": [
    "1. For any $\\vec{x_1}, \\vec{x_2}$ on the decision boundary, $\\vectr{w}(\\vec{x_1}-\\vec{x_2})=0$ $\\Rightarrow \\vec{w}$ orthogonal to every vector in the surface.\n",
    "1. For any $\\vec{x_1}$ on the decision boundary, $\\vectr{w}\\vec{x_1}=-b$.  \n",
    "Since $\\frac{\\vectr{w}}{\\norm{\\vec{w}}}\\vec{x_1}$ is the length of the projection of $\\vec{x_1}$ onto $\\vec{w}$, then the distance of the boundary from origin is given by\n",
    "$\\frac{-b}{\\norm{\\vec{w}}}$.\n",
    "1. For any point $\\vec{x}$, $\\frac{y(\\vec{x})}{\\norm{\\vec{w}}}$ is the **signed perpendicular distance** from the decision boundary."
   ]
  },
  {
   "cell_type": "markdown",
   "metadata": {
    "slideshow": {
     "slide_type": "subslide"
    }
   },
   "source": [
    "What if our data is not linearly separable? Can we still use e.g. logistic regression?"
   ]
  },
  {
   "cell_type": "markdown",
   "metadata": {
    "slideshow": {
     "slide_type": "fragment"
    }
   },
   "source": [
    "<center><img src=\"imgs/nonlinear_datasets.png\" width=\"1200\"/></center>"
   ]
  },
  {
   "cell_type": "markdown",
   "metadata": {
    "slideshow": {
     "slide_type": "subslide"
    }
   },
   "source": [
    "What if we first apply a **fixed** non-linear transformation to the data?\n",
    "\n",
    "For some $\\psi: \\set{R}^d \\rightarrow \\set{R}^D$, what does the following classifier do?\n",
    "\n",
    "$$\\hat{y} = \\varphi(\\vectr{w}\\psi(\\vec{x})+b).$$"
   ]
  },
  {
   "cell_type": "markdown",
   "metadata": {
    "slideshow": {
     "slide_type": "fragment"
    }
   },
   "source": [
    "We still get a linear decision boundary, but relative to the new features $\\psi(\\vec{x})\\in\\set{R}^D$.\n",
    "Projecting this boundary back to $\\set{R}^d$, we can get nonlinear decision boundaries with respect to $\\vec{x}\\in\\set{R}^d$."
   ]
  },
  {
   "cell_type": "markdown",
   "metadata": {
    "slideshow": {
     "slide_type": "fragment"
    }
   },
   "source": [
    "But how can we choose a nonlinear transformation?  \n",
    "Traditional ML: Craft it painstakingly based on domain-knowledge.\n",
    "\n",
    "But what if we want to **learn** it?"
   ]
  },
  {
   "cell_type": "markdown",
   "metadata": {
    "slideshow": {
     "slide_type": "slide"
    }
   },
   "source": [
    "## Multilayer Perceptron (MLP)"
   ]
  },
  {
   "cell_type": "markdown",
   "metadata": {
    "slideshow": {
     "slide_type": "fragment"
    }
   },
   "source": [
    "### Model\n",
    "\n",
    "<center><img src=\"imgs/mlp.png\" width=1000 /></center>\n",
    "\n",
    "Composed of $L$ **layers**, each layer $l$ with $n_l$ **perceptron** (\"neuron\") units."
   ]
  },
  {
   "cell_type": "markdown",
   "metadata": {
    "slideshow": {
     "slide_type": "subslide"
    }
   },
   "source": [
    "Each layer $l$ operates on the output of the previous layer ($\\vec{y}_{l-1}$) and calculates:\n",
    "\n",
    "$$\n",
    "\\vec{y}_l = \\varphi\\left( \\mat{W}_l \\vec{y}_{l-1} + \\vec{b}_l \\right),~\n",
    "\\mat{W}_l\\in\\set{R}^{n_{l}\\times n_{l-1}},~ \\vec{b}_l\\in\\set{R}^{n_l},~ l \\in \\{1,2,\\dots,L\\}.\n",
    "$$\n",
    "\n",
    "- Note that both input and output are **vectors**. We can think of the above equation as describing a layer of **multiple perceptrons**.\n",
    "- We'll henceforth refer to such layers as **fully-connected** or FC layers.\n",
    "- The first layer accepts the input of the model, i.e. $\\vec{y}_0=\\vec{x}\\in\\set{R}^d$.\n",
    "- The last layer, $L$, is the output layer, so $y_L$ is the output of the model.\n",
    "- The layers $1, 2, \\dots, L-1$ are called hidden layers."
   ]
  },
  {
   "cell_type": "markdown",
   "metadata": {
    "slideshow": {
     "slide_type": "subslide"
    }
   },
   "source": [
    "How powerful is an MLP model? I.e. which functions can it approximate?"
   ]
  },
  {
   "cell_type": "markdown",
   "metadata": {
    "slideshow": {
     "slide_type": "subslide"
    }
   },
   "source": [
    "**Universal approximator theorem**\n",
    "\n",
    "Given enough parameters, an MLP with $L>1$ and any non-linear activation function, can approximate any continuous function up to any specified precision (Cybenko, 1989).\n",
    "\n",
    "The MLP is therefore a **potent hypothesis class** (recall approximation error).\n",
    "\n",
    "See [here](http://neuralnetworksanddeeplearning.com/chap4.html) for an intuitive explanation of the UAT."
   ]
  },
  {
   "cell_type": "markdown",
   "metadata": {
    "slideshow": {
     "slide_type": "subslide"
    }
   },
   "source": [
    "Given an input sample $\\vec{x}^i$, the computed function of an $L$-layer MLP is:\n",
    "$$\n",
    "\\vec{y}_L^i= \\varphi \\left(\n",
    "\\mat{W}_L \\varphi \\left( \\cdots\n",
    "\\varphi \\left( \\mat{W}_1 \\vec{x}^i + \\vec{b}_1 \\right)\n",
    "\\cdots \\right)\n",
    "+ \\vec{b}_L \\right)\n",
    "$$\n",
    "\n",
    "This expression is fully differentiable w.r.t. parameters using the Chain Rule.\n",
    "\n",
    "And notice that $\\vec{y}_L^i = \\varphi(\\mat{W}_L \\vec{y}_{L-1}^i + \\vec{b}_L)$ is just the linear model we started with.\n",
    "\n",
    "So, intuitively, we can think of $\\vec{y}_{L-1}$ as **learned** non-linear features of the input! In other words, $\\vec{y}_{L-1} = \\psi_{\\vec{\\Theta}}(\\vec{x})$."
   ]
  },
  {
   "cell_type": "markdown",
   "metadata": {
    "slideshow": {
     "slide_type": "subslide"
    }
   },
   "source": [
    "Since an MLP it has a non-linear dependency on it's inputs, through a learned transformation, non-linear decision boundaries are possible.\n",
    "\n",
    "For example, an MLP with 1, 2 and 4 hidden layers, 3 neurons each:\n",
    "    \n",
    "<center><img src=\"imgs/overfit_1-2-4HL_3N.jpg\" width=\"1100\" alt=\"overfit1\"></center>\n",
    "\n",
    "Notice the input space has two features while the output space has three."
   ]
  },
  {
   "cell_type": "markdown",
   "metadata": {
    "slideshow": {
     "slide_type": "slide"
    }
   },
   "source": [
    "### Activation functions "
   ]
  },
  {
   "cell_type": "markdown",
   "metadata": {
    "slideshow": {
     "slide_type": "subslide"
    }
   },
   "source": [
    "An **activation function** is the non-linear elementwise function $\\varphi(\\cdot)$ which operates on the affine part of the perceptron model.\n",
    "\n",
    "Why do we even need non-linearities in the first place? Isn't the depth enough?"
   ]
  },
  {
   "cell_type": "markdown",
   "metadata": {
    "slideshow": {
     "slide_type": "fragment"
    }
   },
   "source": [
    "Without them, the MLP model would be equivalent to a single affine transform."
   ]
  },
  {
   "cell_type": "markdown",
   "metadata": {
    "slideshow": {
     "slide_type": "subslide"
    }
   },
   "source": [
    "Common choices for the activation functions are:\n",
    "\n",
    "- The logistic function (sigmoid)\n",
    "    $$ \\varphi(t) = \\sigma(t) = \\frac{1}{1+e^{-t}} \\in  [0,1] $$\n",
    "- The hyperbolic tangent (a shifted and scaled sigmoid)\n",
    "    $$ \\varphi(t) = \\mathrm{tanh}(t) = \\frac{e^t - e^{-t}}{e^t +e^{-t}} \\in [-1,1]$$"
   ]
  },
  {
   "cell_type": "markdown",
   "metadata": {
    "slideshow": {
     "slide_type": "fragment"
    }
   },
   "source": [
    "- ReLU, rectified linear unit\n",
    "    $$ \\varphi(t) = \\max\\{t,0\\} $$\n",
    "Note that ReLU is not strictly differentiable. However, sub-gradients exist. We will define its gradient as:\n",
    "    $$ \\pderiv{\\varphi}{t} = \\begin{cases} 1, & t\\geq0 \\\\ 0, & t<0 \\end{cases} $$"
   ]
  },
  {
   "cell_type": "code",
   "execution_count": 3,
   "metadata": {
    "slideshow": {
     "slide_type": "subslide"
    }
   },
   "outputs": [],
   "source": [
    "# Plot some activation functions and their gradients\n",
    "\n",
    "# Activation functions\n",
    "relu = lambda x: np.maximum(0, x)\n",
    "sigmoid = lambda x: 1 / (1 + np.exp(-x))\n",
    "tanh = lambda x: (np.exp(x)-np.exp(-x)) / (np.exp(x)+np.exp(-x))\n",
    "\n",
    "# Their gradients\n",
    "g_relu = lambda x: np.array(relu(x) > 0, dtype=np.float32)\n",
    "g_sigmoid = lambda x: sigmoid(x) * (1-sigmoid(x))\n",
    "g_tanh = lambda x: (1 - tanh(x) ** 2)"
   ]
  },
  {
   "cell_type": "code",
   "execution_count": 4,
   "metadata": {
    "slideshow": {
     "slide_type": "subslide"
    }
   },
   "outputs": [
    {
     "data": {
      "image/png": "[encoded data removed]",
      "text/plain": [
       "<Figure size 1600x500 with 2 Axes>"
      ]
     },
     "metadata": {},
     "output_type": "display_data"
    }
   ],
   "source": [
    "x = np.linspace(-4, 4, num=1024)\n",
    "_, axes = plt.subplots(nrows=1, ncols=2, figsize=(16,5))\n",
    "axes[0].plot(x, relu(x), x, sigmoid(x), x, tanh(x))\n",
    "axes[1].plot(x, g_relu(x), x, g_sigmoid(x), x, g_tanh(x))\n",
    "legend_entries = (r'\\mathrm{ReLU}(x)', r'\\sigma(x)', r'\\mathrm{tanh}(x)')\n",
    "for ax, legend_prefix in zip(axes, ('', r'\\frac{\\partial}{\\partial x}')):\n",
    "    ax.grid(True)\n",
    "    ax.legend(tuple(f'${legend_prefix}{legend_entry}$' for legend_entry in legend_entries))\n",
    "    ax.set_ylim((-1.1,1.1))"
   ]
  },
  {
   "cell_type": "markdown",
   "metadata": {
    "slideshow": {
     "slide_type": "subslide"
    }
   },
   "source": [
    "Some reasons people cite for using ReLU are:\n",
    "\n",
    "- Does not suffer from vanishing gradient when $x$ is far from zero (though gradient can still be zero).\n",
    "\n",
    "- Much faster to compute than sigmoid and tanh.\n",
    "\n",
    "- Promotes sparse weight vectors: \"dead neurons\" arguably cause sparsity in the next layer."
   ]
  },
  {
   "cell_type": "markdown",
   "metadata": {
    "slideshow": {
     "slide_type": "slide"
    }
   },
   "source": [
    "### Visualization of hand-crafted features vs. MLP"
   ]
  },
  {
   "cell_type": "markdown",
   "metadata": {
    "slideshow": {
     "slide_type": "fragment"
    }
   },
   "source": [
    "Visualization of the effect of features and MLP layers: http://playground.tensorflow.org/\n",
    "\n",
    "Try to explain what you see for the circles dataset with:\n",
    "- No hidden layers\n",
    "- One hidden layer, two neurons\n",
    "- One hiddlen layer, three neurons"
   ]
  },
  {
   "cell_type": "markdown",
   "metadata": {
    "slideshow": {
     "slide_type": "slide"
    }
   },
   "source": [
    "## Part 1: Two-layer MLP from scratch"
   ]
  },
  {
   "cell_type": "markdown",
   "metadata": {
    "slideshow": {
     "slide_type": "fragment"
    }
   },
   "source": [
    "Let's solve a simple **regression** problem with a 2-layer MLP (one hidden layer, one output layer)."
   ]
  },
  {
   "cell_type": "markdown",
   "metadata": {
    "slideshow": {
     "slide_type": "slide"
    }
   },
   "source": [
    "We're trying to learn a continuous and perhaps non-deterministic function $y=f(\\vec{x})$.\n",
    "\n",
    "- Domain: $\\vec{x}^i \\in \\set{R}^{D_{\\text{in}}}$\n",
    "\n",
    "- Target: $y^i \\in \\set{R}^{D_{\\text{out}}}$\n",
    "\n",
    "- Model: $\\hat{y} =\\mat{W}_2~ \\varphi(\\mat{W}_1 \\vec{x}+ \\vec{b}_1) + \\vec{b}_2$<br>\n",
    "  i.e. a 2-layer MLP, where:\n",
    "    - $\\vec{x}\\in\\set{R}^{D_{\\text{in}}}$ sample (feature vector)\n",
    "    - $\\mat{W}_1\\in\\set{R}^{H\\times D_{\\text{in}}},\\ \\vec{b}_1\\in\\set{R}^{H}$\n",
    "    - $\\mat{W}_2\\in\\set{R}^{D_{\\text{out}}\\times H},\\ \\vec{b}_2\\in\\set{R}^{D_{\\text{out}}}$\n",
    "    - $\\varphi(\\cdot) = \\mathrm{ReLU}(\\cdot) = \\max\\{\\cdot,0\\}$\n",
    "    - $H$ is the hidden dimension\n",
    "    - We'll set $D_{\\text{out}}=1$ so output is a scalar\n",
    "   "
   ]
  },
  {
   "cell_type": "markdown",
   "metadata": {
    "slideshow": {
     "slide_type": "slide"
    }
   },
   "source": [
    " \n",
    "- MSE loss with L2 regularization:\n",
    "    $$\n",
    "    \\begin{align}\n",
    "    \\ell(\\vec{y},\\vec{\\hat y}) &= \\frac{1}{2}\\norm{\\vec{\\hat y} - \\vec{y}}^2 \\\\\n",
    "    L_{\\mathcal{S}} &= \\frac{1}{N}\\sum_{i=1}^{N}\\ell(\\vec{y},\\vec{\\hat y}) + \\frac{\\lambda}{2}\\left(\\norm{\\mat{W}_1}_F^2 + \\norm{\\mat{W}_2}_F^2 \\right)\n",
    "    \\end{align}\n",
    "    $$\n",
    "- Optimization scheme: Vanilla SGD"
   ]
  },
  {
   "cell_type": "markdown",
   "metadata": {
    "slideshow": {
     "slide_type": "slide"
    }
   },
   "source": [
    "### Computing the loss gradients with backpropagation"
   ]
  },
  {
   "cell_type": "markdown",
   "metadata": {
    "slideshow": {
     "slide_type": "fragment"
    }
   },
   "source": [
    "Let's write our model as \n",
    "$$\n",
    "\\hat{y} =\\mat{W}_2~ \\underbrace{\\mathrm{relu}(\\overbrace{\\mat{W}_1 \\vec{x}+ \\vec{b}_1}^{\\vec{z}})}_{\\vec{a}} + \\vec{b}_2,\n",
    "$$\n",
    "\n",
    "and manually derive the gradient of the point-wise loss $\\ell(\\vec{y},\\vec{\\hat y})$ using the **chain rule**.\n",
    "Remember that to use SGD, we need the gradient of the loss w.r.t. our parameter tensors."
   ]
  },
  {
   "cell_type": "markdown",
   "metadata": {
    "slideshow": {
     "slide_type": "subslide"
    }
   },
   "source": [
    "$$\n",
    "\\begin{align}\n",
    "&\\pderiv{\\ell}{\\vec{\\hat y}}=2\\cdot\\frac{1}{2}(\\vec{\\hat y}-\\vec{y}) = (\\vec{\\hat y}-\\vec{y})\\\\\n",
    "(\\ast)~~&\\pderiv{\\ell}{\\mat{W}_2}= \\pderiv{\\ell}{\\vec{\\hat y}}\\pderiv{\\vec{\\hat y}}{\\mat{W}_2}\n",
    "=(\\vec{\\hat y}-\\vec{y})\\vectr{a}\n",
    "\\end{align}\n",
    "$$"
   ]
  },
  {
   "cell_type": "markdown",
   "metadata": {
    "slideshow": {
     "slide_type": "subslide"
    }
   },
   "source": [
    "How do we continue into the nonlinearity? Recall that we defined\n",
    "\n",
    "$$ \\pderiv{\\mathrm{relu}(x)}{x} = \\begin{cases} 1, & x\\geq0 \\\\ 0, & x<0 \\end{cases} $$\n",
    "\n",
    "and that we apply the non-linearity elementwise on input tensors.\n",
    "\n",
    "Also remember that the gradient of a vector w.r.t. another vector is the Jacobian, a matrix of mixed derivatives:\n",
    "$\\pderiv{a_i}{z_j}$.\n",
    "\n",
    "We have $\\vec{a}=\\mathrm{relu}(\\vec{z})$. Thus,\n",
    "\n",
    "$$\n",
    "\\pderiv{\\vec{a}}{\\vec{z}}=\\mathrm{diag}(\\mathbb{1}[\\vec{z}>0]).\n",
    "$$\n"
   ]
  },
  {
   "cell_type": "markdown",
   "metadata": {
    "slideshow": {
     "slide_type": "subslide"
    }
   },
   "source": [
    "And so,\n",
    "$$\n",
    "\\begin{align}\n",
    "&\\pderiv{\\ell}{\\vec{a}}=\\pderiv{\\vec{\\hat y}}{\\vec{a}}\\pderiv{\\ell}{\\vec{\\hat y}}\n",
    "=\\mattr{W}_2(\\vec{\\hat y}-\\vec{y})\\\\\n",
    "&\\pderiv{\\ell}{\\vec{z}}=\\pderiv{\\vec{a}}{\\vec{z}}\\pderiv{\\ell}{\\vec{a}}\n",
    "=\\mathrm{diag}(\\mathbb{1}[\\vec{z}>0])\\mattr{W}_2(\\vec{\\hat y}-\\vec{y})\\\\\n",
    "(\\ast)~~&\\pderiv{\\ell}{\\mat{W}_1}=\\pderiv{\\ell}{\\vec{z}}\\pderiv{\\vec{z}}{\\mat{W}_1}\n",
    "=\\mathrm{diag}(\\mathbb{1}[\\vec{z}>0])\\mattr{W}_2(\\vec{\\hat y}-\\vec{y})\\vectr{x}\\\\\n",
    "\\end{align}\n",
    "$$"
   ]
  },
  {
   "cell_type": "markdown",
   "metadata": {
    "slideshow": {
     "slide_type": "subslide"
    }
   },
   "source": [
    "For the biases, we can easily see that:\n",
    "$$\n",
    "\\begin{align}\n",
    "(\\ast)~~&\\pderiv{\\ell}{\\vec{b}_2}=\\pderiv{\\vec{\\hat y}}{\\vec{b}_2}\\pderiv{\\ell}{\\vec{\\hat y}}\n",
    "=I_{D_{\\text{out}}} \\pderiv{\\ell}{\\vec{\\hat y}} \\\\\n",
    "(\\ast)~~&\\pderiv{\\ell}{\\vec{b}_1}=\\pderiv{\\vec{z}}{\\vec{b}_1}\\pderiv{\\ell}{\\vec{z}}\n",
    "=I_{H}\\pderiv{\\ell}{\\vec{z}}\\\\\n",
    "\\end{align}\n",
    "$$"
   ]
  },
  {
   "cell_type": "markdown",
   "metadata": {
    "slideshow": {
     "slide_type": "subslide"
    }
   },
   "source": [
    "The final gradients for weight update, including regularization will be\n",
    "\n",
    "$$\n",
    "\\nabla_{\\mat{W}_j}L_{\\mathcal{S}}=\\frac{1}{N}\\sum_{i=1}^{N} \\pderiv{\\ell_i}{\\mat{W}_j} + \\lambda\\mat{W}_j, \\ j=1,2.\n",
    "$$"
   ]
  },
  {
   "cell_type": "markdown",
   "metadata": {
    "slideshow": {
     "slide_type": "subslide"
    }
   },
   "source": [
    "Let's implement it from scratch using just `numpy`."
   ]
  },
  {
   "cell_type": "code",
   "execution_count": 5,
   "metadata": {
    "slideshow": {
     "slide_type": "subslide"
    }
   },
   "outputs": [],
   "source": [
    "# A simple MLP with one hidden layer\n",
    "\n",
    "# N: batch size\n",
    "# D_in: number of features\n",
    "N, D_in =  64, 10\n",
    "# H: hidden-layer\n",
    "# D_out: output dimension\n",
    "H, D_out =  100, 1\n",
    "\n",
    "# Random input data\n",
    "X = np.random.randn(N, D_in)\n",
    "y = np.random.randn(N, D_out)\n",
    "\n",
    "# Model weights and biases\n",
    "wstd = 0.01\n",
    "W1 = np.random.randn(H, D_in)*wstd\n",
    "b1 = np.random.randn(H,)*wstd + 0.1\n",
    "W2 = np.random.randn(D_out, H)*wstd\n",
    "b2 = np.random.randn(D_out,)*wstd + 0.1\n",
    "\n",
    "reg_lambda = 0.5\n",
    "learning_rate = 1e-3"
   ]
  },
  {
   "cell_type": "code",
   "execution_count": 6,
   "metadata": {
    "scrolled": true,
    "slideshow": {
     "slide_type": "subslide"
    }
   },
   "outputs": [
    {
     "name": "stdout",
     "output_type": "stream",
     "text": [
      ".........................................................................................................................................................................................................................................................."
     ]
    }
   ],
   "source": [
    "losses = []\n",
    "for epoch in range(250):\n",
    "    # Forward pass, hidden layer: A = relu(X W1 + b1), Shape: (N, H)\n",
    "    Z = X.dot(W1.T) + b1\n",
    "    A = np.maximum(Z, 0)\n",
    "    \n",
    "    # Forward pass, output layer: Y_hat = A W2 + b2, Shape: (N, D_out)\n",
    "    Y_hat = A.dot(W2.T) + b2\n",
    "    \n",
    "    # Loss calculation (MSE)\n",
    "    loss = np.mean((Y_hat - y) ** 2); losses.append(loss) # (N, D_out)\n",
    "    \n",
    "    # Backward pass:  Output layer\n",
    "    d_Y_hat = (1./N) * (Y_hat - y)     # (N, D_out)\n",
    "    d_W2 = d_Y_hat.T.dot(A)            # (D_out, H)\n",
    "    d_A = d_Y_hat.dot(W2)              # (N, H)\n",
    "    d_b2 = np.sum(d_Y_hat, axis=0)     # (D_out,)\n",
    "    \n",
    "    # Backward pass: Hidden layer\n",
    "    d_Z = d_A * np.array(Z > 0, dtype=np.float64)  # (N, H)\n",
    "    d_W1 = d_Z.T.dot(X)                          # (H, D_in)\n",
    "    d_b1 = np.sum(d_Z, axis=0)                   # (H,)\n",
    "    \n",
    "    # Backward pass: Regularization term\n",
    "    d_W2 += reg_lambda * W2\n",
    "    d_W1 += reg_lambda * W1\n",
    "    \n",
    "    # Gradient descent step\n",
    "    W2 -= d_W2 * learning_rate; b2 -= d_b2 * learning_rate\n",
    "    W1 -= d_W1 * learning_rate; b1 -= d_b1 * learning_rate\n",
    "    print('.', end='')"
   ]
  },
  {
   "cell_type": "code",
   "execution_count": 7,
   "metadata": {
    "slideshow": {
     "slide_type": "subslide"
    }
   },
   "outputs": [
    {
     "data": {
      "image/png": "[encoded data removed]",
      "text/plain": [
       "<Figure size 1000x500 with 1 Axes>"
      ]
     },
     "metadata": {},
     "output_type": "display_data"
    }
   ],
   "source": [
    "# Plot losses\n",
    "_, ax = plt.subplots(figsize=(10,5))\n",
    "ax.plot(losses)\n",
    "ax.set_ylabel('MSE loss'); ax.set_xlabel('Epoch');"
   ]
  },
  {
   "cell_type": "markdown",
   "metadata": {
    "slideshow": {
     "slide_type": "subslide"
    }
   },
   "source": [
    "Note that this implementation is not ideal, as it's:"
   ]
  },
  {
   "cell_type": "markdown",
   "metadata": {
    "slideshow": {
     "slide_type": "fragment"
    }
   },
   "source": [
    "- Non modular (hard to switch components)\n",
    "- Hard to extend (e.g. to add layers)\n",
    "- Error prone (hard-coded manual calculations)"
   ]
  },
  {
   "cell_type": "markdown",
   "metadata": {
    "slideshow": {
     "slide_type": "fragment"
    }
   },
   "source": [
    "But it works!\n",
    "- In HW2, you'll implement a from scratch MLP that addresses these concerns.\n",
    "- And now, we'll see how to address these issues using PyTorch's API."
   ]
  },
  {
   "cell_type": "markdown",
   "metadata": {
    "slideshow": {
     "slide_type": "slide"
    }
   },
   "source": [
    "## Part 2: N-Layer MLP using PyTorch"
   ]
  },
  {
   "cell_type": "markdown",
   "metadata": {
    "slideshow": {
     "slide_type": "fragment"
    }
   },
   "source": [
    "Let's create all our usual components:\n",
    "- Dataset\n",
    "- Model\n",
    "- Loss function\n",
    "- Optimizer\n",
    "\n",
    "But this time we'll create a modular implementation where each of these components is separate and can be changed independently of the others."
   ]
  },
  {
   "cell_type": "markdown",
   "metadata": {
    "slideshow": {
     "slide_type": "subslide"
    }
   },
   "source": [
    "### Dataset"
   ]
  },
  {
   "cell_type": "markdown",
   "metadata": {
    "slideshow": {
     "slide_type": "fragment"
    }
   },
   "source": [
    "As in the previous tutorial we'll tackle an image classification task, the MNIST database of handwritten digits."
   ]
  },
  {
   "cell_type": "code",
   "execution_count": 8,
   "metadata": {
    "slideshow": {
     "slide_type": "subslide"
    }
   },
   "outputs": [],
   "source": [
    "import torch\n",
    "import torch.utils.data\n",
    "import torchvision\n",
    "import torchvision.transforms\n",
    "\n",
    "root_dir = os.path.expanduser('~/.pytorch-datasets/')"
   ]
  },
  {
   "cell_type": "code",
   "execution_count": 9,
   "metadata": {
    "slideshow": {
     "slide_type": "subslide"
    }
   },
   "outputs": [
    {
     "name": "stdout",
     "output_type": "stream",
     "text": [
      "x0: torch.Size([1, 28, 28]), y0: 5\n"
     ]
    }
   ],
   "source": [
    "tf_ds = torchvision.transforms.ToTensor()\n",
    "\n",
    "batch_size = 512\n",
    "train_size = batch_size * 10\n",
    "test_size = batch_size * 2\n",
    "\n",
    "# Datasets and loaders\n",
    "ds_train = torchvision.datasets.MNIST(root=root_dir, download=True, train=True, transform=tf_ds)\n",
    "dl_train = torch.utils.data.DataLoader(ds_train, batch_size,\n",
    "                                       sampler=torch.utils.data.SubsetRandomSampler(range(0,train_size)))\n",
    "ds_test =  torchvision.datasets.MNIST(root=root_dir, download=True, train=False, transform=tf_ds)\n",
    "dl_test = torch.utils.data.DataLoader(ds_test, batch_size,\n",
    "                                       sampler=torch.utils.data.SubsetRandomSampler(range(0,test_size)))\n",
    "\n",
    "x0, y0 = ds_train[0]\n",
    "n_features = torch.numel(x0)\n",
    "n_classes = 10\n",
    "\n",
    "print(f'x0: {x0.shape}, y0: {y0}')"
   ]
  },
  {
   "cell_type": "code",
   "execution_count": 10,
   "metadata": {
    "slideshow": {
     "slide_type": "subslide"
    }
   },
   "outputs": [
    {
     "name": "stdout",
     "output_type": "stream",
     "text": [
      "x0: torch.Size([1, 28, 28]), y0: 5\n"
     ]
    },
    {
     "data": {
      "image/png": "[encoded data removed]",
      "text/plain": [
       "<Figure size 800x800 with 10 Axes>"
      ]
     },
     "metadata": {},
     "output_type": "display_data"
    }
   ],
   "source": [
    "import sys\n",
    "sys.path.append('..')\n",
    "import t01.plot_utils as plot_utils\n",
    "# Show first few samples\n",
    "print(f'x0: {x0.shape}, y0: {y0}')\n",
    "plot_utils.dataset_first_n(ds_train, 10, cmap='gray', show_classes=True);"
   ]
  },
  {
   "cell_type": "markdown",
   "metadata": {
    "slideshow": {
     "slide_type": "subslide"
    }
   },
   "source": [
    "### Model Implementation"
   ]
  },
  {
   "cell_type": "markdown",
   "metadata": {
    "slideshow": {
     "slide_type": "fragment"
    }
   },
   "source": [
    "- The `torch.nn` module contains building blocks such as neural network layers,\n",
    "  loss functions, activations and more.\n",
    "- In this section, we'll see various parts of the `torch.nn` API.\n",
    "- We'll use `nn.Linear` which implements a single MLP layer.\n",
    "- We'll implement our model as a subclass of `nn.Module`, which means:\n",
    "    - Any tensors we set as properties will be registered as model parameters.\n",
    "    - We can nest `nn.Modules` and get all model parameters from the top-level `nn.Module`.\n",
    "    - Can be used as a function if we implement the `forward()` method."
   ]
  },
  {
   "cell_type": "markdown",
   "metadata": {
    "slideshow": {
     "slide_type": "subslide"
    }
   },
   "source": [
    "To understand `nn.Module`, lets look at a very basic one: the **fully-connected** layer."
   ]
  },
  {
   "cell_type": "code",
   "execution_count": 11,
   "metadata": {
    "slideshow": {
     "slide_type": "fragment"
    }
   },
   "outputs": [
    {
     "data": {
      "text/plain": [
       "tensor([[-4.5282e-01,  1.2563e+00, -5.7210e-01, -7.9003e-02,  1.2612e+00],\n",
       "        [ 2.2361e-01, -3.2131e-01, -2.6128e-01, -4.7427e-04, -3.6744e-01],\n",
       "        [ 1.2859e+00, -1.3961e+00,  4.1454e-01, -9.4769e-01, -1.0440e+00],\n",
       "        [-2.7718e-01,  6.5097e-01, -5.0667e-01,  1.3549e-01,  5.6826e-01],\n",
       "        [ 8.7440e-02,  1.5103e-01, -2.9617e-01, -1.0583e-01,  1.6310e-01],\n",
       "        [ 3.4281e-01,  2.3004e-02, -7.4200e-02, -2.6063e-01,  1.4599e-01],\n",
       "        [ 3.8263e-01,  2.4837e-01,  4.0334e-02, -2.7895e-01,  4.3951e-01],\n",
       "        [ 2.2322e-01,  2.6071e-01, -1.0821e-01, -1.3455e-01,  3.6020e-01],\n",
       "        [ 7.4072e-01, -7.8650e-01,  5.3352e-02, -5.9665e-01, -6.0349e-01],\n",
       "        [ 6.4103e-01, -1.0926e+00, -5.2173e-02, -1.4634e-01, -1.0945e+00]],\n",
       "       grad_fn=<AddmmBackward0>)"
      ]
     },
     "execution_count": 11,
     "metadata": {},
     "output_type": "execute_result"
    }
   ],
   "source": [
    "import torch.nn as nn\n",
    "\n",
    "fc = nn.Linear(in_features=3, out_features=5, bias=True)\n",
    "\n",
    "# Input tensor with 10 samples of 3 features\n",
    "t = torch.randn(10, 3)\n",
    "\n",
    "# Forward pass, notice that grad_fn exists\n",
    "fc(t)"
   ]
  },
  {
   "cell_type": "markdown",
   "metadata": {
    "slideshow": {
     "slide_type": "subslide"
    }
   },
   "source": [
    "`nn.Modules` have registered **parameters**, which are tensors which `require_grad`."
   ]
  },
  {
   "cell_type": "code",
   "execution_count": 12,
   "metadata": {
    "slideshow": {
     "slide_type": "fragment"
    }
   },
   "outputs": [
    {
     "name": "stdout",
     "output_type": "stream",
     "text": [
      "Parameter #0 of shape torch.Size([5, 3]):\n",
      "tensor([[-0.5026,  0.1883,  0.0444],\n",
      "        [ 0.4510, -0.3768,  0.4258],\n",
      "        [-0.3454,  0.1217,  0.2019],\n",
      "        [ 0.4184,  0.0843,  0.0547],\n",
      "        [ 0.2555, -0.3884,  0.5259]])\n",
      "\n",
      "Parameter #1 of shape torch.Size([5]):\n",
      "tensor([ 0.4873, -0.1857,  0.0077, -0.3484, -0.0287])\n",
      "\n"
     ]
    }
   ],
   "source": [
    "# Note parameter shapes\n",
    "for i, param in enumerate(fc.parameters()):\n",
    "    print(f\"Parameter #{i} of shape {param.shape}:\\n{param.data}\\n\")"
   ]
  },
  {
   "cell_type": "markdown",
   "metadata": {
    "slideshow": {
     "slide_type": "subslide"
    }
   },
   "source": [
    "We can create custom `nn.Module`s with arbitrary logic. \n",
    "\n",
    "Let's recreate a fully-connected layer ourselves:"
   ]
  },
  {
   "cell_type": "code",
   "execution_count": 13,
   "metadata": {
    "slideshow": {
     "slide_type": "fragment"
    }
   },
   "outputs": [],
   "source": [
    "class MyFullyConnectedLayer(nn.Module):\n",
    "    \n",
    "    def __init__(self, in_features, out_features):\n",
    "        super().__init__() # don't forget this!\n",
    "        \n",
    "        # nn.Parameter just marks W,b for inclusion in list of parameters\n",
    "        self.W = nn.Parameter(torch.randn(out_features, in_features, requires_grad=True))\n",
    "        self.b = nn.Parameter(torch.randn(out_features, requires_grad=True))\n",
    "                \n",
    "    def forward(self, x):\n",
    "        # x assumed to be (N, in_features)\n",
    "        z = torch.matmul(x, self.W.transpose(0, 1)) + self.b\n",
    "        \n",
    "        # Our custom FC layer multiplies all outputs by 3 for no good reason\n",
    "        return 3 * z"
   ]
  },
  {
   "cell_type": "code",
   "execution_count": 14,
   "metadata": {
    "slideshow": {
     "slide_type": "subslide"
    }
   },
   "outputs": [],
   "source": [
    "myfc = MyFullyConnectedLayer(in_features=3, out_features=5)"
   ]
  },
  {
   "cell_type": "code",
   "execution_count": 15,
   "metadata": {
    "slideshow": {
     "slide_type": "fragment"
    }
   },
   "outputs": [
    {
     "data": {
      "text/plain": [
       "tensor([[ 10.7220,   1.0272,  -1.4259,   3.8102, -11.3306],\n",
       "        [  4.9405,   1.2089, -13.0084,  -0.5862,   2.2223],\n",
       "        [ -2.2030,  -5.5852,   8.0418,   6.4064,   8.1681],\n",
       "        [  8.8593,   2.5579, -11.2773,   0.4556,  -5.5475],\n",
       "        [  6.2595,   0.7079,  -7.2219,   1.6570,  -2.1189],\n",
       "        [  4.3696,   0.3274,  -3.7915,   3.5729,  -1.6365],\n",
       "        [  4.0188,   1.1694,  -2.3024,   5.1191,  -3.7081],\n",
       "        [  5.1131,   1.7058,  -6.2179,   3.2768,  -3.2808],\n",
       "        [  1.7286,  -3.3973,   1.6409,   3.9492,   4.2301],\n",
       "        [  1.7336,  -0.1428, -13.2750,  -1.0508,   8.2637]],\n",
       "       grad_fn=<MulBackward0>)"
      ]
     },
     "execution_count": 15,
     "metadata": {},
     "output_type": "execute_result"
    }
   ],
   "source": [
    "myfc(t)"
   ]
  },
  {
   "cell_type": "code",
   "execution_count": 16,
   "metadata": {
    "slideshow": {
     "slide_type": "subslide"
    }
   },
   "outputs": [
    {
     "data": {
      "text/plain": [
       "[Parameter containing:\n",
       " tensor([[ 1.1504, -0.5827, -0.1922],\n",
       "         [ 0.8960,  0.3183,  0.7892],\n",
       "         [-3.1043, -1.6154,  0.0551],\n",
       "         [-1.1422, -0.4267,  0.7255],\n",
       "         [-0.7962,  1.1320, -1.2134]], requires_grad=True),\n",
       " Parameter containing:\n",
       " tensor([ 1.1085, -0.1183, -0.8246,  1.3151, -0.0544], requires_grad=True)]"
      ]
     },
     "execution_count": 16,
     "metadata": {},
     "output_type": "execute_result"
    }
   ],
   "source": [
    "list(myfc.parameters())"
   ]
  },
  {
   "cell_type": "markdown",
   "metadata": {
    "slideshow": {
     "slide_type": "subslide"
    }
   },
   "source": [
    "Quick visualization of our custom module's **computation graph**:"
   ]
  },
  {
   "cell_type": "code",
   "execution_count": 17,
   "metadata": {
    "slideshow": {
     "slide_type": "fragment"
    }
   },
   "outputs": [
    {
     "data": {
      "image/svg+xml": [
       "<?xml version=\"1.0\" encoding=\"UTF-8\" standalone=\"no\"?>\n",
       "<!DOCTYPE svg PUBLIC \"-//W3C//DTD SVG 1.1//EN\"\n",
       " \"http://www.w3.org/Graphics/SVG/1.1/DTD/svg11.dtd\">\n",
       "<!-- Generated by graphviz version 10.0.1 (20240210.2158)\n",
       " -->\n",
       "<!-- Pages: 1 -->\n",
       "<svg width=\"229pt\" height=\"393pt\"\n",
       " viewBox=\"0.00 0.00 229.00 393.25\" xmlns=\"http://www.w3.org/2000/svg\" xmlns:xlink=\"http://www.w3.org/1999/xlink\">\n",
       "<g id=\"graph0\" class=\"graph\" transform=\"scale(1 1) rotate(0) translate(4 389.25)\">\n",
       "<polygon fill=\"white\" stroke=\"none\" points=\"-4,4 -4,-389.25 225,-389.25 225,4 -4,4\"/>\n",
       "<!-- 140501360497264 -->\n",
       "<g id=\"node1\" class=\"node\">\n",
       "<title>140501360497264</title>\n",
       "<polygon fill=\"#caff70\" stroke=\"black\" points=\"148,-31.25 84,-31.25 84,0 148,0 148,-31.25\"/>\n",
       "<text text-anchor=\"middle\" x=\"116\" y=\"-5.75\" font-family=\"monospace\" font-size=\"10.00\"> (10, 5)</text>\n",
       "</g>\n",
       "<!-- 140500750531696 -->\n",
       "<g id=\"node2\" class=\"node\">\n",
       "<title>140500750531696</title>\n",
       "<polygon fill=\"lightgrey\" stroke=\"black\" points=\"160,-86.5 72,-86.5 72,-67.25 160,-67.25 160,-86.5\"/>\n",
       "<text text-anchor=\"middle\" x=\"116\" y=\"-73\" font-family=\"monospace\" font-size=\"10.00\">MulBackward0</text>\n",
       "</g>\n",
       "<!-- 140500750531696&#45;&gt;140501360497264 -->\n",
       "<g id=\"edge8\" class=\"edge\">\n",
       "<title>140500750531696&#45;&gt;140501360497264</title>\n",
       "<path fill=\"none\" stroke=\"black\" d=\"M116,-66.88C116,-60.54 116,-51.7 116,-43.2\"/>\n",
       "<polygon fill=\"black\" stroke=\"black\" points=\"119.5,-43.22 116,-33.22 112.5,-43.22 119.5,-43.22\"/>\n",
       "</g>\n",
       "<!-- 140500750531792 -->\n",
       "<g id=\"node3\" class=\"node\">\n",
       "<title>140500750531792</title>\n",
       "<polygon fill=\"lightgrey\" stroke=\"black\" points=\"160,-141.75 72,-141.75 72,-122.5 160,-122.5 160,-141.75\"/>\n",
       "<text text-anchor=\"middle\" x=\"116\" y=\"-128.25\" font-family=\"monospace\" font-size=\"10.00\">AddBackward0</text>\n",
       "</g>\n",
       "<!-- 140500750531792&#45;&gt;140500750531696 -->\n",
       "<g id=\"edge1\" class=\"edge\">\n",
       "<title>140500750531792&#45;&gt;140500750531696</title>\n",
       "<path fill=\"none\" stroke=\"black\" d=\"M116,-122.33C116,-115.82 116,-106.67 116,-98.37\"/>\n",
       "<polygon fill=\"black\" stroke=\"black\" points=\"119.5,-98.37 116,-88.37 112.5,-98.37 119.5,-98.37\"/>\n",
       "</g>\n",
       "<!-- 140500750531504 -->\n",
       "<g id=\"node4\" class=\"node\">\n",
       "<title>140500750531504</title>\n",
       "<polygon fill=\"lightgrey\" stroke=\"black\" points=\"103,-197 21,-197 21,-177.75 103,-177.75 103,-197\"/>\n",
       "<text text-anchor=\"middle\" x=\"62\" y=\"-183.5\" font-family=\"monospace\" font-size=\"10.00\">MmBackward0</text>\n",
       "</g>\n",
       "<!-- 140500750531504&#45;&gt;140500750531792 -->\n",
       "<g id=\"edge2\" class=\"edge\">\n",
       "<title>140500750531504&#45;&gt;140500750531792</title>\n",
       "<path fill=\"none\" stroke=\"black\" d=\"M70.92,-177.58C78.45,-170.15 89.47,-159.29 98.73,-150.16\"/>\n",
       "<polygon fill=\"black\" stroke=\"black\" points=\"101.15,-152.69 105.81,-143.17 96.23,-147.7 101.15,-152.69\"/>\n",
       "</g>\n",
       "<!-- 140500750531888 -->\n",
       "<g id=\"node5\" class=\"node\">\n",
       "<title>140500750531888</title>\n",
       "<polygon fill=\"lightgrey\" stroke=\"black\" points=\"124,-257.88 0,-257.88 0,-238.62 124,-238.62 124,-257.88\"/>\n",
       "<text text-anchor=\"middle\" x=\"62\" y=\"-244.38\" font-family=\"monospace\" font-size=\"10.00\">TransposeBackward0</text>\n",
       "</g>\n",
       "<!-- 140500750531888&#45;&gt;140500750531504 -->\n",
       "<g id=\"edge3\" class=\"edge\">\n",
       "<title>140500750531888&#45;&gt;140500750531504</title>\n",
       "<path fill=\"none\" stroke=\"black\" d=\"M62,-238.31C62,-230.53 62,-218.95 62,-208.91\"/>\n",
       "<polygon fill=\"black\" stroke=\"black\" points=\"65.5,-208.91 62,-198.91 58.5,-208.91 65.5,-208.91\"/>\n",
       "</g>\n",
       "<!-- 140500750531984 -->\n",
       "<g id=\"node6\" class=\"node\">\n",
       "<title>140500750531984</title>\n",
       "<polygon fill=\"lightgrey\" stroke=\"black\" points=\"112,-318.75 12,-318.75 12,-299.5 112,-299.5 112,-318.75\"/>\n",
       "<text text-anchor=\"middle\" x=\"62\" y=\"-305.25\" font-family=\"monospace\" font-size=\"10.00\">AccumulateGrad</text>\n",
       "</g>\n",
       "<!-- 140500750531984&#45;&gt;140500750531888 -->\n",
       "<g id=\"edge4\" class=\"edge\">\n",
       "<title>140500750531984&#45;&gt;140500750531888</title>\n",
       "<path fill=\"none\" stroke=\"black\" d=\"M62,-299.18C62,-291.4 62,-279.83 62,-269.78\"/>\n",
       "<polygon fill=\"black\" stroke=\"black\" points=\"65.5,-269.79 62,-259.79 58.5,-269.79 65.5,-269.79\"/>\n",
       "</g>\n",
       "<!-- 140500875268480 -->\n",
       "<g id=\"node7\" class=\"node\">\n",
       "<title>140500875268480</title>\n",
       "<polygon fill=\"lightblue\" stroke=\"black\" points=\"91,-385.25 33,-385.25 33,-354.75 91,-354.75 91,-385.25\"/>\n",
       "<text text-anchor=\"middle\" x=\"62\" y=\"-371.75\" font-family=\"monospace\" font-size=\"10.00\">W</text>\n",
       "<text text-anchor=\"middle\" x=\"62\" y=\"-360.5\" font-family=\"monospace\" font-size=\"10.00\"> (5, 3)</text>\n",
       "</g>\n",
       "<!-- 140500875268480&#45;&gt;140500750531984 -->\n",
       "<g id=\"edge5\" class=\"edge\">\n",
       "<title>140500875268480&#45;&gt;140500750531984</title>\n",
       "<path fill=\"none\" stroke=\"black\" d=\"M62,-354.45C62,-347.21 62,-338.34 62,-330.44\"/>\n",
       "<polygon fill=\"black\" stroke=\"black\" points=\"65.5,-330.71 62,-320.71 58.5,-330.71 65.5,-330.71\"/>\n",
       "</g>\n",
       "<!-- 140500750531552 -->\n",
       "<g id=\"node8\" class=\"node\">\n",
       "<title>140500750531552</title>\n",
       "<polygon fill=\"lightgrey\" stroke=\"black\" points=\"221,-197 121,-197 121,-177.75 221,-177.75 221,-197\"/>\n",
       "<text text-anchor=\"middle\" x=\"171\" y=\"-183.5\" font-family=\"monospace\" font-size=\"10.00\">AccumulateGrad</text>\n",
       "</g>\n",
       "<!-- 140500750531552&#45;&gt;140500750531792 -->\n",
       "<g id=\"edge6\" class=\"edge\">\n",
       "<title>140500750531552&#45;&gt;140500750531792</title>\n",
       "<path fill=\"none\" stroke=\"black\" d=\"M161.92,-177.58C154.16,-170.07 142.79,-159.06 133.3,-149.88\"/>\n",
       "<polygon fill=\"black\" stroke=\"black\" points=\"135.99,-147.6 126.37,-143.16 131.12,-152.63 135.99,-147.6\"/>\n",
       "</g>\n",
       "<!-- 140500875270400 -->\n",
       "<g id=\"node9\" class=\"node\">\n",
       "<title>140500875270400</title>\n",
       "<polygon fill=\"lightblue\" stroke=\"black\" points=\"198,-263.5 144,-263.5 144,-233 198,-233 198,-263.5\"/>\n",
       "<text text-anchor=\"middle\" x=\"171\" y=\"-250\" font-family=\"monospace\" font-size=\"10.00\">b</text>\n",
       "<text text-anchor=\"middle\" x=\"171\" y=\"-238.75\" font-family=\"monospace\" font-size=\"10.00\"> (5)</text>\n",
       "</g>\n",
       "<!-- 140500875270400&#45;&gt;140500750531552 -->\n",
       "<g id=\"edge7\" class=\"edge\">\n",
       "<title>140500875270400&#45;&gt;140500750531552</title>\n",
       "<path fill=\"none\" stroke=\"black\" d=\"M171,-232.7C171,-225.46 171,-216.59 171,-208.69\"/>\n",
       "<polygon fill=\"black\" stroke=\"black\" points=\"174.5,-208.96 171,-198.96 167.5,-208.96 174.5,-208.96\"/>\n",
       "</g>\n",
       "</g>\n",
       "</svg>\n"
      ],
      "text/plain": [
       "<graphviz.graphs.Digraph at 0x7fc905ae2700>"
      ]
     },
     "execution_count": 17,
     "metadata": {},
     "output_type": "execute_result"
    }
   ],
   "source": [
    "import torchviz\n",
    "torchviz.make_dot(myfc(t), params=dict(W=myfc.W, b=myfc.b))"
   ]
  },
  {
   "cell_type": "markdown",
   "metadata": {
    "slideshow": {
     "slide_type": "subslide"
    }
   },
   "source": [
    "Now that we know about `nn.Module`s, lets create an fairly-general MLP for multiclass classification."
   ]
  },
  {
   "cell_type": "code",
   "execution_count": 18,
   "metadata": {
    "slideshow": {
     "slide_type": "subslide"
    }
   },
   "outputs": [],
   "source": [
    "class MLP(torch.nn.Module):\n",
    "    NLS = {'relu': torch.nn.ReLU, 'tanh': nn.Tanh, 'sigmoid': nn.Sigmoid, 'softmax': nn.Softmax, 'logsoftmax': nn.LogSoftmax}\n",
    "\n",
    "    def __init__(self, D_in: int, hidden_dims: Sequence[int], D_out: int, nonlin='relu'):\n",
    "        super().__init__()\n",
    "        \n",
    "        all_dims = [D_in, *hidden_dims, D_out]\n",
    "        non_linearity = MLP.NLS[nonlin]\n",
    "        layers = []\n",
    "        \n",
    "        for in_dim, out_dim in zip(all_dims[:-1], all_dims[1:]):\n",
    "            layers += [\n",
    "                nn.Linear(in_dim, out_dim, bias=True),\n",
    "                non_linearity()\n",
    "            ]\n",
    "        \n",
    "        # Sequential is a container for layers\n",
    "        self.fc_layers = nn.Sequential(*layers[:-1])\n",
    "        \n",
    "        # Output non-linearity\n",
    "        self.log_softmax = nn.LogSoftmax(dim=1)\n",
    "\n",
    "    def forward(self, x):\n",
    "        x = torch.reshape(x, (x.shape[0], -1))\n",
    "        z = self.fc_layers(x)\n",
    "        y_pred = self.log_softmax(z)\n",
    "        # Output is always log-probability\n",
    "        return y_pred"
   ]
  },
  {
   "cell_type": "code",
   "execution_count": 19,
   "metadata": {
    "slideshow": {
     "slide_type": "subslide"
    }
   },
   "outputs": [
    {
     "name": "stdout",
     "output_type": "stream",
     "text": [
      "MLP(\n",
      "  (fc_layers): Sequential(\n",
      "    (0): Linear(in_features=784, out_features=32, bias=True)\n",
      "    (1): Tanh()\n",
      "    (2): Linear(in_features=32, out_features=64, bias=True)\n",
      "    (3): Tanh()\n",
      "    (4): Linear(in_features=64, out_features=128, bias=True)\n",
      "    (5): Tanh()\n",
      "    (6): Linear(in_features=128, out_features=64, bias=True)\n",
      "    (7): Tanh()\n",
      "    (8): Linear(in_features=64, out_features=10, bias=True)\n",
      "  )\n",
      "  (log_softmax): LogSoftmax(dim=1)\n",
      ")\n"
     ]
    }
   ],
   "source": [
    "# Create an instance of the model: 5-layer MLP\n",
    "mlp5 = MLP(D_in=n_features, hidden_dims=[32, 64, 128, 64], D_out=n_classes, nonlin='tanh')\n",
    "\n",
    "print(mlp5)"
   ]
  },
  {
   "cell_type": "code",
   "execution_count": 20,
   "metadata": {
    "slideshow": {
     "slide_type": "fragment"
    }
   },
   "outputs": [
    {
     "name": "stdout",
     "output_type": "stream",
     "text": [
      "number of parameter tensors: 10\n"
     ]
    }
   ],
   "source": [
    "# Parameter tensors in nested nn.Modules are automatically discovered.\n",
    "print(f'number of parameter tensors: {len(list(mlp5.parameters()))}')"
   ]
  },
  {
   "cell_type": "code",
   "execution_count": 21,
   "metadata": {
    "slideshow": {
     "slide_type": "fragment"
    }
   },
   "outputs": [
    {
     "name": "stdout",
     "output_type": "stream",
     "text": [
      "number of parameters: 44458\n"
     ]
    }
   ],
   "source": [
    "print(f'number of parameters: {np.sum([torch.numel(p) for p in mlp5.parameters()])}')"
   ]
  },
  {
   "cell_type": "code",
   "execution_count": 22,
   "metadata": {
    "slideshow": {
     "slide_type": "subslide"
    }
   },
   "outputs": [
    {
     "name": "stdout",
     "output_type": "stream",
     "text": [
      "x0.shape=torch.Size([1, 28, 28])\n",
      "\n",
      "y_hat0.shape=torch.Size([1, 10])\n",
      "\n",
      "y_hat0=tensor([[-2.1753, -2.3834, -2.1927, -2.2829, -2.2686, -2.4502, -2.4166, -2.2084,\n",
      "         -2.2719, -2.4233]], grad_fn=<LogSoftmaxBackward0>)\n"
     ]
    }
   ],
   "source": [
    "# Test a forward pass\n",
    "y_hat0 = mlp5(x0)\n",
    "\n",
    "print(f'{x0.shape=}\\n')\n",
    "print(f'{y_hat0.shape=}\\n')\n",
    "print(f'{y_hat0=}')"
   ]
  },
  {
   "cell_type": "markdown",
   "metadata": {
    "slideshow": {
     "slide_type": "subslide"
    }
   },
   "source": [
    "Quick visualization of our full MLP's **computation graph**:"
   ]
  },
  {
   "cell_type": "code",
   "execution_count": 23,
   "metadata": {
    "slideshow": {
     "slide_type": "subslide"
    }
   },
   "outputs": [
    {
     "data": {
      "image/svg+xml": [
       "<?xml version=\"1.0\" encoding=\"UTF-8\" standalone=\"no\"?>\n",
       "<!DOCTYPE svg PUBLIC \"-//W3C//DTD SVG 1.1//EN\"\n",
       " \"http://www.w3.org/Graphics/SVG/1.1/DTD/svg11.dtd\">\n",
       "<!-- Generated by graphviz version 10.0.1 (20240210.2158)\n",
       " -->\n",
       "<!-- Pages: 1 -->\n",
       "<svg width=\"519pt\" height=\"864pt\"\n",
       " viewBox=\"0.00 0.00 519.39 864.00\" xmlns=\"http://www.w3.org/2000/svg\" xmlns:xlink=\"http://www.w3.org/1999/xlink\">\n",
       "<g id=\"graph0\" class=\"graph\" transform=\"scale(0.993103 0.993103) rotate(0) translate(4 866)\">\n",
       "<polygon fill=\"white\" stroke=\"none\" points=\"-4,4 -4,-866 519,-866 519,4 -4,4\"/>\n",
       "<!-- 140501000677952 -->\n",
       "<g id=\"node1\" class=\"node\">\n",
       "<title>140501000677952</title>\n",
       "<polygon fill=\"#caff70\" stroke=\"black\" points=\"290,-31.25 226,-31.25 226,0 290,0 290,-31.25\"/>\n",
       "<text text-anchor=\"middle\" x=\"258\" y=\"-5.75\" font-family=\"monospace\" font-size=\"10.00\"> (1, 10)</text>\n",
       "</g>\n",
       "<!-- 140501000667392 -->\n",
       "<g id=\"node2\" class=\"node\">\n",
       "<title>140501000667392</title>\n",
       "<polygon fill=\"lightgrey\" stroke=\"black\" points=\"323,-86.5 193,-86.5 193,-67.25 323,-67.25 323,-86.5\"/>\n",
       "<text text-anchor=\"middle\" x=\"258\" y=\"-73\" font-family=\"monospace\" font-size=\"10.00\">LogSoftmaxBackward0</text>\n",
       "</g>\n",
       "<!-- 140501000667392&#45;&gt;140501000677952 -->\n",
       "<g id=\"edge35\" class=\"edge\">\n",
       "<title>140501000667392&#45;&gt;140501000677952</title>\n",
       "<path fill=\"none\" stroke=\"black\" d=\"M258,-66.88C258,-60.54 258,-51.7 258,-43.2\"/>\n",
       "<polygon fill=\"black\" stroke=\"black\" points=\"261.5,-43.22 258,-33.22 254.5,-43.22 261.5,-43.22\"/>\n",
       "</g>\n",
       "<!-- 140501000670656 -->\n",
       "<g id=\"node3\" class=\"node\">\n",
       "<title>140501000670656</title>\n",
       "<polygon fill=\"lightgrey\" stroke=\"black\" points=\"308,-141.75 208,-141.75 208,-122.5 308,-122.5 308,-141.75\"/>\n",
       "<text text-anchor=\"middle\" x=\"258\" y=\"-128.25\" font-family=\"monospace\" font-size=\"10.00\">AddmmBackward0</text>\n",
       "</g>\n",
       "<!-- 140501000670656&#45;&gt;140501000667392 -->\n",
       "<g id=\"edge1\" class=\"edge\">\n",
       "<title>140501000670656&#45;&gt;140501000667392</title>\n",
       "<path fill=\"none\" stroke=\"black\" d=\"M258,-122.33C258,-115.82 258,-106.67 258,-98.37\"/>\n",
       "<polygon fill=\"black\" stroke=\"black\" points=\"261.5,-98.37 258,-88.37 254.5,-98.37 261.5,-98.37\"/>\n",
       "</g>\n",
       "<!-- 140501000552304 -->\n",
       "<g id=\"node4\" class=\"node\">\n",
       "<title>140501000552304</title>\n",
       "<polygon fill=\"lightgrey\" stroke=\"black\" points=\"189,-197 89,-197 89,-177.75 189,-177.75 189,-197\"/>\n",
       "<text text-anchor=\"middle\" x=\"139\" y=\"-183.5\" font-family=\"monospace\" font-size=\"10.00\">AccumulateGrad</text>\n",
       "</g>\n",
       "<!-- 140501000552304&#45;&gt;140501000670656 -->\n",
       "<g id=\"edge2\" class=\"edge\">\n",
       "<title>140501000552304&#45;&gt;140501000670656</title>\n",
       "<path fill=\"none\" stroke=\"black\" d=\"M159.19,-177.34C177.91,-168.97 206.02,-156.38 227.48,-146.78\"/>\n",
       "<polygon fill=\"black\" stroke=\"black\" points=\"228.63,-150.1 236.33,-142.82 225.78,-143.71 228.63,-150.1\"/>\n",
       "</g>\n",
       "<!-- 140500750674496 -->\n",
       "<g id=\"node5\" class=\"node\">\n",
       "<title>140500750674496</title>\n",
       "<polygon fill=\"lightblue\" stroke=\"black\" points=\"190,-263.5 78,-263.5 78,-233 190,-233 190,-263.5\"/>\n",
       "<text text-anchor=\"middle\" x=\"134\" y=\"-250\" font-family=\"monospace\" font-size=\"10.00\">fc_layers.8.bias</text>\n",
       "<text text-anchor=\"middle\" x=\"134\" y=\"-238.75\" font-family=\"monospace\" font-size=\"10.00\"> (10)</text>\n",
       "</g>\n",
       "<!-- 140500750674496&#45;&gt;140501000552304 -->\n",
       "<g id=\"edge3\" class=\"edge\">\n",
       "<title>140500750674496&#45;&gt;140501000552304</title>\n",
       "<path fill=\"none\" stroke=\"black\" d=\"M135.24,-232.7C135.85,-225.46 136.6,-216.59 137.27,-208.69\"/>\n",
       "<polygon fill=\"black\" stroke=\"black\" points=\"140.74,-209.22 138.1,-198.96 133.77,-208.63 140.74,-209.22\"/>\n",
       "</g>\n",
       "<!-- 140501000550048 -->\n",
       "<g id=\"node6\" class=\"node\">\n",
       "<title>140501000550048</title>\n",
       "<polygon fill=\"lightgrey\" stroke=\"black\" points=\"305,-197 211,-197 211,-177.75 305,-177.75 305,-197\"/>\n",
       "<text text-anchor=\"middle\" x=\"258\" y=\"-183.5\" font-family=\"monospace\" font-size=\"10.00\">TanhBackward0</text>\n",
       "</g>\n",
       "<!-- 140501000550048&#45;&gt;140501000670656 -->\n",
       "<g id=\"edge4\" class=\"edge\">\n",
       "<title>140501000550048&#45;&gt;140501000670656</title>\n",
       "<path fill=\"none\" stroke=\"black\" d=\"M258,-177.58C258,-171.07 258,-161.92 258,-153.62\"/>\n",
       "<polygon fill=\"black\" stroke=\"black\" points=\"261.5,-153.62 258,-143.62 254.5,-153.62 261.5,-153.62\"/>\n",
       "</g>\n",
       "<!-- 140501000550384 -->\n",
       "<g id=\"node7\" class=\"node\">\n",
       "<title>140501000550384</title>\n",
       "<polygon fill=\"lightgrey\" stroke=\"black\" points=\"308,-257.88 208,-257.88 208,-238.62 308,-238.62 308,-257.88\"/>\n",
       "<text text-anchor=\"middle\" x=\"258\" y=\"-244.38\" font-family=\"monospace\" font-size=\"10.00\">AddmmBackward0</text>\n",
       "</g>\n",
       "<!-- 140501000550384&#45;&gt;140501000550048 -->\n",
       "<g id=\"edge5\" class=\"edge\">\n",
       "<title>140501000550384&#45;&gt;140501000550048</title>\n",
       "<path fill=\"none\" stroke=\"black\" d=\"M258,-238.31C258,-230.53 258,-218.95 258,-208.91\"/>\n",
       "<polygon fill=\"black\" stroke=\"black\" points=\"261.5,-208.91 258,-198.91 254.5,-208.91 261.5,-208.91\"/>\n",
       "</g>\n",
       "<!-- 140500196275104 -->\n",
       "<g id=\"node8\" class=\"node\">\n",
       "<title>140500196275104</title>\n",
       "<polygon fill=\"lightgrey\" stroke=\"black\" points=\"163,-324.38 63,-324.38 63,-305.12 163,-305.12 163,-324.38\"/>\n",
       "<text text-anchor=\"middle\" x=\"113\" y=\"-310.88\" font-family=\"monospace\" font-size=\"10.00\">AccumulateGrad</text>\n",
       "</g>\n",
       "<!-- 140500196275104&#45;&gt;140501000550384 -->\n",
       "<g id=\"edge6\" class=\"edge\">\n",
       "<title>140500196275104&#45;&gt;140501000550384</title>\n",
       "<path fill=\"none\" stroke=\"black\" d=\"M133.47,-304.65C157.86,-293.79 198.87,-275.55 227.13,-262.98\"/>\n",
       "<polygon fill=\"black\" stroke=\"black\" points=\"228.54,-266.19 236.25,-258.92 225.69,-259.79 228.54,-266.19\"/>\n",
       "</g>\n",
       "<!-- 140500750674256 -->\n",
       "<g id=\"node9\" class=\"node\">\n",
       "<title>140500750674256</title>\n",
       "<polygon fill=\"lightblue\" stroke=\"black\" points=\"164,-396.5 52,-396.5 52,-366 164,-366 164,-396.5\"/>\n",
       "<text text-anchor=\"middle\" x=\"108\" y=\"-383\" font-family=\"monospace\" font-size=\"10.00\">fc_layers.6.bias</text>\n",
       "<text text-anchor=\"middle\" x=\"108\" y=\"-371.75\" font-family=\"monospace\" font-size=\"10.00\"> (64)</text>\n",
       "</g>\n",
       "<!-- 140500750674256&#45;&gt;140500196275104 -->\n",
       "<g id=\"edge7\" class=\"edge\">\n",
       "<title>140500750674256&#45;&gt;140500196275104</title>\n",
       "<path fill=\"none\" stroke=\"black\" d=\"M109.13,-365.61C109.82,-356.83 110.69,-345.52 111.44,-335.9\"/>\n",
       "<polygon fill=\"black\" stroke=\"black\" points=\"114.92,-336.32 112.2,-326.08 107.94,-335.78 114.92,-336.32\"/>\n",
       "</g>\n",
       "<!-- 140500196275296 -->\n",
       "<g id=\"node10\" class=\"node\">\n",
       "<title>140500196275296</title>\n",
       "<polygon fill=\"lightgrey\" stroke=\"black\" points=\"279,-324.38 185,-324.38 185,-305.12 279,-305.12 279,-324.38\"/>\n",
       "<text text-anchor=\"middle\" x=\"232\" y=\"-310.88\" font-family=\"monospace\" font-size=\"10.00\">TanhBackward0</text>\n",
       "</g>\n",
       "<!-- 140500196275296&#45;&gt;140501000550384 -->\n",
       "<g id=\"edge8\" class=\"edge\">\n",
       "<title>140500196275296&#45;&gt;140501000550384</title>\n",
       "<path fill=\"none\" stroke=\"black\" d=\"M235.62,-304.78C239.38,-295.44 245.39,-280.53 250.24,-268.51\"/>\n",
       "<polygon fill=\"black\" stroke=\"black\" points=\"253.36,-270.13 253.85,-259.55 246.86,-267.51 253.36,-270.13\"/>\n",
       "</g>\n",
       "<!-- 140500196275440 -->\n",
       "<g id=\"node11\" class=\"node\">\n",
       "<title>140500196275440</title>\n",
       "<polygon fill=\"lightgrey\" stroke=\"black\" points=\"282,-390.88 182,-390.88 182,-371.62 282,-371.62 282,-390.88\"/>\n",
       "<text text-anchor=\"middle\" x=\"232\" y=\"-377.38\" font-family=\"monospace\" font-size=\"10.00\">AddmmBackward0</text>\n",
       "</g>\n",
       "<!-- 140500196275440&#45;&gt;140500196275296 -->\n",
       "<g id=\"edge9\" class=\"edge\">\n",
       "<title>140500196275440&#45;&gt;140500196275296</title>\n",
       "<path fill=\"none\" stroke=\"black\" d=\"M232,-371.28C232,-362.23 232,-347.95 232,-336.13\"/>\n",
       "<polygon fill=\"black\" stroke=\"black\" points=\"235.5,-336.16 232,-326.16 228.5,-336.16 235.5,-336.16\"/>\n",
       "</g>\n",
       "<!-- 140500196277552 -->\n",
       "<g id=\"node12\" class=\"node\">\n",
       "<title>140500196277552</title>\n",
       "<polygon fill=\"lightgrey\" stroke=\"black\" points=\"137,-457.38 37,-457.38 37,-438.12 137,-438.12 137,-457.38\"/>\n",
       "<text text-anchor=\"middle\" x=\"87\" y=\"-443.88\" font-family=\"monospace\" font-size=\"10.00\">AccumulateGrad</text>\n",
       "</g>\n",
       "<!-- 140500196277552&#45;&gt;140500196275440 -->\n",
       "<g id=\"edge10\" class=\"edge\">\n",
       "<title>140500196277552&#45;&gt;140500196275440</title>\n",
       "<path fill=\"none\" stroke=\"black\" d=\"M107.47,-437.65C131.86,-426.79 172.87,-408.55 201.13,-395.98\"/>\n",
       "<polygon fill=\"black\" stroke=\"black\" points=\"202.54,-399.19 210.25,-391.92 199.69,-392.79 202.54,-399.19\"/>\n",
       "</g>\n",
       "<!-- 140500750674096 -->\n",
       "<g id=\"node13\" class=\"node\">\n",
       "<title>140500750674096</title>\n",
       "<polygon fill=\"lightblue\" stroke=\"black\" points=\"138,-529.5 26,-529.5 26,-499 138,-499 138,-529.5\"/>\n",
       "<text text-anchor=\"middle\" x=\"82\" y=\"-516\" font-family=\"monospace\" font-size=\"10.00\">fc_layers.4.bias</text>\n",
       "<text text-anchor=\"middle\" x=\"82\" y=\"-504.75\" font-family=\"monospace\" font-size=\"10.00\"> (128)</text>\n",
       "</g>\n",
       "<!-- 140500750674096&#45;&gt;140500196277552 -->\n",
       "<g id=\"edge11\" class=\"edge\">\n",
       "<title>140500750674096&#45;&gt;140500196277552</title>\n",
       "<path fill=\"none\" stroke=\"black\" d=\"M83.13,-498.61C83.82,-489.83 84.69,-478.52 85.44,-468.9\"/>\n",
       "<polygon fill=\"black\" stroke=\"black\" points=\"88.92,-469.32 86.2,-459.08 81.94,-468.78 88.92,-469.32\"/>\n",
       "</g>\n",
       "<!-- 140500196275632 -->\n",
       "<g id=\"node14\" class=\"node\">\n",
       "<title>140500196275632</title>\n",
       "<polygon fill=\"lightgrey\" stroke=\"black\" points=\"253,-457.38 159,-457.38 159,-438.12 253,-438.12 253,-457.38\"/>\n",
       "<text text-anchor=\"middle\" x=\"206\" y=\"-443.88\" font-family=\"monospace\" font-size=\"10.00\">TanhBackward0</text>\n",
       "</g>\n",
       "<!-- 140500196275632&#45;&gt;140500196275440 -->\n",
       "<g id=\"edge12\" class=\"edge\">\n",
       "<title>140500196275632&#45;&gt;140500196275440</title>\n",
       "<path fill=\"none\" stroke=\"black\" d=\"M209.62,-437.78C213.38,-428.44 219.39,-413.53 224.24,-401.51\"/>\n",
       "<polygon fill=\"black\" stroke=\"black\" points=\"227.36,-403.13 227.85,-392.55 220.86,-400.51 227.36,-403.13\"/>\n",
       "</g>\n",
       "<!-- 140500196274912 -->\n",
       "<g id=\"node15\" class=\"node\">\n",
       "<title>140500196274912</title>\n",
       "<polygon fill=\"lightgrey\" stroke=\"black\" points=\"256,-523.88 156,-523.88 156,-504.62 256,-504.62 256,-523.88\"/>\n",
       "<text text-anchor=\"middle\" x=\"206\" y=\"-510.38\" font-family=\"monospace\" font-size=\"10.00\">AddmmBackward0</text>\n",
       "</g>\n",
       "<!-- 140500196274912&#45;&gt;140500196275632 -->\n",
       "<g id=\"edge13\" class=\"edge\">\n",
       "<title>140500196274912&#45;&gt;140500196275632</title>\n",
       "<path fill=\"none\" stroke=\"black\" d=\"M206,-504.28C206,-495.23 206,-480.95 206,-469.13\"/>\n",
       "<polygon fill=\"black\" stroke=\"black\" points=\"209.5,-469.16 206,-459.16 202.5,-469.16 209.5,-469.16\"/>\n",
       "</g>\n",
       "<!-- 140500196276064 -->\n",
       "<g id=\"node16\" class=\"node\">\n",
       "<title>140500196276064</title>\n",
       "<polygon fill=\"lightgrey\" stroke=\"black\" points=\"110,-590.38 10,-590.38 10,-571.12 110,-571.12 110,-590.38\"/>\n",
       "<text text-anchor=\"middle\" x=\"60\" y=\"-576.88\" font-family=\"monospace\" font-size=\"10.00\">AccumulateGrad</text>\n",
       "</g>\n",
       "<!-- 140500196276064&#45;&gt;140500196274912 -->\n",
       "<g id=\"edge14\" class=\"edge\">\n",
       "<title>140500196276064&#45;&gt;140500196274912</title>\n",
       "<path fill=\"none\" stroke=\"black\" d=\"M80.61,-570.65C105.28,-559.75 146.83,-541.39 175.29,-528.82\"/>\n",
       "<polygon fill=\"black\" stroke=\"black\" points=\"176.38,-532.16 184.11,-524.92 173.55,-525.76 176.38,-532.16\"/>\n",
       "</g>\n",
       "<!-- 140500750674816 -->\n",
       "<g id=\"node17\" class=\"node\">\n",
       "<title>140500750674816</title>\n",
       "<polygon fill=\"lightblue\" stroke=\"black\" points=\"112,-662.5 0,-662.5 0,-632 112,-632 112,-662.5\"/>\n",
       "<text text-anchor=\"middle\" x=\"56\" y=\"-649\" font-family=\"monospace\" font-size=\"10.00\">fc_layers.2.bias</text>\n",
       "<text text-anchor=\"middle\" x=\"56\" y=\"-637.75\" font-family=\"monospace\" font-size=\"10.00\"> (64)</text>\n",
       "</g>\n",
       "<!-- 140500750674816&#45;&gt;140500196276064 -->\n",
       "<g id=\"edge15\" class=\"edge\">\n",
       "<title>140500750674816&#45;&gt;140500196276064</title>\n",
       "<path fill=\"none\" stroke=\"black\" d=\"M56.91,-631.61C57.45,-622.83 58.15,-611.52 58.75,-601.9\"/>\n",
       "<polygon fill=\"black\" stroke=\"black\" points=\"62.23,-602.28 59.36,-592.08 55.25,-601.85 62.23,-602.28\"/>\n",
       "</g>\n",
       "<!-- 140501360454624 -->\n",
       "<g id=\"node18\" class=\"node\">\n",
       "<title>140501360454624</title>\n",
       "<polygon fill=\"lightgrey\" stroke=\"black\" points=\"227,-590.38 133,-590.38 133,-571.12 227,-571.12 227,-590.38\"/>\n",
       "<text text-anchor=\"middle\" x=\"180\" y=\"-576.88\" font-family=\"monospace\" font-size=\"10.00\">TanhBackward0</text>\n",
       "</g>\n",
       "<!-- 140501360454624&#45;&gt;140500196274912 -->\n",
       "<g id=\"edge16\" class=\"edge\">\n",
       "<title>140501360454624&#45;&gt;140500196274912</title>\n",
       "<path fill=\"none\" stroke=\"black\" d=\"M183.62,-570.78C187.38,-561.44 193.39,-546.53 198.24,-534.51\"/>\n",
       "<polygon fill=\"black\" stroke=\"black\" points=\"201.36,-536.13 201.85,-525.55 194.86,-533.51 201.36,-536.13\"/>\n",
       "</g>\n",
       "<!-- 140501360452128 -->\n",
       "<g id=\"node19\" class=\"node\">\n",
       "<title>140501360452128</title>\n",
       "<polygon fill=\"lightgrey\" stroke=\"black\" points=\"230,-656.88 130,-656.88 130,-637.62 230,-637.62 230,-656.88\"/>\n",
       "<text text-anchor=\"middle\" x=\"180\" y=\"-643.38\" font-family=\"monospace\" font-size=\"10.00\">AddmmBackward0</text>\n",
       "</g>\n",
       "<!-- 140501360452128&#45;&gt;140501360454624 -->\n",
       "<g id=\"edge17\" class=\"edge\">\n",
       "<title>140501360452128&#45;&gt;140501360454624</title>\n",
       "<path fill=\"none\" stroke=\"black\" d=\"M180,-637.28C180,-628.23 180,-613.95 180,-602.13\"/>\n",
       "<polygon fill=\"black\" stroke=\"black\" points=\"183.5,-602.16 180,-592.16 176.5,-602.16 183.5,-602.16\"/>\n",
       "</g>\n",
       "<!-- 140501360455104 -->\n",
       "<g id=\"node20\" class=\"node\">\n",
       "<title>140501360455104</title>\n",
       "<polygon fill=\"lightgrey\" stroke=\"black\" points=\"115,-723.38 15,-723.38 15,-704.12 115,-704.12 115,-723.38\"/>\n",
       "<text text-anchor=\"middle\" x=\"65\" y=\"-709.88\" font-family=\"monospace\" font-size=\"10.00\">AccumulateGrad</text>\n",
       "</g>\n",
       "<!-- 140501360455104&#45;&gt;140501360452128 -->\n",
       "<g id=\"edge18\" class=\"edge\">\n",
       "<title>140501360455104&#45;&gt;140501360452128</title>\n",
       "<path fill=\"none\" stroke=\"black\" d=\"M80.99,-703.78C99.85,-693.2 131.47,-675.47 153.9,-662.89\"/>\n",
       "<polygon fill=\"black\" stroke=\"black\" points=\"155.45,-666.04 162.45,-658.09 152.02,-659.93 155.45,-666.04\"/>\n",
       "</g>\n",
       "<!-- 140500750675776 -->\n",
       "<g id=\"node21\" class=\"node\">\n",
       "<title>140500750675776</title>\n",
       "<polygon fill=\"lightblue\" stroke=\"black\" points=\"117,-795.5 5,-795.5 5,-765 117,-765 117,-795.5\"/>\n",
       "<text text-anchor=\"middle\" x=\"61\" y=\"-782\" font-family=\"monospace\" font-size=\"10.00\">fc_layers.0.bias</text>\n",
       "<text text-anchor=\"middle\" x=\"61\" y=\"-770.75\" font-family=\"monospace\" font-size=\"10.00\"> (32)</text>\n",
       "</g>\n",
       "<!-- 140500750675776&#45;&gt;140501360455104 -->\n",
       "<g id=\"edge19\" class=\"edge\">\n",
       "<title>140500750675776&#45;&gt;140501360455104</title>\n",
       "<path fill=\"none\" stroke=\"black\" d=\"M61.91,-764.61C62.45,-755.83 63.15,-744.52 63.75,-734.9\"/>\n",
       "<polygon fill=\"black\" stroke=\"black\" points=\"67.23,-735.28 64.36,-725.08 60.25,-734.85 67.23,-735.28\"/>\n",
       "</g>\n",
       "<!-- 140501360455440 -->\n",
       "<g id=\"node22\" class=\"node\">\n",
       "<title>140501360455440</title>\n",
       "<polygon fill=\"lightgrey\" stroke=\"black\" points=\"218,-723.38 142,-723.38 142,-704.12 218,-704.12 218,-723.38\"/>\n",
       "<text text-anchor=\"middle\" x=\"180\" y=\"-709.88\" font-family=\"monospace\" font-size=\"10.00\">TBackward0</text>\n",
       "</g>\n",
       "<!-- 140501360455440&#45;&gt;140501360452128 -->\n",
       "<g id=\"edge20\" class=\"edge\">\n",
       "<title>140501360455440&#45;&gt;140501360452128</title>\n",
       "<path fill=\"none\" stroke=\"black\" d=\"M180,-703.78C180,-694.73 180,-680.45 180,-668.63\"/>\n",
       "<polygon fill=\"black\" stroke=\"black\" points=\"183.5,-668.66 180,-658.66 176.5,-668.66 183.5,-668.66\"/>\n",
       "</g>\n",
       "<!-- 140501360454432 -->\n",
       "<g id=\"node23\" class=\"node\">\n",
       "<title>140501360454432</title>\n",
       "<polygon fill=\"lightgrey\" stroke=\"black\" points=\"235,-789.88 135,-789.88 135,-770.62 235,-770.62 235,-789.88\"/>\n",
       "<text text-anchor=\"middle\" x=\"185\" y=\"-776.38\" font-family=\"monospace\" font-size=\"10.00\">AccumulateGrad</text>\n",
       "</g>\n",
       "<!-- 140501360454432&#45;&gt;140501360455440 -->\n",
       "<g id=\"edge21\" class=\"edge\">\n",
       "<title>140501360454432&#45;&gt;140501360455440</title>\n",
       "<path fill=\"none\" stroke=\"black\" d=\"M184.3,-770.28C183.6,-761.14 182.47,-746.64 181.55,-734.75\"/>\n",
       "<polygon fill=\"black\" stroke=\"black\" points=\"185.07,-734.85 180.81,-725.15 178.09,-735.39 185.07,-734.85\"/>\n",
       "</g>\n",
       "<!-- 140500750675216 -->\n",
       "<g id=\"node24\" class=\"node\">\n",
       "<title>140500750675216</title>\n",
       "<polygon fill=\"lightblue\" stroke=\"black\" points=\"247,-862 123,-862 123,-831.5 247,-831.5 247,-862\"/>\n",
       "<text text-anchor=\"middle\" x=\"185\" y=\"-848.5\" font-family=\"monospace\" font-size=\"10.00\">fc_layers.0.weight</text>\n",
       "<text text-anchor=\"middle\" x=\"185\" y=\"-837.25\" font-family=\"monospace\" font-size=\"10.00\"> (32, 784)</text>\n",
       "</g>\n",
       "<!-- 140500750675216&#45;&gt;140501360454432 -->\n",
       "<g id=\"edge22\" class=\"edge\">\n",
       "<title>140500750675216&#45;&gt;140501360454432</title>\n",
       "<path fill=\"none\" stroke=\"black\" d=\"M185,-831.11C185,-822.33 185,-811.02 185,-801.4\"/>\n",
       "<polygon fill=\"black\" stroke=\"black\" points=\"188.5,-801.59 185,-791.59 181.5,-801.59 188.5,-801.59\"/>\n",
       "</g>\n",
       "<!-- 140501360455344 -->\n",
       "<g id=\"node25\" class=\"node\">\n",
       "<title>140501360455344</title>\n",
       "<polygon fill=\"lightgrey\" stroke=\"black\" points=\"321,-590.38 245,-590.38 245,-571.12 321,-571.12 321,-590.38\"/>\n",
       "<text text-anchor=\"middle\" x=\"283\" y=\"-576.88\" font-family=\"monospace\" font-size=\"10.00\">TBackward0</text>\n",
       "</g>\n",
       "<!-- 140501360455344&#45;&gt;140500196274912 -->\n",
       "<g id=\"edge23\" class=\"edge\">\n",
       "<title>140501360455344&#45;&gt;140500196274912</title>\n",
       "<path fill=\"none\" stroke=\"black\" d=\"M272.29,-570.78C260.11,-560.58 239.98,-543.71 225.09,-531.24\"/>\n",
       "<polygon fill=\"black\" stroke=\"black\" points=\"227.69,-528.85 217.78,-525.11 223.19,-534.22 227.69,-528.85\"/>\n",
       "</g>\n",
       "<!-- 140501360455200 -->\n",
       "<g id=\"node26\" class=\"node\">\n",
       "<title>140501360455200</title>\n",
       "<polygon fill=\"lightgrey\" stroke=\"black\" points=\"348,-656.88 248,-656.88 248,-637.62 348,-637.62 348,-656.88\"/>\n",
       "<text text-anchor=\"middle\" x=\"298\" y=\"-643.38\" font-family=\"monospace\" font-size=\"10.00\">AccumulateGrad</text>\n",
       "</g>\n",
       "<!-- 140501360455200&#45;&gt;140501360455344 -->\n",
       "<g id=\"edge24\" class=\"edge\">\n",
       "<title>140501360455200&#45;&gt;140501360455344</title>\n",
       "<path fill=\"none\" stroke=\"black\" d=\"M295.91,-637.28C293.79,-628.14 290.42,-613.64 287.65,-601.75\"/>\n",
       "<polygon fill=\"black\" stroke=\"black\" points=\"291.09,-601.06 285.41,-592.12 284.27,-602.65 291.09,-601.06\"/>\n",
       "</g>\n",
       "<!-- 140500750673936 -->\n",
       "<g id=\"node27\" class=\"node\">\n",
       "<title>140500750673936</title>\n",
       "<polygon fill=\"lightblue\" stroke=\"black\" points=\"360,-729 236,-729 236,-698.5 360,-698.5 360,-729\"/>\n",
       "<text text-anchor=\"middle\" x=\"298\" y=\"-715.5\" font-family=\"monospace\" font-size=\"10.00\">fc_layers.2.weight</text>\n",
       "<text text-anchor=\"middle\" x=\"298\" y=\"-704.25\" font-family=\"monospace\" font-size=\"10.00\"> (64, 32)</text>\n",
       "</g>\n",
       "<!-- 140500750673936&#45;&gt;140501360455200 -->\n",
       "<g id=\"edge25\" class=\"edge\">\n",
       "<title>140500750673936&#45;&gt;140501360455200</title>\n",
       "<path fill=\"none\" stroke=\"black\" d=\"M298,-698.11C298,-689.33 298,-678.02 298,-668.4\"/>\n",
       "<polygon fill=\"black\" stroke=\"black\" points=\"301.5,-668.59 298,-658.59 294.5,-668.59 301.5,-668.59\"/>\n",
       "</g>\n",
       "<!-- 140500196275584 -->\n",
       "<g id=\"node28\" class=\"node\">\n",
       "<title>140500196275584</title>\n",
       "<polygon fill=\"lightgrey\" stroke=\"black\" points=\"347,-457.38 271,-457.38 271,-438.12 347,-438.12 347,-457.38\"/>\n",
       "<text text-anchor=\"middle\" x=\"309\" y=\"-443.88\" font-family=\"monospace\" font-size=\"10.00\">TBackward0</text>\n",
       "</g>\n",
       "<!-- 140500196275584&#45;&gt;140500196275440 -->\n",
       "<g id=\"edge26\" class=\"edge\">\n",
       "<title>140500196275584&#45;&gt;140500196275440</title>\n",
       "<path fill=\"none\" stroke=\"black\" d=\"M298.29,-437.78C286.11,-427.58 265.98,-410.71 251.09,-398.24\"/>\n",
       "<polygon fill=\"black\" stroke=\"black\" points=\"253.69,-395.85 243.78,-392.11 249.19,-401.22 253.69,-395.85\"/>\n",
       "</g>\n",
       "<!-- 140500196276304 -->\n",
       "<g id=\"node29\" class=\"node\">\n",
       "<title>140500196276304</title>\n",
       "<polygon fill=\"lightgrey\" stroke=\"black\" points=\"425,-523.88 325,-523.88 325,-504.62 425,-504.62 425,-523.88\"/>\n",
       "<text text-anchor=\"middle\" x=\"375\" y=\"-510.38\" font-family=\"monospace\" font-size=\"10.00\">AccumulateGrad</text>\n",
       "</g>\n",
       "<!-- 140500196276304&#45;&gt;140500196275584 -->\n",
       "<g id=\"edge27\" class=\"edge\">\n",
       "<title>140500196276304&#45;&gt;140500196275584</title>\n",
       "<path fill=\"none\" stroke=\"black\" d=\"M365.82,-504.28C355.58,-494.27 338.77,-477.85 326.09,-465.45\"/>\n",
       "<polygon fill=\"black\" stroke=\"black\" points=\"328.78,-463.19 319.18,-458.7 323.89,-468.19 328.78,-463.19\"/>\n",
       "</g>\n",
       "<!-- 140500750674016 -->\n",
       "<g id=\"node30\" class=\"node\">\n",
       "<title>140500750674016</title>\n",
       "<polygon fill=\"lightblue\" stroke=\"black\" points=\"463,-596 339,-596 339,-565.5 463,-565.5 463,-596\"/>\n",
       "<text text-anchor=\"middle\" x=\"401\" y=\"-582.5\" font-family=\"monospace\" font-size=\"10.00\">fc_layers.4.weight</text>\n",
       "<text text-anchor=\"middle\" x=\"401\" y=\"-571.25\" font-family=\"monospace\" font-size=\"10.00\"> (128, 64)</text>\n",
       "</g>\n",
       "<!-- 140500750674016&#45;&gt;140500196276304 -->\n",
       "<g id=\"edge28\" class=\"edge\">\n",
       "<title>140500750674016&#45;&gt;140500196276304</title>\n",
       "<path fill=\"none\" stroke=\"black\" d=\"M395.1,-565.11C391.44,-556.03 386.69,-544.26 382.73,-534.43\"/>\n",
       "<polygon fill=\"black\" stroke=\"black\" points=\"386.11,-533.44 379.12,-525.48 379.61,-536.06 386.11,-533.44\"/>\n",
       "</g>\n",
       "<!-- 140500196276448 -->\n",
       "<g id=\"node31\" class=\"node\">\n",
       "<title>140500196276448</title>\n",
       "<polygon fill=\"lightgrey\" stroke=\"black\" points=\"373,-324.38 297,-324.38 297,-305.12 373,-305.12 373,-324.38\"/>\n",
       "<text text-anchor=\"middle\" x=\"335\" y=\"-310.88\" font-family=\"monospace\" font-size=\"10.00\">TBackward0</text>\n",
       "</g>\n",
       "<!-- 140500196276448&#45;&gt;140501000550384 -->\n",
       "<g id=\"edge29\" class=\"edge\">\n",
       "<title>140500196276448&#45;&gt;140501000550384</title>\n",
       "<path fill=\"none\" stroke=\"black\" d=\"M324.29,-304.78C312.11,-294.58 291.98,-277.71 277.09,-265.24\"/>\n",
       "<polygon fill=\"black\" stroke=\"black\" points=\"279.69,-262.85 269.78,-259.11 275.19,-268.22 279.69,-262.85\"/>\n",
       "</g>\n",
       "<!-- 140500196275680 -->\n",
       "<g id=\"node32\" class=\"node\">\n",
       "<title>140500196275680</title>\n",
       "<polygon fill=\"lightgrey\" stroke=\"black\" points=\"451,-390.88 351,-390.88 351,-371.62 451,-371.62 451,-390.88\"/>\n",
       "<text text-anchor=\"middle\" x=\"401\" y=\"-377.38\" font-family=\"monospace\" font-size=\"10.00\">AccumulateGrad</text>\n",
       "</g>\n",
       "<!-- 140500196275680&#45;&gt;140500196276448 -->\n",
       "<g id=\"edge30\" class=\"edge\">\n",
       "<title>140500196275680&#45;&gt;140500196276448</title>\n",
       "<path fill=\"none\" stroke=\"black\" d=\"M391.82,-371.28C381.58,-361.27 364.77,-344.85 352.09,-332.45\"/>\n",
       "<polygon fill=\"black\" stroke=\"black\" points=\"354.78,-330.19 345.18,-325.7 349.89,-335.19 354.78,-330.19\"/>\n",
       "</g>\n",
       "<!-- 140500750674176 -->\n",
       "<g id=\"node33\" class=\"node\">\n",
       "<title>140500750674176</title>\n",
       "<polygon fill=\"lightblue\" stroke=\"black\" points=\"489,-463 365,-463 365,-432.5 489,-432.5 489,-463\"/>\n",
       "<text text-anchor=\"middle\" x=\"427\" y=\"-449.5\" font-family=\"monospace\" font-size=\"10.00\">fc_layers.6.weight</text>\n",
       "<text text-anchor=\"middle\" x=\"427\" y=\"-438.25\" font-family=\"monospace\" font-size=\"10.00\"> (64, 128)</text>\n",
       "</g>\n",
       "<!-- 140500750674176&#45;&gt;140500196275680 -->\n",
       "<g id=\"edge31\" class=\"edge\">\n",
       "<title>140500750674176&#45;&gt;140500196275680</title>\n",
       "<path fill=\"none\" stroke=\"black\" d=\"M421.1,-432.11C417.44,-423.03 412.69,-411.26 408.73,-401.43\"/>\n",
       "<polygon fill=\"black\" stroke=\"black\" points=\"412.11,-400.44 405.12,-392.48 405.61,-403.06 412.11,-400.44\"/>\n",
       "</g>\n",
       "<!-- 140501000550144 -->\n",
       "<g id=\"node34\" class=\"node\">\n",
       "<title>140501000550144</title>\n",
       "<polygon fill=\"lightgrey\" stroke=\"black\" points=\"432,-197 356,-197 356,-177.75 432,-177.75 432,-197\"/>\n",
       "<text text-anchor=\"middle\" x=\"394\" y=\"-183.5\" font-family=\"monospace\" font-size=\"10.00\">TBackward0</text>\n",
       "</g>\n",
       "<!-- 140501000550144&#45;&gt;140501000670656 -->\n",
       "<g id=\"edge32\" class=\"edge\">\n",
       "<title>140501000550144&#45;&gt;140501000670656</title>\n",
       "<path fill=\"none\" stroke=\"black\" d=\"M370.93,-177.34C349.24,-168.85 316.52,-156.04 291.87,-146.39\"/>\n",
       "<polygon fill=\"black\" stroke=\"black\" points=\"293.18,-143.14 282.59,-142.75 290.63,-149.66 293.18,-143.14\"/>\n",
       "</g>\n",
       "<!-- 140500196275248 -->\n",
       "<g id=\"node35\" class=\"node\">\n",
       "<title>140500196275248</title>\n",
       "<polygon fill=\"lightgrey\" stroke=\"black\" points=\"477,-257.88 377,-257.88 377,-238.62 477,-238.62 477,-257.88\"/>\n",
       "<text text-anchor=\"middle\" x=\"427\" y=\"-244.38\" font-family=\"monospace\" font-size=\"10.00\">AccumulateGrad</text>\n",
       "</g>\n",
       "<!-- 140500196275248&#45;&gt;140501000550144 -->\n",
       "<g id=\"edge33\" class=\"edge\">\n",
       "<title>140500196275248&#45;&gt;140501000550144</title>\n",
       "<path fill=\"none\" stroke=\"black\" d=\"M421.99,-238.31C417.38,-230.1 410.41,-217.66 404.58,-207.25\"/>\n",
       "<polygon fill=\"black\" stroke=\"black\" points=\"407.74,-205.73 399.8,-198.72 401.64,-209.16 407.74,-205.73\"/>\n",
       "</g>\n",
       "<!-- 140500750674416 -->\n",
       "<g id=\"node36\" class=\"node\">\n",
       "<title>140500750674416</title>\n",
       "<polygon fill=\"lightblue\" stroke=\"black\" points=\"515,-330 391,-330 391,-299.5 515,-299.5 515,-330\"/>\n",
       "<text text-anchor=\"middle\" x=\"453\" y=\"-316.5\" font-family=\"monospace\" font-size=\"10.00\">fc_layers.8.weight</text>\n",
       "<text text-anchor=\"middle\" x=\"453\" y=\"-305.25\" font-family=\"monospace\" font-size=\"10.00\"> (10, 64)</text>\n",
       "</g>\n",
       "<!-- 140500750674416&#45;&gt;140500196275248 -->\n",
       "<g id=\"edge34\" class=\"edge\">\n",
       "<title>140500750674416&#45;&gt;140500196275248</title>\n",
       "<path fill=\"none\" stroke=\"black\" d=\"M447.1,-299.11C443.44,-290.03 438.69,-278.26 434.73,-268.43\"/>\n",
       "<polygon fill=\"black\" stroke=\"black\" points=\"438.11,-267.44 431.12,-259.48 431.61,-270.06 438.11,-267.44\"/>\n",
       "</g>\n",
       "</g>\n",
       "</svg>\n"
      ],
      "text/plain": [
       "<graphviz.graphs.Digraph at 0x7fc8f03c4f70>"
      ]
     },
     "execution_count": 23,
     "metadata": {},
     "output_type": "execute_result"
    }
   ],
   "source": [
    "torchviz.make_dot(mlp5(x0), params=dict(mlp5.named_parameters()))"
   ]
  },
  {
   "cell_type": "markdown",
   "metadata": {
    "slideshow": {
     "slide_type": "subslide"
    }
   },
   "source": [
    "### Loss and Optimizer"
   ]
  },
  {
   "cell_type": "markdown",
   "metadata": {
    "slideshow": {
     "slide_type": "fragment"
    }
   },
   "source": [
    "For the loss function, we'll use PyTorch's built in negative log-likelihood loss since our model outputs probabilities."
   ]
  },
  {
   "cell_type": "code",
   "execution_count": 24,
   "metadata": {
    "slideshow": {
     "slide_type": "subslide"
    }
   },
   "outputs": [
    {
     "data": {
      "text/plain": [
       "tensor(2.1753, grad_fn=<NllLossBackward0>)"
      ]
     },
     "execution_count": 24,
     "metadata": {},
     "output_type": "execute_result"
    }
   ],
   "source": [
    "import torch.optim\n",
    "\n",
    "# Loss:\n",
    "# Note: NLLLoss assumes *log*-probabilities (given by our LogSoftmax layer)\n",
    "loss_fn = nn.NLLLoss()\n",
    "\n",
    "# Fake ground-truth labels\n",
    "# Notice that we don't need to 1-hot encode them!\n",
    "yt = torch.randint(low=0, high=n_classes, size=(y_hat0.shape[0],))\n",
    "\n",
    "# Try out the loss\n",
    "loss_fn(y_hat0, yt) "
   ]
  },
  {
   "cell_type": "markdown",
   "metadata": {
    "slideshow": {
     "slide_type": "subslide"
    }
   },
   "source": [
    "Note that `nn.NLLLoss(y_hat, y)` assumes that $\\hat{\\vec{y}}^{(i)}=\\log\\left(\\mathrm{softmax}\\left(\\vec{z}^{(i)}\\right)\\right)$, where $\\vec{z}^{(i)}\\in\\set{R}^C$ contains the raw scores for input $\\vec{x}^{(i)}$, and therefore it simply computes:\n",
    "\n",
    "$$\n",
    "L_{\\mathrm{NLL}}\n",
    "= \\sum_{i=1}^{N} -\\left[\\hat{\\vec{y}}^{(i)}\\right]_{y^{(i)}}\n",
    "= \\sum_{i=1}^{N} -\\left[ \\log\\left(\\mathrm{softmax}\\left(\\vec{z}^{(i)}\\right)\\right) \\right]_{y^{(i)}}\n",
    "$$\n",
    "\n",
    "where $y^{(i)}\\in\\left\\{0,1,\\dots,C-1\\right\\}$ is the ground-truth class label of for sample $i$."
   ]
  },
  {
   "cell_type": "markdown",
   "metadata": {
    "slideshow": {
     "slide_type": "subslide"
    }
   },
   "source": [
    "As for the optimization scheme, we'll use a built in SGD optimizer from the `torch.optim` module.\n",
    "We will see that the semantics of using it are similar to the simple optimizer we implemented last tutorial.\n",
    "\n",
    "We won't need to calculate the loss gradient this time, as we'll use `autograd` for automatic differentiation."
   ]
  },
  {
   "cell_type": "code",
   "execution_count": 25,
   "metadata": {
    "slideshow": {
     "slide_type": "fragment"
    }
   },
   "outputs": [],
   "source": [
    "torch.manual_seed(42)\n",
    "\n",
    "# Model for training\n",
    "model = MLP(D_in=n_features, hidden_dims=[32, 32, 32], D_out=n_classes, nonlin='relu')\n",
    "\n",
    "# Optimizer over our model's parameters\n",
    "optimizer = torch.optim.SGD(params=model.parameters(), lr=5e-2, weight_decay=0.01, momentum=0.9)"
   ]
  },
  {
   "cell_type": "markdown",
   "metadata": {
    "slideshow": {
     "slide_type": "subslide"
    }
   },
   "source": [
    "### Training loop"
   ]
  },
  {
   "cell_type": "markdown",
   "metadata": {
    "slideshow": {
     "slide_type": "fragment"
    }
   },
   "source": [
    "This time we'll train over lazy-loaded batches from our data loader.\n",
    "\n",
    "Notice that except from our model's `__init__()` and `__forward()__`, we're using PyTorch facilities for the entire training implementation."
   ]
  },
  {
   "cell_type": "code",
   "execution_count": 26,
   "metadata": {
    "slideshow": {
     "slide_type": "subslide"
    }
   },
   "outputs": [
    {
     "name": "stdout",
     "output_type": "stream",
     "text": [
      "Epoch #1: Avg. loss=2.305134725570679\n",
      "Epoch #2: Avg. loss=2.286450743675232\n",
      "Epoch #3: Avg. loss=2.2567497968673704\n",
      "Epoch #4: Avg. loss=2.1769879341125487\n",
      "Epoch #5: Avg. loss=1.93110910654068\n",
      "Epoch #6: Avg. loss=1.4161057114601134\n",
      "Epoch #7: Avg. loss=0.9191413938999176\n",
      "Epoch #8: Avg. loss=0.6763368546962738\n",
      "Epoch #9: Avg. loss=0.5613920331001282\n",
      "Epoch #10: Avg. loss=0.5014606058597565\n"
     ]
    }
   ],
   "source": [
    "num_epochs = 10\n",
    "for epoch_idx in range(num_epochs):\n",
    "    total_loss = 0\n",
    "    \n",
    "    for batch_idx, (X, y) in enumerate(dl_train):\n",
    "        # Forward pass\n",
    "        y_pred = model(X)\n",
    "\n",
    "        # Compute loss\n",
    "        loss = loss_fn(y_pred, y)\n",
    "        total_loss += loss.item()\n",
    "\n",
    "        # Backward pass\n",
    "        optimizer.zero_grad() # Zero gradients of all parameters\n",
    "        loss.backward()       # Run backprop algorithms to calculate gradients\n",
    "        \n",
    "        # Optimization step\n",
    "        optimizer.step()      # Use gradients to update model parameters\n",
    "        \n",
    "    print(f'Epoch #{epoch_idx+1}: Avg. loss={total_loss/len(dl_train)}')"
   ]
  },
  {
   "cell_type": "markdown",
   "metadata": {
    "slideshow": {
     "slide_type": "subslide"
    }
   },
   "source": [
    "Using the basic PyTorch building blocks we have arrived at a much more robust implementation:\n",
    "- Easy to change architecture: layers and activation functions\n",
    "- Easy to change loss\n",
    "- Easy to change optimization method\n",
    "- No need for manual gradient derivations"
   ]
  },
  {
   "cell_type": "markdown",
   "metadata": {
    "slideshow": {
     "slide_type": "subslide"
    }
   },
   "source": [
    "#### Thanks!"
   ]
  },
  {
   "cell_type": "markdown",
   "metadata": {
    "slideshow": {
     "slide_type": "skip"
    }
   },
   "source": [
    "**Credits**\n",
    "\n",
    "This tutorial was written by [Aviv A. Rosenberg](https://avivr.net).<br>\n",
    "To re-use, please provide attribution and link to the original.\n",
    "\n",
    "Some images in this tutorial were taken and/or adapted from the following sources:\n",
    "\n",
    "- MartinThoma [CC0], via Wikimedia Commons https://commons.wikimedia.org/wiki/File:Perceptron-unit.svg\n",
    "- Pattern Recognition and Machine Learning, C. M. Bishop, Springer, 2006\n",
    "- Sebastian Raschka https://sebastianraschka.com/Articles/2015_singlelayer_neurons.html\n",
    "- Favio Vázquez https://towardsdatascience.com/a-conversation-about-deep-learning-9a915983107\n",
    "- Fundamentals of Deep Learning, Nikhil Buduma, Oreilly 2017"
   ]
  }
 ],
 "metadata": {
  "celltoolbar": "Slideshow",
  "kernelspec": {
   "display_name": "Python 3 (ipykernel)",
   "language": "python",
   "name": "python3"
  },
  "language_info": {
   "codemirror_mode": {
    "name": "ipython",
    "version": 3
   },
   "file_extension": ".py",
   "mimetype": "text/x-python",
   "name": "python",
   "nbconvert_exporter": "python",
   "pygments_lexer": "ipython3",
   "version": "3.8.12"
  }
 },
 "nbformat": 4,
 "nbformat_minor": 4
}
