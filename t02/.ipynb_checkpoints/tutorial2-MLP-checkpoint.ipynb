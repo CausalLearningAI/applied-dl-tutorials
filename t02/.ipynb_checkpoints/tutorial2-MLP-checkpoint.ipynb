{
 "cells": [
  {
   "cell_type": "markdown",
   "metadata": {
    "slideshow": {
     "slide_type": "slide"
    }
   },
   "source": [
    "$$\n",
    "\\newcommand{\\mat}[1]{\\boldsymbol {#1}}\n",
    "\\newcommand{\\mattr}[1]{\\boldsymbol {#1}^\\top}\n",
    "\\newcommand{\\matinv}[1]{\\boldsymbol {#1}^{-1}}\n",
    "\\newcommand{\\vec}[1]{\\boldsymbol {#1}}\n",
    "\\newcommand{\\vectr}[1]{\\boldsymbol {#1}^\\top}\n",
    "\\newcommand{\\rvar}[1]{\\mathrm {#1}}\n",
    "\\newcommand{\\rvec}[1]{\\boldsymbol{\\mathrm{#1}}}\n",
    "\\newcommand{\\diag}{\\mathop{\\mathrm {diag}}}\n",
    "\\newcommand{\\set}[1]{\\mathbb {#1}}\n",
    "\\newcommand{\\norm}[1]{\\left\\lVert#1\\right\\rVert}\n",
    "\\newcommand{\\pderiv}[2]{\\frac{\\partial #1}{\\partial #2}}\n",
    "\\newcommand{\\bb}[1]{\\boldsymbol{#1}}\n",
    "$$\n",
    "\n",
    "# CS236781:   Deep Learning\n",
    "# Tutorial 3: Multilayer Perceptron"
   ]
  },
  {
   "cell_type": "markdown",
   "metadata": {
    "slideshow": {
     "slide_type": "slide"
    }
   },
   "source": [
    "## Introduction\n",
    "\n",
    "In this tutorial, we will cover:\n",
    "\n",
    "* Linear (fully connected) layers\n",
    "* Activation functions\n",
    "* 2-Layer MLP implementation from scratch (self study)\n",
    "* N-layer MLP with PyTorch's `autograd` and `optim` modules"
   ]
  },
  {
   "cell_type": "code",
   "execution_count": 1,
   "metadata": {
    "execution": {
     "iopub.execute_input": "2021-05-06T06:05:49.016538Z",
     "iopub.status.busy": "2021-05-06T06:05:49.016034Z",
     "iopub.status.idle": "2021-05-06T06:05:50.095393Z",
     "shell.execute_reply": "2021-05-06T06:05:50.095954Z"
    },
    "slideshow": {
     "slide_type": "subslide"
    }
   },
   "outputs": [],
   "source": [
    "# Setup\n",
    "%matplotlib inline\n",
    "import os\n",
    "import numpy as np\n",
    "import sklearn\n",
    "import torch\n",
    "import matplotlib.pyplot as plt\n",
    "from typing import Sequence"
   ]
  },
  {
   "cell_type": "code",
   "execution_count": 2,
   "metadata": {
    "execution": {
     "iopub.execute_input": "2021-05-06T06:05:50.099377Z",
     "iopub.status.busy": "2021-05-06T06:05:50.098809Z",
     "iopub.status.idle": "2021-05-06T06:05:50.126349Z",
     "shell.execute_reply": "2021-05-06T06:05:50.126947Z"
    },
    "slideshow": {
     "slide_type": "fragment"
    }
   },
   "outputs": [],
   "source": [
    "plt.rcParams['font.size'] = 20"
   ]
  },
  {
   "cell_type": "markdown",
   "metadata": {
    "slideshow": {
     "slide_type": "slide"
    }
   },
   "source": [
    "## Reminder: Perceptrons and linear models"
   ]
  },
  {
   "cell_type": "markdown",
   "metadata": {
    "slideshow": {
     "slide_type": "subslide"
    }
   },
   "source": [
    "The following hypothesis class\n",
    "$$\n",
    "\\mathcal{H} =\n",
    "\\left\\{ h: \\mathcal{X}\\rightarrow\\mathcal{Y}\n",
    "~\\vert~\n",
    "h(\\vec{x}) = \\varphi(\\vectr{w}\\vec{x}+b); \\vec{w}\\in\\set{R}^D,~b\\in\\set{R}\\right\\}\n",
    "$$\n",
    "where $\\varphi(\\cdot)$ is some nonlinear function, is composed of functions representing the **perceptron** model.\n",
    "\n",
    "\n",
    "<img src=\"imgs/perceptron.png\" width=400 /> "
   ]
  },
  {
   "cell_type": "markdown",
   "metadata": {
    "slideshow": {
     "slide_type": "subslide"
    }
   },
   "source": [
    "Last tutorial: we trained a **logistic regression** model by using\n",
    "$$\\varphi(\\vec{z})=\\sigma(\\vec{z})=\\frac{1}{1+\\exp(-\\vec{z})}\\in[0,1].$$"
   ]
  },
  {
   "cell_type": "markdown",
   "metadata": {
    "slideshow": {
     "slide_type": "fragment"
    }
   },
   "source": [
    "**Limitation**: logistic regression is still a linear classifier. In what sense is it linear though?\n",
    "\n",
    "$$\\hat{y} = \\sigma(\\vectr{w}\\vec{x}+b)$$"
   ]
  },
  {
   "cell_type": "markdown",
   "metadata": {
    "slideshow": {
     "slide_type": "subslide"
    }
   },
   "source": [
    "**Linear** in the sense that output depends only on a linear combination of weights and inputs.\n",
    "\n",
    "Decision boundaries are therefore straight lines:\n",
    "\n",
    "<center><img src=\"imgs/perceptron_db.png\" width=\"600\"/></center>"
   ]
  },
  {
   "cell_type": "markdown",
   "metadata": {
    "slideshow": {
     "slide_type": "subslide"
    }
   },
   "source": [
    "If we define $y(\\vec{x})=\\vectr{w}\\vec{x}+b$, then the **decision surface** of the classifier is $y(\\vec{x})=\\text{const}$ (usually zero). Note that $b=w_0$ in the diagram below."
   ]
  },
  {
   "cell_type": "markdown",
   "metadata": {
    "slideshow": {
     "slide_type": "fragment"
    }
   },
   "source": [
    "<center><img src=\"imgs/linear_discriminant.png\" width=\"700\"/></center>"
   ]
  },
  {
   "cell_type": "markdown",
   "metadata": {
    "slideshow": {
     "slide_type": "subslide"
    }
   },
   "source": [
    "1. For any $\\vec{x_1}, \\vec{x_2}$ on the decision boundary, $\\vectr{w}(\\vec{x_1}-\\vec{x_2})=0$ $\\Rightarrow \\vec{w}$ orthogonal to every vector in the surface.\n",
    "1. For any $\\vec{x_1}$ on the decision boundary, $\\vectr{w}\\vec{x_1}=-b$.  \n",
    "Since $\\frac{\\vectr{w}}{\\norm{\\vec{w}}}\\vec{x_1}$ is the length of the projection of $\\vec{x_1}$ onto $\\vec{w}$, then the distance of the boundary from origin is given by\n",
    "$\\frac{-b}{\\norm{\\vec{w}}}$.\n",
    "1. For any point $\\vec{x}$, $\\frac{y(\\vec{x})}{\\norm{\\vec{w}}}$ is the **signed perpendicular distance** from the decision boundary."
   ]
  },
  {
   "cell_type": "markdown",
   "metadata": {
    "slideshow": {
     "slide_type": "subslide"
    }
   },
   "source": [
    "What if our data is not linearly separable? Can we still use e.g. logistic regression?"
   ]
  },
  {
   "cell_type": "markdown",
   "metadata": {
    "slideshow": {
     "slide_type": "fragment"
    }
   },
   "source": [
    "<center><img src=\"imgs/nonlinear_datasets.png\" width=\"1200\"/></center>"
   ]
  },
  {
   "cell_type": "markdown",
   "metadata": {
    "slideshow": {
     "slide_type": "subslide"
    }
   },
   "source": [
    "What if we first apply a **fixed** non-linear transformation to the data?\n",
    "\n",
    "For some $\\psi: \\set{R}^d \\rightarrow \\set{R}^D$, what does the following classifier do?\n",
    "\n",
    "$$\\hat{y} = \\varphi(\\vectr{w}\\psi(\\vec{x})+b).$$"
   ]
  },
  {
   "cell_type": "markdown",
   "metadata": {
    "slideshow": {
     "slide_type": "fragment"
    }
   },
   "source": [
    "We still get a linear decision boundary, but relative to the new features $\\psi(\\vec{x})\\in\\set{R}^D$.\n",
    "Projecting this boundary back to $\\set{R}^d$, we can get nonlinear decision boundaries with respect to $\\vec{x}\\in\\set{R}^d$."
   ]
  },
  {
   "cell_type": "markdown",
   "metadata": {
    "slideshow": {
     "slide_type": "fragment"
    }
   },
   "source": [
    "But how can we choose a nonlinear transformation?  \n",
    "Traditional ML: Craft it painstakingly based on domain-knowledge.\n",
    "\n",
    "But what if we want to **learn** it?"
   ]
  },
  {
   "cell_type": "markdown",
   "metadata": {
    "slideshow": {
     "slide_type": "slide"
    }
   },
   "source": [
    "## Multilayer Perceptron (MLP)"
   ]
  },
  {
   "cell_type": "markdown",
   "metadata": {
    "slideshow": {
     "slide_type": "fragment"
    }
   },
   "source": [
    "### Model\n",
    "\n",
    "<center><img src=\"imgs/mlp.png\" width=1000 /></center>\n",
    "\n",
    "Composed of $L$ **layers**, each layer $l$ with $n_l$ **perceptron** (\"neuron\") units."
   ]
  },
  {
   "cell_type": "markdown",
   "metadata": {
    "slideshow": {
     "slide_type": "subslide"
    }
   },
   "source": [
    "Each layer $l$ operates on the output of the previous layer ($\\vec{y}_{l-1}$) and calculates:\n",
    "\n",
    "$$\n",
    "\\vec{y}_l = \\varphi\\left( \\mat{W}_l \\vec{y}_{l-1} + \\vec{b}_l \\right),~\n",
    "\\mat{W}_l\\in\\set{R}^{n_{l}\\times n_{l-1}},~ \\vec{b}_l\\in\\set{R}^{n_l},~ l \\in \\{1,2,\\dots,L\\}.\n",
    "$$\n",
    "\n",
    "- Note that both input and output are **vectors**. We can think of the above equation as describing a layer of **multiple perceptrons**.\n",
    "- We'll henceforth refer to such layers as **fully-connected** or FC layers.\n",
    "- The first layer accepts the input of the model, i.e. $\\vec{y}_0=\\vec{x}\\in\\set{R}^d$.\n",
    "- The last layer, $L$, is the output layer, so $y_L$ is the output of the model.\n",
    "- The layers $1, 2, \\dots, L-1$ are called hidden layers."
   ]
  },
  {
   "cell_type": "markdown",
   "metadata": {
    "slideshow": {
     "slide_type": "subslide"
    }
   },
   "source": [
    "How powerful is an MLP model? I.e. which functions can it approximate?"
   ]
  },
  {
   "cell_type": "markdown",
   "metadata": {
    "slideshow": {
     "slide_type": "subslide"
    }
   },
   "source": [
    "**Universal approximator theorem**\n",
    "\n",
    "Given enough parameters, an MLP with $L>1$ and any non-linear activation function, can approximate any continuous function up to any specified precision (Cybenko, 1989).\n",
    "\n",
    "The MLP is therefore a **potent hypothesis class** (recall approximation error).\n",
    "\n",
    "See [here](http://neuralnetworksanddeeplearning.com/chap4.html) for an intuitive explanation of the UAT."
   ]
  },
  {
   "cell_type": "markdown",
   "metadata": {
    "slideshow": {
     "slide_type": "subslide"
    }
   },
   "source": [
    "Given an input sample $\\vec{x}^i$, the computed function of an $L$-layer MLP is:\n",
    "$$\n",
    "\\vec{y}_L^i= \\varphi \\left(\n",
    "\\mat{W}_L \\varphi \\left( \\cdots\n",
    "\\varphi \\left( \\mat{W}_1 \\vec{x}^i + \\vec{b}_1 \\right)\n",
    "\\cdots \\right)\n",
    "+ \\vec{b}_L \\right)\n",
    "$$\n",
    "\n",
    "This expression is fully differentiable w.r.t. parameters using the Chain Rule.\n",
    "\n",
    "And notice that $\\vec{y}_L^i = \\varphi(\\mat{W}_L \\vec{y}_{L-1}^i + \\vec{b}_L)$ is just the linear model we started with.\n",
    "\n",
    "So, intuitively, we can think of $\\vec{y}_{L-1}$ as **learned** non-linear features of the input! In other words, $\\vec{y}_{L-1} = \\psi_{\\vec{\\Theta}}(\\vec{x})$."
   ]
  },
  {
   "cell_type": "markdown",
   "metadata": {
    "slideshow": {
     "slide_type": "subslide"
    }
   },
   "source": [
    "Since an MLP it has a non-linear dependency on it's inputs, through a learned transformation, non-linear decision boundaries are possible.\n",
    "\n",
    "For example, an MLP with 1, 2 and 4 hidden layers, 3 neurons each:\n",
    "    \n",
    "<center><img src=\"imgs/overfit_1-2-4HL_3N.jpg\" width=\"1100\" alt=\"overfit1\"></center>\n",
    "\n",
    "Notice the input space has two features while the output space has three."
   ]
  },
  {
   "cell_type": "markdown",
   "metadata": {
    "slideshow": {
     "slide_type": "slide"
    }
   },
   "source": [
    "### Activation functions "
   ]
  },
  {
   "cell_type": "markdown",
   "metadata": {
    "slideshow": {
     "slide_type": "subslide"
    }
   },
   "source": [
    "An **activation function** is the non-linear elementwise function $\\varphi(\\cdot)$ which operates on the affine part of the perceptron model.\n",
    "\n",
    "Why do we even need non-linearities in the first place? Isn't the depth enough?"
   ]
  },
  {
   "cell_type": "markdown",
   "metadata": {
    "slideshow": {
     "slide_type": "fragment"
    }
   },
   "source": [
    "Without them, the MLP model would be equivalent to a single affine transform."
   ]
  },
  {
   "cell_type": "markdown",
   "metadata": {
    "slideshow": {
     "slide_type": "subslide"
    }
   },
   "source": [
    "Common choices for the activation functions are:\n",
    "\n",
    "- The logistic function (sigmoid)\n",
    "    $$ \\varphi(t) = \\sigma(t) = \\frac{1}{1+e^{-t}} \\in  [0,1] $$\n",
    "- The hyperbolic tangent (a shifted and scaled sigmoid)\n",
    "    $$ \\varphi(t) = \\mathrm{tanh}(t) = \\frac{e^t - e^{-t}}{e^t +e^{-t}} \\in [-1,1]$$"
   ]
  },
  {
   "cell_type": "markdown",
   "metadata": {
    "slideshow": {
     "slide_type": "fragment"
    }
   },
   "source": [
    "- ReLU, rectified linear unit\n",
    "    $$ \\varphi(t) = \\max\\{t,0\\} $$\n",
    "Note that ReLU is not strictly differentiable. However, sub-gradients exist. We will define its gradient as:\n",
    "    $$ \\pderiv{\\varphi}{t} = \\begin{cases} 1, & t\\geq0 \\\\ 0, & t<0 \\end{cases} $$"
   ]
  },
  {
   "cell_type": "code",
   "execution_count": 3,
   "metadata": {
    "execution": {
     "iopub.execute_input": "2021-05-06T06:05:50.133600Z",
     "iopub.status.busy": "2021-05-06T06:05:50.133072Z",
     "iopub.status.idle": "2021-05-06T06:05:50.160650Z",
     "shell.execute_reply": "2021-05-06T06:05:50.161177Z"
    },
    "slideshow": {
     "slide_type": "subslide"
    }
   },
   "outputs": [],
   "source": [
    "# Plot some activation functions and their gradients\n",
    "\n",
    "# Activation functions\n",
    "relu = lambda x: np.maximum(0, x)\n",
    "sigmoid = lambda x: 1 / (1 + np.exp(-x))\n",
    "tanh = lambda x: (np.exp(x)-np.exp(-x)) / (np.exp(x)+np.exp(-x))\n",
    "\n",
    "# Their gradients\n",
    "g_relu = lambda x: np.array(relu(x) > 0, dtype=np.float)\n",
    "g_sigmoid = lambda x: sigmoid(x) * (1-sigmoid(x))\n",
    "g_tanh = lambda x: (1 - tanh(x) ** 2)"
   ]
  },
  {
   "cell_type": "code",
   "execution_count": 4,
   "metadata": {
    "execution": {
     "iopub.execute_input": "2021-05-06T06:05:50.165974Z",
     "iopub.status.busy": "2021-05-06T06:05:50.165449Z",
     "iopub.status.idle": "2021-05-06T06:05:50.760248Z",
     "shell.execute_reply": "2021-05-06T06:05:50.760759Z"
    },
    "slideshow": {
     "slide_type": "subslide"
    }
   },
   "outputs": [
    {
     "data": {
      "image/png": "[encoded data removed]",
      "text/plain": [
       "<Figure size 1152x360 with 2 Axes>"
      ]
     },
     "metadata": {
      "needs_background": "light"
     },
     "output_type": "display_data"
    }
   ],
   "source": [
    "x = np.linspace(-4, 4, num=1024)\n",
    "_, axes = plt.subplots(nrows=1, ncols=2, figsize=(16,5))\n",
    "axes[0].plot(x, relu(x), x, sigmoid(x), x, tanh(x))\n",
    "axes[1].plot(x, g_relu(x), x, g_sigmoid(x), x, g_tanh(x))\n",
    "legend_entries = (r'\\mathrm{ReLU}(x)', r'\\sigma(x)', r'\\mathrm{tanh}(x)')\n",
    "for ax, legend_prefix in zip(axes, ('', r'\\frac{\\partial}{\\partial x}')):\n",
    "    ax.grid(True)\n",
    "    ax.legend(tuple(f'${legend_prefix}{legend_entry}$' for legend_entry in legend_entries))\n",
    "    ax.set_ylim((-1.1,1.1))"
   ]
  },
  {
   "cell_type": "markdown",
   "metadata": {
    "slideshow": {
     "slide_type": "subslide"
    }
   },
   "source": [
    "Some reasons people cite for using ReLU are:\n",
    "\n",
    "- Does not suffer from vanishing gradient when $x$ is far from zero (though gradient can still be zero).\n",
    "\n",
    "- Much faster to compute than sigmoid and tanh.\n",
    "\n",
    "- Promotes sparse weight vectors: \"dead neurons\" arguably cause sparsity in the next layer."
   ]
  },
  {
   "cell_type": "markdown",
   "metadata": {
    "slideshow": {
     "slide_type": "slide"
    }
   },
   "source": [
    "### Visualization of hand-crafted features vs. MLP"
   ]
  },
  {
   "cell_type": "markdown",
   "metadata": {
    "slideshow": {
     "slide_type": "fragment"
    }
   },
   "source": [
    "Visualization of the effect of features and MLP layers: http://playground.tensorflow.org/\n",
    "\n",
    "Try to explain what you see for the circles dataset with:\n",
    "- No hidden layers\n",
    "- One hidden layer, two neurons\n",
    "- One hiddlen layer, three neurons"
   ]
  },
  {
   "cell_type": "markdown",
   "metadata": {
    "slideshow": {
     "slide_type": "slide"
    }
   },
   "source": [
    "## Part 1: Two-layer MLP from scratch"
   ]
  },
  {
   "cell_type": "markdown",
   "metadata": {
    "slideshow": {
     "slide_type": "fragment"
    }
   },
   "source": [
    "Let's solve a simple **regression** problem with a 2-layer MLP (one hidden layer, one output layer)."
   ]
  },
  {
   "cell_type": "markdown",
   "metadata": {
    "slideshow": {
     "slide_type": "slide"
    }
   },
   "source": [
    "We're trying to learn a continuous and perhaps non-deterministic function $y=f(\\vec{x})$.\n",
    "\n",
    "- Domain: $\\vec{x}^i \\in \\set{R}^{D_{\\text{in}}}$\n",
    "\n",
    "- Target: $y^i \\in \\set{R}^{D_{\\text{out}}}$\n",
    "\n",
    "- Model: $\\hat{y} =\\mat{W}_2~ \\varphi(\\mat{W}_1 \\vec{x}+ \\vec{b}_1) + \\vec{b}_2$<br>\n",
    "  i.e. a 2-layer MLP, where:\n",
    "    - $\\vec{x}\\in\\set{R}^{D_{\\text{in}}}$ sample (feature vector)\n",
    "    - $\\mat{W}_1\\in\\set{R}^{H\\times D_{\\text{in}}},\\ \\vec{b}_1\\in\\set{R}^{H}$\n",
    "    - $\\mat{W}_2\\in\\set{R}^{D_{\\text{out}}\\times H},\\ \\vec{b}_2\\in\\set{R}^{D_{\\text{out}}}$\n",
    "    - $\\varphi(\\cdot) = \\mathrm{ReLU}(\\cdot) = \\max\\{\\cdot,0\\}$\n",
    "    - $H$ is the hidden dimension\n",
    "    - We'll set $D_{\\text{out}}=1$ so output is a scalar\n",
    "   "
   ]
  },
  {
   "cell_type": "markdown",
   "metadata": {
    "slideshow": {
     "slide_type": "slide"
    }
   },
   "source": [
    " \n",
    "- MSE loss with L2 regularization:\n",
    "    $$\n",
    "    \\begin{align}\n",
    "    \\ell(\\vec{y},\\vec{\\hat y}) &= \\frac{1}{2}\\norm{\\vec{\\hat y} - \\vec{y}}^2 \\\\\n",
    "    L_{\\mathcal{S}} &= \\frac{1}{N}\\sum_{i=1}^{N}\\ell(\\vec{y},\\vec{\\hat y}) + \\frac{\\lambda}{2}\\left(\\norm{\\mat{W}_1}_F^2 + \\norm{\\mat{W}_2}_F^2 \\right)\n",
    "    \\end{align}\n",
    "    $$\n",
    "- Optimization scheme: Vanilla SGD"
   ]
  },
  {
   "cell_type": "markdown",
   "metadata": {
    "slideshow": {
     "slide_type": "slide"
    }
   },
   "source": [
    "### Computing the loss gradients with backpropagation"
   ]
  },
  {
   "cell_type": "markdown",
   "metadata": {
    "slideshow": {
     "slide_type": "fragment"
    }
   },
   "source": [
    "Let's write our model as \n",
    "$$\n",
    "\\hat{y} =\\mat{W}_2~ \\underbrace{\\mathrm{relu}(\\overbrace{\\mat{W}_1 \\vec{x}+ \\vec{b}_1}^{\\vec{z}})}_{\\vec{a}} + \\vec{b}_2,\n",
    "$$\n",
    "\n",
    "and manually derive the gradient of the point-wise loss $\\ell(\\vec{y},\\vec{\\hat y})$ using the **chain rule**.\n",
    "Remember that to use SGD, we need the gradient of the loss w.r.t. our parameter tensors."
   ]
  },
  {
   "cell_type": "markdown",
   "metadata": {
    "slideshow": {
     "slide_type": "subslide"
    }
   },
   "source": [
    "$$\n",
    "\\begin{align}\n",
    "&\\pderiv{\\ell}{\\vec{\\hat y}}=2\\cdot\\frac{1}{2}(\\vec{\\hat y}-\\vec{y}) = (\\vec{\\hat y}-\\vec{y})\\\\\n",
    "(\\ast)~~&\\pderiv{\\ell}{\\mat{W}_2}= \\pderiv{\\ell}{\\vec{\\hat y}}\\pderiv{\\vec{\\hat y}}{\\mat{W}_2}\n",
    "=(\\vec{\\hat y}-\\vec{y})\\vectr{a}\n",
    "\\end{align}\n",
    "$$"
   ]
  },
  {
   "cell_type": "markdown",
   "metadata": {
    "slideshow": {
     "slide_type": "subslide"
    }
   },
   "source": [
    "How do we continue into the nonlinearity? Recall that we defined\n",
    "\n",
    "$$ \\pderiv{\\mathrm{relu}(x)}{x} = \\begin{cases} 1, & x\\geq0 \\\\ 0, & x<0 \\end{cases} $$\n",
    "\n",
    "and that we apply the non-linearity elementwise on input tensors.\n",
    "\n",
    "Also remember that the gradient of a vector w.r.t. another vector is the Jacobian, a matrix of mixed derivatives:\n",
    "$\\pderiv{a_i}{z_j}$.\n",
    "\n",
    "We have $\\vec{a}=\\mathrm{relu}(\\vec{z})$. Thus,\n",
    "\n",
    "$$\n",
    "\\pderiv{\\vec{a}}{\\vec{z}}=\\mathrm{diag}(\\mathbb{1}[\\vec{z}>0]).\n",
    "$$\n"
   ]
  },
  {
   "cell_type": "markdown",
   "metadata": {
    "slideshow": {
     "slide_type": "subslide"
    }
   },
   "source": [
    "And so,\n",
    "$$\n",
    "\\begin{align}\n",
    "&\\pderiv{\\ell}{\\vec{a}}=\\pderiv{\\vec{\\hat y}}{\\vec{a}}\\pderiv{\\ell}{\\vec{\\hat y}}\n",
    "=\\mattr{W}_2(\\vec{\\hat y}-\\vec{y})\\\\\n",
    "&\\pderiv{\\ell}{\\vec{z}}=\\pderiv{\\vec{a}}{\\vec{z}}\\pderiv{\\ell}{\\vec{a}}\n",
    "=\\mathrm{diag}(\\mathbb{1}[\\vec{z}>0])\\mattr{W}_2(\\vec{\\hat y}-\\vec{y})\\\\\n",
    "(\\ast)~~&\\pderiv{\\ell}{\\mat{W}_1}=\\pderiv{\\ell}{\\vec{z}}\\pderiv{\\vec{z}}{\\mat{W}_1}\n",
    "=\\mathrm{diag}(\\mathbb{1}[\\vec{z}>0])\\mattr{W}_2(\\vec{\\hat y}-\\vec{y})\\vectr{x}\\\\\n",
    "\\end{align}\n",
    "$$"
   ]
  },
  {
   "cell_type": "markdown",
   "metadata": {
    "slideshow": {
     "slide_type": "subslide"
    }
   },
   "source": [
    "For the biases, we can easily see that:\n",
    "$$\n",
    "\\begin{align}\n",
    "(\\ast)~~&\\pderiv{\\ell}{\\vec{b}_2}=\\pderiv{\\vec{\\hat y}}{\\vec{b}_2}\\pderiv{\\ell}{\\vec{\\hat y}}\n",
    "=I_{D_{\\text{out}}} \\pderiv{\\ell}{\\vec{\\hat y}} \\\\\n",
    "(\\ast)~~&\\pderiv{\\ell}{\\vec{b}_1}=\\pderiv{\\vec{z}}{\\vec{b}_1}\\pderiv{\\ell}{\\vec{z}}\n",
    "=I_{H}\\pderiv{\\ell}{\\vec{z}}\\\\\n",
    "\\end{align}\n",
    "$$"
   ]
  },
  {
   "cell_type": "markdown",
   "metadata": {
    "slideshow": {
     "slide_type": "subslide"
    }
   },
   "source": [
    "The final gradients for weight update, including regularization will be\n",
    "\n",
    "$$\n",
    "\\nabla_{\\mat{W}_j}L_{\\mathcal{S}}=\\frac{1}{N}\\sum_{i=1}^{N} \\pderiv{\\ell_i}{\\mat{W}_j} + \\lambda\\mat{W}_j, \\ j=1,2.\n",
    "$$"
   ]
  },
  {
   "cell_type": "markdown",
   "metadata": {
    "slideshow": {
     "slide_type": "subslide"
    }
   },
   "source": [
    "Let's implement it from scratch using just `numpy`."
   ]
  },
  {
   "cell_type": "code",
   "execution_count": 5,
   "metadata": {
    "execution": {
     "iopub.execute_input": "2021-05-06T06:05:50.765583Z",
     "iopub.status.busy": "2021-05-06T06:05:50.765098Z",
     "iopub.status.idle": "2021-05-06T06:05:50.793785Z",
     "shell.execute_reply": "2021-05-06T06:05:50.794381Z"
    },
    "slideshow": {
     "slide_type": "subslide"
    }
   },
   "outputs": [],
   "source": [
    "# A simple MLP with one hidden layer\n",
    "\n",
    "# N: batch size\n",
    "# D_in: number of features\n",
    "N, D_in =  64, 10\n",
    "# H: hidden-layer\n",
    "# D_out: output dimension\n",
    "H, D_out =  100, 1\n",
    "\n",
    "# Random input data\n",
    "X = np.random.randn(N, D_in)\n",
    "y = np.random.randn(N, D_out)\n",
    "\n",
    "# Model weights and biases\n",
    "wstd = 0.01\n",
    "W1 = np.random.randn(H, D_in)*wstd\n",
    "b1 = np.random.randn(H,)*wstd + 0.1\n",
    "W2 = np.random.randn(D_out, H)*wstd\n",
    "b2 = np.random.randn(D_out,)*wstd + 0.1\n",
    "\n",
    "reg_lambda = 0.5\n",
    "learning_rate = 1e-3"
   ]
  },
  {
   "cell_type": "code",
   "execution_count": 6,
   "metadata": {
    "execution": {
     "iopub.execute_input": "2021-05-06T06:05:50.799749Z",
     "iopub.status.busy": "2021-05-06T06:05:50.799193Z",
     "iopub.status.idle": "2021-05-06T06:05:50.925423Z",
     "shell.execute_reply": "2021-05-06T06:05:50.925994Z"
    },
    "scrolled": true,
    "slideshow": {
     "slide_type": "subslide"
    }
   },
   "outputs": [
    {
     "name": "stdout",
     "output_type": "stream",
     "text": [
      ".........................................................................................................................................................................................................................................................."
     ]
    }
   ],
   "source": [
    "losses = []\n",
    "for epoch in range(250):\n",
    "    # Forward pass, hidden layer: A = relu(X W1 + b1), Shape: (N, H)\n",
    "    Z = X.dot(W1.T) + b1\n",
    "    A = np.maximum(Z, 0)\n",
    "    \n",
    "    # Forward pass, output layer: Y_hat = A W2 + b2, Shape: (N, D_out)\n",
    "    Y_hat = A.dot(W2.T) + b2\n",
    "    \n",
    "    # Loss calculation (MSE)\n",
    "    loss = np.mean((Y_hat - y) ** 2); losses.append(loss) # (N, D_out)\n",
    "    \n",
    "    # Backward pass:  Output layer\n",
    "    d_Y_hat = (1./N) * (Y_hat - y)     # (N, D_out)\n",
    "    d_W2 = d_Y_hat.T.dot(A)            # (D_out, H)\n",
    "    d_A = d_Y_hat.dot(W2)              # (N, H)\n",
    "    d_b2 = np.sum(d_Y_hat, axis=0)     # (D_out,)\n",
    "    \n",
    "    # Backward pass: Hidden layer\n",
    "    d_Z = d_A * np.array(Z > 0, dtype=np.float)  # (N, H)\n",
    "    d_W1 = d_Z.T.dot(X)                          # (H, D_in)\n",
    "    d_b1 = np.sum(d_Z, axis=0)                   # (H,)\n",
    "    \n",
    "    # Backward pass: Regularization term\n",
    "    d_W2 += reg_lambda * W2\n",
    "    d_W1 += reg_lambda * W1\n",
    "    \n",
    "    # Gradient descent step\n",
    "    W2 -= d_W2 * learning_rate; b2 -= d_b2 * learning_rate\n",
    "    W1 -= d_W1 * learning_rate; b1 -= d_b1 * learning_rate\n",
    "    print('.', end='')"
   ]
  },
  {
   "cell_type": "code",
   "execution_count": 7,
   "metadata": {
    "execution": {
     "iopub.execute_input": "2021-05-06T06:05:50.929259Z",
     "iopub.status.busy": "2021-05-06T06:05:50.928652Z",
     "iopub.status.idle": "2021-05-06T06:05:51.053249Z",
     "shell.execute_reply": "2021-05-06T06:05:51.053843Z"
    },
    "slideshow": {
     "slide_type": "subslide"
    }
   },
   "outputs": [
    {
     "data": {
      "image/png": "[encoded data removed]",
      "text/plain": [
       "<Figure size 720x360 with 1 Axes>"
      ]
     },
     "metadata": {
      "needs_background": "light"
     },
     "output_type": "display_data"
    }
   ],
   "source": [
    "# Plot losses\n",
    "_, ax = plt.subplots(figsize=(10,5))\n",
    "ax.plot(losses)\n",
    "ax.set_ylabel('MSE loss'); ax.set_xlabel('Epoch');"
   ]
  },
  {
   "cell_type": "markdown",
   "metadata": {
    "slideshow": {
     "slide_type": "subslide"
    }
   },
   "source": [
    "Note that this implementation is not ideal, as it's:"
   ]
  },
  {
   "cell_type": "markdown",
   "metadata": {
    "slideshow": {
     "slide_type": "fragment"
    }
   },
   "source": [
    "- Non modular (hard to switch components)\n",
    "- Hard to extend (e.g. to add layers)\n",
    "- Error prone (hard-coded manual calculations)"
   ]
  },
  {
   "cell_type": "markdown",
   "metadata": {
    "slideshow": {
     "slide_type": "fragment"
    }
   },
   "source": [
    "But it works!\n",
    "- In HW2, you'll implement a from scratch MLP that addresses these concerns.\n",
    "- And now, we'll see how to address these issues using PyTorch's API."
   ]
  },
  {
   "cell_type": "markdown",
   "metadata": {
    "slideshow": {
     "slide_type": "slide"
    }
   },
   "source": [
    "## Part 2: N-Layer MLP using PyTorch"
   ]
  },
  {
   "cell_type": "markdown",
   "metadata": {
    "slideshow": {
     "slide_type": "fragment"
    }
   },
   "source": [
    "Let's create all our usual components:\n",
    "- Dataset\n",
    "- Model\n",
    "- Loss function\n",
    "- Optimizer\n",
    "\n",
    "But this time we'll create a modular implementation where each of these components is separate and can be changed independently of the others."
   ]
  },
  {
   "cell_type": "markdown",
   "metadata": {
    "slideshow": {
     "slide_type": "subslide"
    }
   },
   "source": [
    "### Dataset"
   ]
  },
  {
   "cell_type": "markdown",
   "metadata": {
    "slideshow": {
     "slide_type": "fragment"
    }
   },
   "source": [
    "As in the previous tutorial we'll tackle an image classification task, the MNIST database of handwritten digits."
   ]
  },
  {
   "cell_type": "code",
   "execution_count": 8,
   "metadata": {
    "execution": {
     "iopub.execute_input": "2021-05-06T06:05:51.057759Z",
     "iopub.status.busy": "2021-05-06T06:05:51.057036Z",
     "iopub.status.idle": "2021-05-06T06:05:51.122188Z",
     "shell.execute_reply": "2021-05-06T06:05:51.122511Z"
    },
    "slideshow": {
     "slide_type": "subslide"
    }
   },
   "outputs": [],
   "source": [
    "import torch\n",
    "import torch.utils.data\n",
    "import torchvision\n",
    "import torchvision.transforms\n",
    "\n",
    "root_dir = os.path.expanduser('~/.pytorch-datasets/')"
   ]
  },
  {
   "cell_type": "code",
   "execution_count": 9,
   "metadata": {
    "execution": {
     "iopub.execute_input": "2021-05-06T06:05:51.128526Z",
     "iopub.status.busy": "2021-05-06T06:05:51.128053Z",
     "iopub.status.idle": "2021-05-06T06:05:51.184958Z",
     "shell.execute_reply": "2021-05-06T06:05:51.185529Z"
    },
    "slideshow": {
     "slide_type": "subslide"
    }
   },
   "outputs": [
    {
     "name": "stdout",
     "output_type": "stream",
     "text": [
      "x0: torch.Size([1, 28, 28]), y0: 5\n"
     ]
    }
   ],
   "source": [
    "tf_ds = torchvision.transforms.ToTensor()\n",
    "\n",
    "batch_size = 512\n",
    "train_size = batch_size * 10\n",
    "test_size = batch_size * 2\n",
    "\n",
    "# Datasets and loaders\n",
    "ds_train = torchvision.datasets.MNIST(root=root_dir, download=True, train=True, transform=tf_ds)\n",
    "dl_train = torch.utils.data.DataLoader(ds_train, batch_size,\n",
    "                                       sampler=torch.utils.data.SubsetRandomSampler(range(0,train_size)))\n",
    "ds_test =  torchvision.datasets.MNIST(root=root_dir, download=True, train=False, transform=tf_ds)\n",
    "dl_test = torch.utils.data.DataLoader(ds_test, batch_size,\n",
    "                                       sampler=torch.utils.data.SubsetRandomSampler(range(0,test_size)))\n",
    "\n",
    "x0, y0 = ds_train[0]\n",
    "n_features = torch.numel(x0)\n",
    "n_classes = 10\n",
    "\n",
    "print(f'x0: {x0.shape}, y0: {y0}')"
   ]
  },
  {
   "cell_type": "code",
   "execution_count": 10,
   "metadata": {
    "execution": {
     "iopub.execute_input": "2021-05-06T06:05:51.188929Z",
     "iopub.status.busy": "2021-05-06T06:05:51.188421Z",
     "iopub.status.idle": "2021-05-06T06:05:51.488462Z",
     "shell.execute_reply": "2021-05-06T06:05:51.488953Z"
    },
    "slideshow": {
     "slide_type": "subslide"
    }
   },
   "outputs": [
    {
     "name": "stdout",
     "output_type": "stream",
     "text": [
      "x0: torch.Size([1, 28, 28]), y0: 5\n"
     ]
    },
    {
     "data": {
      "image/png": "[encoded data removed]",
      "text/plain": [
       "<Figure size 576x576 with 10 Axes>"
      ]
     },
     "metadata": {},
     "output_type": "display_data"
    }
   ],
   "source": [
    "import sys\n",
    "sys.path.append('..')\n",
    "import t02.plot_utils as plot_utils\n",
    "# Show first few samples\n",
    "print(f'x0: {x0.shape}, y0: {y0}')\n",
    "plot_utils.dataset_first_n(ds_train, 10, cmap='gray', show_classes=True);"
   ]
  },
  {
   "cell_type": "markdown",
   "metadata": {
    "slideshow": {
     "slide_type": "subslide"
    }
   },
   "source": [
    "### Model Implementation"
   ]
  },
  {
   "cell_type": "markdown",
   "metadata": {
    "slideshow": {
     "slide_type": "fragment"
    }
   },
   "source": [
    "- The `torch.nn` module contains building blocks such as neural network layers,\n",
    "  loss functions, activations and more.\n",
    "- In this section, we'll see various parts of the `torch.nn` API.\n",
    "- We'll use `nn.Linear` which implements a single MLP layer.\n",
    "- We'll implement our model as a subclass of `nn.Module`, which means:\n",
    "    - Any tensors we set as properties will be registered as model parameters.\n",
    "    - We can nest `nn.Modules` and get all model parameters from the top-level `nn.Module`.\n",
    "    - Can be used as a function if we implement the `forward()` method."
   ]
  },
  {
   "cell_type": "markdown",
   "metadata": {
    "slideshow": {
     "slide_type": "subslide"
    }
   },
   "source": [
    "To understand `nn.Module`, lets look at a very basic one: the **fully-connected** layer."
   ]
  },
  {
   "cell_type": "code",
   "execution_count": 11,
   "metadata": {
    "execution": {
     "iopub.execute_input": "2021-05-06T06:05:51.492641Z",
     "iopub.status.busy": "2021-05-06T06:05:51.492155Z",
     "iopub.status.idle": "2021-05-06T06:05:51.520279Z",
     "shell.execute_reply": "2021-05-06T06:05:51.520839Z"
    },
    "slideshow": {
     "slide_type": "fragment"
    }
   },
   "outputs": [
    {
     "data": {
      "text/plain": [
       "tensor([[-7.1251e-01,  8.1881e-01,  7.9059e-01, -2.7722e-01, -1.2208e-01],\n",
       "        [ 1.5439e-01, -1.8635e-04, -9.3113e-02,  2.2336e-01,  1.2809e-01],\n",
       "        [-7.7973e-01,  2.9552e-02,  1.0179e+00, -3.1256e-01,  3.1589e-01],\n",
       "        [ 9.4211e-02,  1.2330e+00,  1.1839e-01, -4.2630e-01, -8.4664e-01],\n",
       "        [ 1.0505e+00, -1.0999e+00, -6.8395e-01,  2.8644e-01,  2.7877e-01],\n",
       "        [-2.4097e-01, -3.0381e-01,  4.5856e-01, -3.9520e-02,  3.5719e-01],\n",
       "        [ 1.7276e-01, -5.4743e-02,  8.5343e-02, -8.0329e-02, -1.4909e-02],\n",
       "        [ 4.7882e-01,  1.0415e-01, -4.0715e-01,  2.5505e-01, -8.1025e-02],\n",
       "        [-9.6874e-01,  1.2249e+00,  1.1322e+00, -6.0926e-01, -3.8214e-01],\n",
       "        [-1.2650e-01,  6.5705e-01,  3.9818e-01, -3.9975e-01, -4.0890e-01]],\n",
       "       grad_fn=<AddmmBackward>)"
      ]
     },
     "execution_count": 11,
     "metadata": {},
     "output_type": "execute_result"
    }
   ],
   "source": [
    "import torch.nn as nn\n",
    "\n",
    "fc = nn.Linear(in_features=3, out_features=5, bias=True)\n",
    "\n",
    "# Input tensor with 10 samples of 3 features\n",
    "t = torch.randn(10, 3)\n",
    "\n",
    "# Forward pass, notice that grad_fn exists\n",
    "fc(t)"
   ]
  },
  {
   "cell_type": "markdown",
   "metadata": {
    "slideshow": {
     "slide_type": "subslide"
    }
   },
   "source": [
    "`nn.Modules` have registered **parameters**, which are tensors which `require_grad`."
   ]
  },
  {
   "cell_type": "code",
   "execution_count": 12,
   "metadata": {
    "execution": {
     "iopub.execute_input": "2021-05-06T06:05:51.523614Z",
     "iopub.status.busy": "2021-05-06T06:05:51.523140Z",
     "iopub.status.idle": "2021-05-06T06:05:51.550562Z",
     "shell.execute_reply": "2021-05-06T06:05:51.551115Z"
    },
    "slideshow": {
     "slide_type": "fragment"
    }
   },
   "outputs": [
    {
     "name": "stdout",
     "output_type": "stream",
     "text": [
      "Parameter #0 of shape torch.Size([5, 3]):\n",
      "tensor([[ 0.5771, -0.0683,  0.1145],\n",
      "        [-0.3558,  0.5217,  0.2677],\n",
      "        [-0.5193,  0.2295, -0.2657],\n",
      "        [ 0.1603, -0.4462,  0.1953],\n",
      "        [-0.0272, -0.4815, -0.0986]])\n",
      "\n",
      "Parameter #1 of shape torch.Size([5]):\n",
      "tensor([-0.1998,  0.2915,  0.3349, -0.0784, -0.0032])\n",
      "\n"
     ]
    }
   ],
   "source": [
    "# Note parameter shapes\n",
    "for i, param in enumerate(fc.parameters()):\n",
    "    print(f\"Parameter #{i} of shape {param.shape}:\\n{param.data}\\n\")"
   ]
  },
  {
   "cell_type": "markdown",
   "metadata": {
    "slideshow": {
     "slide_type": "subslide"
    }
   },
   "source": [
    "We can create custom `nn.Module`s with arbitrary logic. \n",
    "\n",
    "Let's recreate a fully-connected layer ourselves:"
   ]
  },
  {
   "cell_type": "code",
   "execution_count": 13,
   "metadata": {
    "execution": {
     "iopub.execute_input": "2021-05-06T06:05:51.555214Z",
     "iopub.status.busy": "2021-05-06T06:05:51.554725Z",
     "iopub.status.idle": "2021-05-06T06:05:51.581317Z",
     "shell.execute_reply": "2021-05-06T06:05:51.581882Z"
    },
    "slideshow": {
     "slide_type": "fragment"
    }
   },
   "outputs": [],
   "source": [
    "class MyFullyConnectedLayer(nn.Module):\n",
    "    \n",
    "    def __init__(self, in_features, out_features):\n",
    "        super().__init__() # don't forget this!\n",
    "        \n",
    "        # nn.Parameter just marks W,b for inclusion in list of parameters\n",
    "        self.W = nn.Parameter(torch.randn(out_features, in_features, requires_grad=True))\n",
    "        self.b = nn.Parameter(torch.randn(out_features, requires_grad=True))\n",
    "                \n",
    "    def forward(self, x):\n",
    "        # x assumed to be (N, in_features)\n",
    "        z = torch.matmul(x, self.W.transpose(0, 1)) + self.b\n",
    "        \n",
    "        # Our custom FC layer multiplies all outputs by 3 for no good reason\n",
    "        return 3 * z"
   ]
  },
  {
   "cell_type": "code",
   "execution_count": 14,
   "metadata": {
    "execution": {
     "iopub.execute_input": "2021-05-06T06:05:51.584813Z",
     "iopub.status.busy": "2021-05-06T06:05:51.584336Z",
     "iopub.status.idle": "2021-05-06T06:05:51.610648Z",
     "shell.execute_reply": "2021-05-06T06:05:51.611204Z"
    },
    "slideshow": {
     "slide_type": "subslide"
    }
   },
   "outputs": [],
   "source": [
    "myfc = MyFullyConnectedLayer(in_features=3, out_features=5)"
   ]
  },
  {
   "cell_type": "code",
   "execution_count": 15,
   "metadata": {
    "execution": {
     "iopub.execute_input": "2021-05-06T06:05:51.614053Z",
     "iopub.status.busy": "2021-05-06T06:05:51.613580Z",
     "iopub.status.idle": "2021-05-06T06:05:51.641014Z",
     "shell.execute_reply": "2021-05-06T06:05:51.641566Z"
    },
    "slideshow": {
     "slide_type": "fragment"
    }
   },
   "outputs": [
    {
     "data": {
      "text/plain": [
       "tensor([[ -4.7093,   4.2600,   1.8041,   0.0312,  -1.6802],\n",
       "        [ -3.1112,  -2.5073,  -3.9814,   5.2684,   5.1788],\n",
       "        [ -2.2845,  -7.8631,   7.4091,   3.0125,   2.5034],\n",
       "        [ -5.3586,   7.2746, -10.1273,   1.1065,  -1.4891],\n",
       "        [  0.3269, -19.3289,  -8.0095,  12.3404,  13.9024],\n",
       "        [ -1.7318,  -9.9620,   2.7862,   5.6232,   5.8142],\n",
       "        [ -2.2552,  -7.3950,  -3.5877,   5.9778,   5.6912],\n",
       "        [ -3.3929,  -0.9995,  -8.4880,   5.8171,   5.5529],\n",
       "        [ -5.2573,   6.2478,   2.6922,  -1.9056,  -4.5206],\n",
       "        [ -3.7618,  -0.6266,  -4.0507,   2.6731,   1.0251]],\n",
       "       grad_fn=<MulBackward0>)"
      ]
     },
     "execution_count": 15,
     "metadata": {},
     "output_type": "execute_result"
    }
   ],
   "source": [
    "myfc(t)"
   ]
  },
  {
   "cell_type": "code",
   "execution_count": 16,
   "metadata": {
    "execution": {
     "iopub.execute_input": "2021-05-06T06:05:51.644410Z",
     "iopub.status.busy": "2021-05-06T06:05:51.643920Z",
     "iopub.status.idle": "2021-05-06T06:05:51.671299Z",
     "shell.execute_reply": "2021-05-06T06:05:51.671807Z"
    },
    "slideshow": {
     "slide_type": "subslide"
    }
   },
   "outputs": [
    {
     "data": {
      "text/plain": [
       "[Parameter containing:\n",
       " tensor([[ 0.2957, -0.1923, -0.4026],\n",
       "         [-1.3305,  0.6385,  2.1411],\n",
       "         [-1.6123, -0.6444, -1.0526],\n",
       "         [ 0.9936, -0.5495, -0.3296],\n",
       "         [ 1.2023, -0.9536, -0.4132]], requires_grad=True),\n",
       " Parameter containing:\n",
       " tensor([-1.1385, -0.5594, -0.4224,  1.1462,  0.8879], requires_grad=True)]"
      ]
     },
     "execution_count": 16,
     "metadata": {},
     "output_type": "execute_result"
    }
   ],
   "source": [
    "list(myfc.parameters())"
   ]
  },
  {
   "cell_type": "markdown",
   "metadata": {
    "slideshow": {
     "slide_type": "subslide"
    }
   },
   "source": [
    "Quick visualization of our custom module's **computation graph**:"
   ]
  },
  {
   "cell_type": "code",
   "execution_count": 17,
   "metadata": {
    "execution": {
     "iopub.execute_input": "2021-05-06T06:05:51.674956Z",
     "iopub.status.busy": "2021-05-06T06:05:51.674474Z",
     "iopub.status.idle": "2021-05-06T06:05:51.793273Z",
     "shell.execute_reply": "2021-05-06T06:05:51.793925Z"
    },
    "slideshow": {
     "slide_type": "fragment"
    }
   },
   "outputs": [
    {
     "data": {
      "image/svg+xml": [
       "<?xml version=\"1.0\" encoding=\"UTF-8\" standalone=\"no\"?>\n",
       "<!DOCTYPE svg PUBLIC \"-//W3C//DTD SVG 1.1//EN\"\n",
       " \"http://www.w3.org/Graphics/SVG/1.1/DTD/svg11.dtd\">\n",
       "<!-- Generated by graphviz version 2.42.3 (20191010.1750)\n",
       " -->\n",
       "<!-- Title: %3 Pages: 1 -->\n",
       "<svg width=\"182pt\" height=\"276pt\"\n",
       " viewBox=\"0.00 0.00 181.77 276.00\" xmlns=\"http://www.w3.org/2000/svg\" xmlns:xlink=\"http://www.w3.org/1999/xlink\">\n",
       "<g id=\"graph0\" class=\"graph\" transform=\"scale(1 1) rotate(0) translate(4 272)\">\n",
       "<title>%3</title>\n",
       "<polygon fill=\"white\" stroke=\"transparent\" points=\"-4,4 -4,-272 177.77,-272 177.77,4 -4,4\"/>\n",
       "<!-- 140667828678512 -->\n",
       "<g id=\"node1\" class=\"node\">\n",
       "<title>140667828678512</title>\n",
       "<polygon fill=\"#caff70\" stroke=\"black\" points=\"147.92,-20 57.62,-20 57.62,0 147.92,0 147.92,-20\"/>\n",
       "<text text-anchor=\"middle\" x=\"102.77\" y=\"-6.4\" font-family=\"Times,serif\" font-size=\"12.00\">MulBackward0</text>\n",
       "</g>\n",
       "<!-- 140667828676688 -->\n",
       "<g id=\"node2\" class=\"node\">\n",
       "<title>140667828676688</title>\n",
       "<polygon fill=\"lightgrey\" stroke=\"black\" points=\"148.58,-76 56.96,-76 56.96,-56 148.58,-56 148.58,-76\"/>\n",
       "<text text-anchor=\"middle\" x=\"102.77\" y=\"-62.4\" font-family=\"Times,serif\" font-size=\"12.00\">AddBackward0</text>\n",
       "</g>\n",
       "<!-- 140667828676688&#45;&gt;140667828678512 -->\n",
       "<g id=\"edge1\" class=\"edge\">\n",
       "<title>140667828676688&#45;&gt;140667828678512</title>\n",
       "<path fill=\"none\" stroke=\"black\" d=\"M102.77,-55.59C102.77,-48.7 102.77,-39.1 102.77,-30.57\"/>\n",
       "<polygon fill=\"black\" stroke=\"black\" points=\"106.27,-30.3 102.77,-20.3 99.27,-30.3 106.27,-30.3\"/>\n",
       "</g>\n",
       "<!-- 140667828661024 -->\n",
       "<g id=\"node3\" class=\"node\">\n",
       "<title>140667828661024</title>\n",
       "<polygon fill=\"lightgrey\" stroke=\"black\" points=\"101.92,-138 17.62,-138 17.62,-118 101.92,-118 101.92,-138\"/>\n",
       "<text text-anchor=\"middle\" x=\"59.77\" y=\"-124.4\" font-family=\"Times,serif\" font-size=\"12.00\">MmBackward</text>\n",
       "</g>\n",
       "<!-- 140667828661024&#45;&gt;140667828676688 -->\n",
       "<g id=\"edge2\" class=\"edge\">\n",
       "<title>140667828661024&#45;&gt;140667828676688</title>\n",
       "<path fill=\"none\" stroke=\"black\" d=\"M66.3,-117.89C72.62,-109.08 82.35,-95.5 90.18,-84.58\"/>\n",
       "<polygon fill=\"black\" stroke=\"black\" points=\"93.2,-86.37 96.18,-76.2 87.51,-82.29 93.2,-86.37\"/>\n",
       "</g>\n",
       "<!-- 140667828661984 -->\n",
       "<g id=\"node4\" class=\"node\">\n",
       "<title>140667828661984</title>\n",
       "<polygon fill=\"lightgrey\" stroke=\"black\" points=\"119.32,-200 0.23,-200 0.23,-180 119.32,-180 119.32,-200\"/>\n",
       "<text text-anchor=\"middle\" x=\"59.77\" y=\"-186.4\" font-family=\"Times,serif\" font-size=\"12.00\">TransposeBackward0</text>\n",
       "</g>\n",
       "<!-- 140667828661984&#45;&gt;140667828661024 -->\n",
       "<g id=\"edge3\" class=\"edge\">\n",
       "<title>140667828661984&#45;&gt;140667828661024</title>\n",
       "<path fill=\"none\" stroke=\"black\" d=\"M59.77,-179.89C59.77,-171.52 59.77,-158.84 59.77,-148.23\"/>\n",
       "<polygon fill=\"black\" stroke=\"black\" points=\"63.27,-148.2 59.77,-138.2 56.27,-148.2 63.27,-148.2\"/>\n",
       "</g>\n",
       "<!-- 140667828662224 -->\n",
       "<g id=\"node5\" class=\"node\">\n",
       "<title>140667828662224</title>\n",
       "<polygon fill=\"lightblue\" stroke=\"black\" points=\"86.77,-268 32.77,-268 32.77,-236 86.77,-236 86.77,-268\"/>\n",
       "<text text-anchor=\"middle\" x=\"59.77\" y=\"-254.4\" font-family=\"Times,serif\" font-size=\"12.00\">W</text>\n",
       "<text text-anchor=\"middle\" x=\"59.77\" y=\"-242.4\" font-family=\"Times,serif\" font-size=\"12.00\"> (5, 3)</text>\n",
       "</g>\n",
       "<!-- 140667828662224&#45;&gt;140667828661984 -->\n",
       "<g id=\"edge4\" class=\"edge\">\n",
       "<title>140667828662224&#45;&gt;140667828661984</title>\n",
       "<path fill=\"none\" stroke=\"black\" d=\"M59.77,-235.86C59.77,-228.13 59.77,-218.63 59.77,-210.37\"/>\n",
       "<polygon fill=\"black\" stroke=\"black\" points=\"63.27,-210.15 59.77,-200.15 56.27,-210.15 63.27,-210.15\"/>\n",
       "</g>\n",
       "<!-- 140667828658336 -->\n",
       "<g id=\"node6\" class=\"node\">\n",
       "<title>140667828658336</title>\n",
       "<polygon fill=\"lightblue\" stroke=\"black\" points=\"173.77,-144 119.77,-144 119.77,-112 173.77,-112 173.77,-144\"/>\n",
       "<text text-anchor=\"middle\" x=\"146.77\" y=\"-130.4\" font-family=\"Times,serif\" font-size=\"12.00\">b</text>\n",
       "<text text-anchor=\"middle\" x=\"146.77\" y=\"-118.4\" font-family=\"Times,serif\" font-size=\"12.00\"> (5)</text>\n",
       "</g>\n",
       "<!-- 140667828658336&#45;&gt;140667828676688 -->\n",
       "<g id=\"edge5\" class=\"edge\">\n",
       "<title>140667828658336&#45;&gt;140667828676688</title>\n",
       "<path fill=\"none\" stroke=\"black\" d=\"M135.67,-111.86C129.55,-103.51 121.92,-93.11 115.55,-84.42\"/>\n",
       "<polygon fill=\"black\" stroke=\"black\" points=\"118.22,-82.15 109.49,-76.15 112.58,-86.29 118.22,-82.15\"/>\n",
       "</g>\n",
       "</g>\n",
       "</svg>\n"
      ],
      "text/plain": [
       "<graphviz.dot.Digraph at 0x7fefc7f5a9a0>"
      ]
     },
     "execution_count": 17,
     "metadata": {},
     "output_type": "execute_result"
    }
   ],
   "source": [
    "import torchviz\n",
    "torchviz.make_dot(myfc(t), params=dict(W=myfc.W, b=myfc.b))"
   ]
  },
  {
   "cell_type": "markdown",
   "metadata": {
    "slideshow": {
     "slide_type": "subslide"
    }
   },
   "source": [
    "Now that we know about `nn.Module`s, lets create an fairly-general MLP for multiclass classification."
   ]
  },
  {
   "cell_type": "code",
   "execution_count": 18,
   "metadata": {
    "execution": {
     "iopub.execute_input": "2021-05-06T06:05:51.801400Z",
     "iopub.status.busy": "2021-05-06T06:05:51.800819Z",
     "iopub.status.idle": "2021-05-06T06:05:51.833955Z",
     "shell.execute_reply": "2021-05-06T06:05:51.834336Z"
    },
    "slideshow": {
     "slide_type": "subslide"
    }
   },
   "outputs": [],
   "source": [
    "class MLP(torch.nn.Module):\n",
    "    NLS = {'relu': torch.nn.ReLU, 'tanh': nn.Tanh, 'sigmoid': nn.Sigmoid, 'softmax': nn.Softmax, 'logsoftmax': nn.LogSoftmax}\n",
    "\n",
    "    def __init__(self, D_in: int, hidden_dims: Sequence[int], D_out: int, nonlin='relu'):\n",
    "        super().__init__()\n",
    "        \n",
    "        all_dims = [D_in, *hidden_dims, D_out]\n",
    "        non_linearity = MLP.NLS[nonlin]\n",
    "        layers = []\n",
    "        \n",
    "        for in_dim, out_dim in zip(all_dims[:-1], all_dims[1:]):\n",
    "            layers += [\n",
    "                nn.Linear(in_dim, out_dim, bias=True),\n",
    "                non_linearity()\n",
    "            ]\n",
    "        \n",
    "        # Sequential is a container for layers\n",
    "        self.fc_layers = nn.Sequential(*layers[:-1])\n",
    "        \n",
    "        # Output non-linearity\n",
    "        self.log_softmax = nn.LogSoftmax(dim=1)\n",
    "\n",
    "    def forward(self, x):\n",
    "        x = torch.reshape(x, (x.shape[0], -1))\n",
    "        z = self.fc_layers(x)\n",
    "        y_pred = self.log_softmax(z)\n",
    "        # Output is always log-probability\n",
    "        return y_pred"
   ]
  },
  {
   "cell_type": "code",
   "execution_count": 19,
   "metadata": {
    "execution": {
     "iopub.execute_input": "2021-05-06T06:05:51.837660Z",
     "iopub.status.busy": "2021-05-06T06:05:51.837141Z",
     "iopub.status.idle": "2021-05-06T06:05:51.864715Z",
     "shell.execute_reply": "2021-05-06T06:05:51.865228Z"
    },
    "slideshow": {
     "slide_type": "subslide"
    }
   },
   "outputs": [
    {
     "name": "stdout",
     "output_type": "stream",
     "text": [
      "MLP(\n",
      "  (fc_layers): Sequential(\n",
      "    (0): Linear(in_features=784, out_features=32, bias=True)\n",
      "    (1): Tanh()\n",
      "    (2): Linear(in_features=32, out_features=64, bias=True)\n",
      "    (3): Tanh()\n",
      "    (4): Linear(in_features=64, out_features=128, bias=True)\n",
      "    (5): Tanh()\n",
      "    (6): Linear(in_features=128, out_features=64, bias=True)\n",
      "    (7): Tanh()\n",
      "    (8): Linear(in_features=64, out_features=10, bias=True)\n",
      "  )\n",
      "  (log_softmax): LogSoftmax(dim=1)\n",
      ")\n"
     ]
    }
   ],
   "source": [
    "# Create an instance of the model: 5-layer MLP\n",
    "mlp5 = MLP(D_in=n_features, hidden_dims=[32, 64, 128, 64], D_out=n_classes, nonlin='tanh')\n",
    "\n",
    "print(mlp5)"
   ]
  },
  {
   "cell_type": "code",
   "execution_count": 20,
   "metadata": {
    "execution": {
     "iopub.execute_input": "2021-05-06T06:05:51.868232Z",
     "iopub.status.busy": "2021-05-06T06:05:51.867753Z",
     "iopub.status.idle": "2021-05-06T06:05:51.895960Z",
     "shell.execute_reply": "2021-05-06T06:05:51.896670Z"
    },
    "slideshow": {
     "slide_type": "fragment"
    }
   },
   "outputs": [
    {
     "name": "stdout",
     "output_type": "stream",
     "text": [
      "number of parameter tensors: 10\n"
     ]
    }
   ],
   "source": [
    "# Parameter tensors in nested nn.Modules are automatically discovered.\n",
    "print(f'number of parameter tensors: {len(list(mlp5.parameters()))}')"
   ]
  },
  {
   "cell_type": "code",
   "execution_count": 21,
   "metadata": {
    "execution": {
     "iopub.execute_input": "2021-05-06T06:05:51.900699Z",
     "iopub.status.busy": "2021-05-06T06:05:51.900139Z",
     "iopub.status.idle": "2021-05-06T06:05:51.928199Z",
     "shell.execute_reply": "2021-05-06T06:05:51.928711Z"
    },
    "slideshow": {
     "slide_type": "fragment"
    }
   },
   "outputs": [
    {
     "name": "stdout",
     "output_type": "stream",
     "text": [
      "number of parameters: 44458\n"
     ]
    }
   ],
   "source": [
    "print(f'number of parameters: {np.sum([torch.numel(p) for p in mlp5.parameters()])}')"
   ]
  },
  {
   "cell_type": "code",
   "execution_count": 22,
   "metadata": {
    "execution": {
     "iopub.execute_input": "2021-05-06T06:05:51.932129Z",
     "iopub.status.busy": "2021-05-06T06:05:51.931582Z",
     "iopub.status.idle": "2021-05-06T06:05:51.961558Z",
     "shell.execute_reply": "2021-05-06T06:05:51.962101Z"
    },
    "scrolled": false,
    "slideshow": {
     "slide_type": "subslide"
    }
   },
   "outputs": [
    {
     "name": "stdout",
     "output_type": "stream",
     "text": [
      "x0.shape=torch.Size([1, 28, 28])\n",
      "\n",
      "y_hat0.shape=torch.Size([1, 10])\n",
      "\n",
      "y_hat0=tensor([[-2.2561, -2.4066, -2.4193, -2.2582, -2.2500, -2.2905, -2.2327, -2.2299,\n",
      "         -2.4094, -2.2993]], grad_fn=<LogSoftmaxBackward>)\n"
     ]
    }
   ],
   "source": [
    "# Test a forward pass\n",
    "y_hat0 = mlp5(x0)\n",
    "\n",
    "print(f'{x0.shape=}\\n')\n",
    "print(f'{y_hat0.shape=}\\n')\n",
    "print(f'{y_hat0=}')"
   ]
  },
  {
   "cell_type": "markdown",
   "metadata": {
    "slideshow": {
     "slide_type": "subslide"
    }
   },
   "source": [
    "Quick visualization of our full MLP's **computation graph**:"
   ]
  },
  {
   "cell_type": "code",
   "execution_count": 23,
   "metadata": {
    "execution": {
     "iopub.execute_input": "2021-05-06T06:05:51.965171Z",
     "iopub.status.busy": "2021-05-06T06:05:51.964693Z",
     "iopub.status.idle": "2021-05-06T06:05:52.025504Z",
     "shell.execute_reply": "2021-05-06T06:05:52.026023Z"
    },
    "scrolled": false,
    "slideshow": {
     "slide_type": "subslide"
    }
   },
   "outputs": [
    {
     "data": {
      "image/svg+xml": [
       "<?xml version=\"1.0\" encoding=\"UTF-8\" standalone=\"no\"?>\n",
       "<!DOCTYPE svg PUBLIC \"-//W3C//DTD SVG 1.1//EN\"\n",
       " \"http://www.w3.org/Graphics/SVG/1.1/DTD/svg11.dtd\">\n",
       "<!-- Generated by graphviz version 2.42.3 (20191010.1750)\n",
       " -->\n",
       "<!-- Title: %3 Pages: 1 -->\n",
       "<svg width=\"348pt\" height=\"764pt\"\n",
       " viewBox=\"0.00 0.00 347.97 764.00\" xmlns=\"http://www.w3.org/2000/svg\" xmlns:xlink=\"http://www.w3.org/1999/xlink\">\n",
       "<g id=\"graph0\" class=\"graph\" transform=\"scale(1 1) rotate(0) translate(4 760)\">\n",
       "<title>%3</title>\n",
       "<polygon fill=\"white\" stroke=\"transparent\" points=\"-4,4 -4,-760 343.97,-760 343.97,4 -4,4\"/>\n",
       "<!-- 140667827188400 -->\n",
       "<g id=\"node1\" class=\"node\">\n",
       "<title>140667827188400</title>\n",
       "<polygon fill=\"#caff70\" stroke=\"black\" points=\"233.79,-20 109.51,-20 109.51,0 233.79,0 233.79,-20\"/>\n",
       "<text text-anchor=\"middle\" x=\"171.65\" y=\"-6.4\" font-family=\"Times,serif\" font-size=\"12.00\">LogSoftmaxBackward</text>\n",
       "</g>\n",
       "<!-- 140667827188304 -->\n",
       "<g id=\"node2\" class=\"node\">\n",
       "<title>140667827188304</title>\n",
       "<polygon fill=\"lightgrey\" stroke=\"black\" points=\"223.63,-76 119.67,-76 119.67,-56 223.63,-56 223.63,-76\"/>\n",
       "<text text-anchor=\"middle\" x=\"171.65\" y=\"-62.4\" font-family=\"Times,serif\" font-size=\"12.00\">AddmmBackward</text>\n",
       "</g>\n",
       "<!-- 140667827188304&#45;&gt;140667827188400 -->\n",
       "<g id=\"edge1\" class=\"edge\">\n",
       "<title>140667827188304&#45;&gt;140667827188400</title>\n",
       "<path fill=\"none\" stroke=\"black\" d=\"M171.65,-55.59C171.65,-48.7 171.65,-39.1 171.65,-30.57\"/>\n",
       "<polygon fill=\"black\" stroke=\"black\" points=\"175.15,-30.3 171.65,-20.3 168.15,-30.3 175.15,-30.3\"/>\n",
       "</g>\n",
       "<!-- 140667827188496 -->\n",
       "<g id=\"node3\" class=\"node\">\n",
       "<title>140667827188496</title>\n",
       "<polygon fill=\"lightblue\" stroke=\"black\" points=\"109.46,-144 17.85,-144 17.85,-112 109.46,-112 109.46,-144\"/>\n",
       "<text text-anchor=\"middle\" x=\"63.65\" y=\"-130.4\" font-family=\"Times,serif\" font-size=\"12.00\">fc_layers.8.bias</text>\n",
       "<text text-anchor=\"middle\" x=\"63.65\" y=\"-118.4\" font-family=\"Times,serif\" font-size=\"12.00\"> (10)</text>\n",
       "</g>\n",
       "<!-- 140667827188496&#45;&gt;140667827188304 -->\n",
       "<g id=\"edge2\" class=\"edge\">\n",
       "<title>140667827188496&#45;&gt;140667827188304</title>\n",
       "<path fill=\"none\" stroke=\"black\" d=\"M90.91,-111.86C107.83,-102.46 129.44,-90.45 146.05,-81.22\"/>\n",
       "<polygon fill=\"black\" stroke=\"black\" points=\"148.13,-84.07 155.18,-76.15 144.73,-77.95 148.13,-84.07\"/>\n",
       "</g>\n",
       "<!-- 140667827187776 -->\n",
       "<g id=\"node4\" class=\"node\">\n",
       "<title>140667827187776</title>\n",
       "<polygon fill=\"lightgrey\" stroke=\"black\" points=\"216.12,-138 127.19,-138 127.19,-118 216.12,-118 216.12,-138\"/>\n",
       "<text text-anchor=\"middle\" x=\"171.65\" y=\"-124.4\" font-family=\"Times,serif\" font-size=\"12.00\">TanhBackward</text>\n",
       "</g>\n",
       "<!-- 140667827187776&#45;&gt;140667827188304 -->\n",
       "<g id=\"edge3\" class=\"edge\">\n",
       "<title>140667827187776&#45;&gt;140667827188304</title>\n",
       "<path fill=\"none\" stroke=\"black\" d=\"M171.65,-117.89C171.65,-109.52 171.65,-96.84 171.65,-86.23\"/>\n",
       "<polygon fill=\"black\" stroke=\"black\" points=\"175.15,-86.2 171.65,-76.2 168.15,-86.2 175.15,-86.2\"/>\n",
       "</g>\n",
       "<!-- 140667827191568 -->\n",
       "<g id=\"node5\" class=\"node\">\n",
       "<title>140667827191568</title>\n",
       "<polygon fill=\"lightgrey\" stroke=\"black\" points=\"217.63,-206 113.67,-206 113.67,-186 217.63,-186 217.63,-206\"/>\n",
       "<text text-anchor=\"middle\" x=\"165.65\" y=\"-192.4\" font-family=\"Times,serif\" font-size=\"12.00\">AddmmBackward</text>\n",
       "</g>\n",
       "<!-- 140667827191568&#45;&gt;140667827187776 -->\n",
       "<g id=\"edge4\" class=\"edge\">\n",
       "<title>140667827191568&#45;&gt;140667827187776</title>\n",
       "<path fill=\"none\" stroke=\"black\" d=\"M166.49,-185.82C167.36,-176.17 168.77,-160.69 169.9,-148.32\"/>\n",
       "<polygon fill=\"black\" stroke=\"black\" points=\"173.41,-148.37 170.83,-138.1 166.43,-147.74 173.41,-148.37\"/>\n",
       "</g>\n",
       "<!-- 140667827188448 -->\n",
       "<g id=\"node6\" class=\"node\">\n",
       "<title>140667827188448</title>\n",
       "<polygon fill=\"lightblue\" stroke=\"black\" points=\"103.46,-280 11.85,-280 11.85,-248 103.46,-248 103.46,-280\"/>\n",
       "<text text-anchor=\"middle\" x=\"57.65\" y=\"-266.4\" font-family=\"Times,serif\" font-size=\"12.00\">fc_layers.6.bias</text>\n",
       "<text text-anchor=\"middle\" x=\"57.65\" y=\"-254.4\" font-family=\"Times,serif\" font-size=\"12.00\"> (64)</text>\n",
       "</g>\n",
       "<!-- 140667827188448&#45;&gt;140667827191568 -->\n",
       "<g id=\"edge5\" class=\"edge\">\n",
       "<title>140667827188448&#45;&gt;140667827191568</title>\n",
       "<path fill=\"none\" stroke=\"black\" d=\"M82.43,-247.86C100.35,-236.9 124.43,-222.19 142.07,-211.41\"/>\n",
       "<polygon fill=\"black\" stroke=\"black\" points=\"143.94,-214.37 150.64,-206.17 140.29,-208.4 143.94,-214.37\"/>\n",
       "</g>\n",
       "<!-- 140667827187872 -->\n",
       "<g id=\"node7\" class=\"node\">\n",
       "<title>140667827187872</title>\n",
       "<polygon fill=\"lightgrey\" stroke=\"black\" points=\"210.12,-274 121.19,-274 121.19,-254 210.12,-254 210.12,-274\"/>\n",
       "<text text-anchor=\"middle\" x=\"165.65\" y=\"-260.4\" font-family=\"Times,serif\" font-size=\"12.00\">TanhBackward</text>\n",
       "</g>\n",
       "<!-- 140667827187872&#45;&gt;140667827191568 -->\n",
       "<g id=\"edge6\" class=\"edge\">\n",
       "<title>140667827187872&#45;&gt;140667827191568</title>\n",
       "<path fill=\"none\" stroke=\"black\" d=\"M165.65,-253.82C165.65,-244.17 165.65,-228.69 165.65,-216.32\"/>\n",
       "<polygon fill=\"black\" stroke=\"black\" points=\"169.15,-216.1 165.65,-206.1 162.15,-216.1 169.15,-216.1\"/>\n",
       "</g>\n",
       "<!-- 140667827190176 -->\n",
       "<g id=\"node8\" class=\"node\">\n",
       "<title>140667827190176</title>\n",
       "<polygon fill=\"lightgrey\" stroke=\"black\" points=\"211.63,-342 107.67,-342 107.67,-322 211.63,-322 211.63,-342\"/>\n",
       "<text text-anchor=\"middle\" x=\"159.65\" y=\"-328.4\" font-family=\"Times,serif\" font-size=\"12.00\">AddmmBackward</text>\n",
       "</g>\n",
       "<!-- 140667827190176&#45;&gt;140667827187872 -->\n",
       "<g id=\"edge7\" class=\"edge\">\n",
       "<title>140667827190176&#45;&gt;140667827187872</title>\n",
       "<path fill=\"none\" stroke=\"black\" d=\"M160.49,-321.82C161.36,-312.17 162.77,-296.69 163.9,-284.32\"/>\n",
       "<polygon fill=\"black\" stroke=\"black\" points=\"167.41,-284.37 164.83,-274.1 160.43,-283.74 167.41,-284.37\"/>\n",
       "</g>\n",
       "<!-- 140667827189936 -->\n",
       "<g id=\"node9\" class=\"node\">\n",
       "<title>140667827189936</title>\n",
       "<polygon fill=\"lightblue\" stroke=\"black\" points=\"97.46,-416 5.85,-416 5.85,-384 97.46,-384 97.46,-416\"/>\n",
       "<text text-anchor=\"middle\" x=\"51.65\" y=\"-402.4\" font-family=\"Times,serif\" font-size=\"12.00\">fc_layers.4.bias</text>\n",
       "<text text-anchor=\"middle\" x=\"51.65\" y=\"-390.4\" font-family=\"Times,serif\" font-size=\"12.00\"> (128)</text>\n",
       "</g>\n",
       "<!-- 140667827189936&#45;&gt;140667827190176 -->\n",
       "<g id=\"edge8\" class=\"edge\">\n",
       "<title>140667827189936&#45;&gt;140667827190176</title>\n",
       "<path fill=\"none\" stroke=\"black\" d=\"M76.43,-383.86C94.35,-372.9 118.43,-358.19 136.07,-347.41\"/>\n",
       "<polygon fill=\"black\" stroke=\"black\" points=\"137.94,-350.37 144.64,-342.17 134.29,-344.4 137.94,-350.37\"/>\n",
       "</g>\n",
       "<!-- 140667827191184 -->\n",
       "<g id=\"node10\" class=\"node\">\n",
       "<title>140667827191184</title>\n",
       "<polygon fill=\"lightgrey\" stroke=\"black\" points=\"204.12,-410 115.19,-410 115.19,-390 204.12,-390 204.12,-410\"/>\n",
       "<text text-anchor=\"middle\" x=\"159.65\" y=\"-396.4\" font-family=\"Times,serif\" font-size=\"12.00\">TanhBackward</text>\n",
       "</g>\n",
       "<!-- 140667827191184&#45;&gt;140667827190176 -->\n",
       "<g id=\"edge9\" class=\"edge\">\n",
       "<title>140667827191184&#45;&gt;140667827190176</title>\n",
       "<path fill=\"none\" stroke=\"black\" d=\"M159.65,-389.82C159.65,-380.17 159.65,-364.69 159.65,-352.32\"/>\n",
       "<polygon fill=\"black\" stroke=\"black\" points=\"163.15,-352.1 159.65,-342.1 156.15,-352.1 163.15,-352.1\"/>\n",
       "</g>\n",
       "<!-- 140667827188208 -->\n",
       "<g id=\"node11\" class=\"node\">\n",
       "<title>140667827188208</title>\n",
       "<polygon fill=\"lightgrey\" stroke=\"black\" points=\"205.63,-478 101.67,-478 101.67,-458 205.63,-458 205.63,-478\"/>\n",
       "<text text-anchor=\"middle\" x=\"153.65\" y=\"-464.4\" font-family=\"Times,serif\" font-size=\"12.00\">AddmmBackward</text>\n",
       "</g>\n",
       "<!-- 140667827188208&#45;&gt;140667827191184 -->\n",
       "<g id=\"edge10\" class=\"edge\">\n",
       "<title>140667827188208&#45;&gt;140667827191184</title>\n",
       "<path fill=\"none\" stroke=\"black\" d=\"M154.49,-457.82C155.36,-448.17 156.77,-432.69 157.9,-420.32\"/>\n",
       "<polygon fill=\"black\" stroke=\"black\" points=\"161.41,-420.37 158.83,-410.1 154.43,-419.74 161.41,-420.37\"/>\n",
       "</g>\n",
       "<!-- 140667827191136 -->\n",
       "<g id=\"node12\" class=\"node\">\n",
       "<title>140667827191136</title>\n",
       "<polygon fill=\"lightblue\" stroke=\"black\" points=\"91.46,-552 -0.15,-552 -0.15,-520 91.46,-520 91.46,-552\"/>\n",
       "<text text-anchor=\"middle\" x=\"45.65\" y=\"-538.4\" font-family=\"Times,serif\" font-size=\"12.00\">fc_layers.2.bias</text>\n",
       "<text text-anchor=\"middle\" x=\"45.65\" y=\"-526.4\" font-family=\"Times,serif\" font-size=\"12.00\"> (64)</text>\n",
       "</g>\n",
       "<!-- 140667827191136&#45;&gt;140667827188208 -->\n",
       "<g id=\"edge11\" class=\"edge\">\n",
       "<title>140667827191136&#45;&gt;140667827188208</title>\n",
       "<path fill=\"none\" stroke=\"black\" d=\"M70.43,-519.86C88.35,-508.9 112.43,-494.19 130.07,-483.41\"/>\n",
       "<polygon fill=\"black\" stroke=\"black\" points=\"131.94,-486.37 138.64,-478.17 128.29,-480.4 131.94,-486.37\"/>\n",
       "</g>\n",
       "<!-- 140667827190464 -->\n",
       "<g id=\"node13\" class=\"node\">\n",
       "<title>140667827190464</title>\n",
       "<polygon fill=\"lightgrey\" stroke=\"black\" points=\"198.12,-546 109.19,-546 109.19,-526 198.12,-526 198.12,-546\"/>\n",
       "<text text-anchor=\"middle\" x=\"153.65\" y=\"-532.4\" font-family=\"Times,serif\" font-size=\"12.00\">TanhBackward</text>\n",
       "</g>\n",
       "<!-- 140667827190464&#45;&gt;140667827188208 -->\n",
       "<g id=\"edge12\" class=\"edge\">\n",
       "<title>140667827190464&#45;&gt;140667827188208</title>\n",
       "<path fill=\"none\" stroke=\"black\" d=\"M153.65,-525.82C153.65,-516.17 153.65,-500.69 153.65,-488.32\"/>\n",
       "<polygon fill=\"black\" stroke=\"black\" points=\"157.15,-488.1 153.65,-478.1 150.15,-488.1 157.15,-488.1\"/>\n",
       "</g>\n",
       "<!-- 140667827190896 -->\n",
       "<g id=\"node14\" class=\"node\">\n",
       "<title>140667827190896</title>\n",
       "<polygon fill=\"lightgrey\" stroke=\"black\" points=\"199.63,-614 95.67,-614 95.67,-594 199.63,-594 199.63,-614\"/>\n",
       "<text text-anchor=\"middle\" x=\"147.65\" y=\"-600.4\" font-family=\"Times,serif\" font-size=\"12.00\">AddmmBackward</text>\n",
       "</g>\n",
       "<!-- 140667827190896&#45;&gt;140667827190464 -->\n",
       "<g id=\"edge13\" class=\"edge\">\n",
       "<title>140667827190896&#45;&gt;140667827190464</title>\n",
       "<path fill=\"none\" stroke=\"black\" d=\"M148.49,-593.82C149.36,-584.17 150.77,-568.69 151.9,-556.32\"/>\n",
       "<polygon fill=\"black\" stroke=\"black\" points=\"155.41,-556.37 152.83,-546.1 148.43,-555.74 155.41,-556.37\"/>\n",
       "</g>\n",
       "<!-- 140667828675632 -->\n",
       "<g id=\"node15\" class=\"node\">\n",
       "<title>140667828675632</title>\n",
       "<polygon fill=\"lightblue\" stroke=\"black\" points=\"143.46,-688 51.85,-688 51.85,-656 143.46,-656 143.46,-688\"/>\n",
       "<text text-anchor=\"middle\" x=\"97.65\" y=\"-674.4\" font-family=\"Times,serif\" font-size=\"12.00\">fc_layers.0.bias</text>\n",
       "<text text-anchor=\"middle\" x=\"97.65\" y=\"-662.4\" font-family=\"Times,serif\" font-size=\"12.00\"> (32)</text>\n",
       "</g>\n",
       "<!-- 140667828675632&#45;&gt;140667827190896 -->\n",
       "<g id=\"edge14\" class=\"edge\">\n",
       "<title>140667828675632&#45;&gt;140667827190896</title>\n",
       "<path fill=\"none\" stroke=\"black\" d=\"M109.25,-655.69C116.75,-645.8 126.53,-632.89 134.34,-622.57\"/>\n",
       "<polygon fill=\"black\" stroke=\"black\" points=\"137.35,-624.4 140.59,-614.32 131.77,-620.17 137.35,-624.4\"/>\n",
       "</g>\n",
       "<!-- 140667828677552 -->\n",
       "<g id=\"node16\" class=\"node\">\n",
       "<title>140667828677552</title>\n",
       "<polygon fill=\"lightgrey\" stroke=\"black\" points=\"233.63,-682 161.68,-682 161.68,-662 233.63,-662 233.63,-682\"/>\n",
       "<text text-anchor=\"middle\" x=\"197.65\" y=\"-668.4\" font-family=\"Times,serif\" font-size=\"12.00\">TBackward</text>\n",
       "</g>\n",
       "<!-- 140667828677552&#45;&gt;140667827190896 -->\n",
       "<g id=\"edge15\" class=\"edge\">\n",
       "<title>140667828677552&#45;&gt;140667827190896</title>\n",
       "<path fill=\"none\" stroke=\"black\" d=\"M190.7,-661.82C182.94,-651.58 170.21,-634.77 160.6,-622.09\"/>\n",
       "<polygon fill=\"black\" stroke=\"black\" points=\"163.37,-619.96 154.55,-614.1 157.79,-624.18 163.37,-619.96\"/>\n",
       "</g>\n",
       "<!-- 140667828676112 -->\n",
       "<g id=\"node17\" class=\"node\">\n",
       "<title>140667828676112</title>\n",
       "<polygon fill=\"lightblue\" stroke=\"black\" points=\"249.79,-756 145.52,-756 145.52,-724 249.79,-724 249.79,-756\"/>\n",
       "<text text-anchor=\"middle\" x=\"197.65\" y=\"-742.4\" font-family=\"Times,serif\" font-size=\"12.00\">fc_layers.0.weight</text>\n",
       "<text text-anchor=\"middle\" x=\"197.65\" y=\"-730.4\" font-family=\"Times,serif\" font-size=\"12.00\"> (32, 784)</text>\n",
       "</g>\n",
       "<!-- 140667828676112&#45;&gt;140667828677552 -->\n",
       "<g id=\"edge16\" class=\"edge\">\n",
       "<title>140667828676112&#45;&gt;140667828677552</title>\n",
       "<path fill=\"none\" stroke=\"black\" d=\"M197.65,-723.69C197.65,-714.4 197.65,-702.44 197.65,-692.47\"/>\n",
       "<polygon fill=\"black\" stroke=\"black\" points=\"201.15,-692.32 197.65,-682.32 194.15,-692.32 201.15,-692.32\"/>\n",
       "</g>\n",
       "<!-- 140667827191520 -->\n",
       "<g id=\"node18\" class=\"node\">\n",
       "<title>140667827191520</title>\n",
       "<polygon fill=\"lightgrey\" stroke=\"black\" points=\"299.63,-546 227.68,-546 227.68,-526 299.63,-526 299.63,-546\"/>\n",
       "<text text-anchor=\"middle\" x=\"263.65\" y=\"-532.4\" font-family=\"Times,serif\" font-size=\"12.00\">TBackward</text>\n",
       "</g>\n",
       "<!-- 140667827191520&#45;&gt;140667827188208 -->\n",
       "<g id=\"edge17\" class=\"edge\">\n",
       "<title>140667827191520&#45;&gt;140667827188208</title>\n",
       "<path fill=\"none\" stroke=\"black\" d=\"M248.36,-525.82C230.05,-514.84 199.18,-496.32 177.68,-483.41\"/>\n",
       "<polygon fill=\"black\" stroke=\"black\" points=\"179.19,-480.24 168.82,-478.1 175.59,-486.25 179.19,-480.24\"/>\n",
       "</g>\n",
       "<!-- 140667827189216 -->\n",
       "<g id=\"node19\" class=\"node\">\n",
       "<title>140667827189216</title>\n",
       "<polygon fill=\"lightblue\" stroke=\"black\" points=\"321.79,-620 217.52,-620 217.52,-588 321.79,-588 321.79,-620\"/>\n",
       "<text text-anchor=\"middle\" x=\"269.65\" y=\"-606.4\" font-family=\"Times,serif\" font-size=\"12.00\">fc_layers.2.weight</text>\n",
       "<text text-anchor=\"middle\" x=\"269.65\" y=\"-594.4\" font-family=\"Times,serif\" font-size=\"12.00\"> (64, 32)</text>\n",
       "</g>\n",
       "<!-- 140667827189216&#45;&gt;140667827191520 -->\n",
       "<g id=\"edge18\" class=\"edge\">\n",
       "<title>140667827189216&#45;&gt;140667827191520</title>\n",
       "<path fill=\"none\" stroke=\"black\" d=\"M268.26,-587.69C267.42,-578.4 266.33,-566.44 265.42,-556.47\"/>\n",
       "<polygon fill=\"black\" stroke=\"black\" points=\"268.89,-555.96 264.5,-546.32 261.92,-556.59 268.89,-555.96\"/>\n",
       "</g>\n",
       "<!-- 140667827188016 -->\n",
       "<g id=\"node20\" class=\"node\">\n",
       "<title>140667827188016</title>\n",
       "<polygon fill=\"lightgrey\" stroke=\"black\" points=\"305.63,-410 233.68,-410 233.68,-390 305.63,-390 305.63,-410\"/>\n",
       "<text text-anchor=\"middle\" x=\"269.65\" y=\"-396.4\" font-family=\"Times,serif\" font-size=\"12.00\">TBackward</text>\n",
       "</g>\n",
       "<!-- 140667827188016&#45;&gt;140667827190176 -->\n",
       "<g id=\"edge19\" class=\"edge\">\n",
       "<title>140667827188016&#45;&gt;140667827190176</title>\n",
       "<path fill=\"none\" stroke=\"black\" d=\"M254.36,-389.82C236.05,-378.84 205.18,-360.32 183.68,-347.41\"/>\n",
       "<polygon fill=\"black\" stroke=\"black\" points=\"185.19,-344.24 174.82,-342.1 181.59,-350.25 185.19,-344.24\"/>\n",
       "</g>\n",
       "<!-- 140667827188160 -->\n",
       "<g id=\"node21\" class=\"node\">\n",
       "<title>140667827188160</title>\n",
       "<polygon fill=\"lightblue\" stroke=\"black\" points=\"327.79,-484 223.52,-484 223.52,-452 327.79,-452 327.79,-484\"/>\n",
       "<text text-anchor=\"middle\" x=\"275.65\" y=\"-470.4\" font-family=\"Times,serif\" font-size=\"12.00\">fc_layers.4.weight</text>\n",
       "<text text-anchor=\"middle\" x=\"275.65\" y=\"-458.4\" font-family=\"Times,serif\" font-size=\"12.00\"> (128, 64)</text>\n",
       "</g>\n",
       "<!-- 140667827188160&#45;&gt;140667827188016 -->\n",
       "<g id=\"edge20\" class=\"edge\">\n",
       "<title>140667827188160&#45;&gt;140667827188016</title>\n",
       "<path fill=\"none\" stroke=\"black\" d=\"M274.26,-451.69C273.42,-442.4 272.33,-430.44 271.42,-420.47\"/>\n",
       "<polygon fill=\"black\" stroke=\"black\" points=\"274.89,-419.96 270.5,-410.32 267.92,-420.59 274.89,-419.96\"/>\n",
       "</g>\n",
       "<!-- 140667827189792 -->\n",
       "<g id=\"node22\" class=\"node\">\n",
       "<title>140667827189792</title>\n",
       "<polygon fill=\"lightgrey\" stroke=\"black\" points=\"311.63,-274 239.68,-274 239.68,-254 311.63,-254 311.63,-274\"/>\n",
       "<text text-anchor=\"middle\" x=\"275.65\" y=\"-260.4\" font-family=\"Times,serif\" font-size=\"12.00\">TBackward</text>\n",
       "</g>\n",
       "<!-- 140667827189792&#45;&gt;140667827191568 -->\n",
       "<g id=\"edge21\" class=\"edge\">\n",
       "<title>140667827189792&#45;&gt;140667827191568</title>\n",
       "<path fill=\"none\" stroke=\"black\" d=\"M260.36,-253.82C242.05,-242.84 211.18,-224.32 189.68,-211.41\"/>\n",
       "<polygon fill=\"black\" stroke=\"black\" points=\"191.19,-208.24 180.82,-206.1 187.59,-214.25 191.19,-208.24\"/>\n",
       "</g>\n",
       "<!-- 140667827188832 -->\n",
       "<g id=\"node23\" class=\"node\">\n",
       "<title>140667827188832</title>\n",
       "<polygon fill=\"lightblue\" stroke=\"black\" points=\"333.79,-348 229.52,-348 229.52,-316 333.79,-316 333.79,-348\"/>\n",
       "<text text-anchor=\"middle\" x=\"281.65\" y=\"-334.4\" font-family=\"Times,serif\" font-size=\"12.00\">fc_layers.6.weight</text>\n",
       "<text text-anchor=\"middle\" x=\"281.65\" y=\"-322.4\" font-family=\"Times,serif\" font-size=\"12.00\"> (64, 128)</text>\n",
       "</g>\n",
       "<!-- 140667827188832&#45;&gt;140667827189792 -->\n",
       "<g id=\"edge22\" class=\"edge\">\n",
       "<title>140667827188832&#45;&gt;140667827189792</title>\n",
       "<path fill=\"none\" stroke=\"black\" d=\"M280.26,-315.69C279.42,-306.4 278.33,-294.44 277.42,-284.47\"/>\n",
       "<polygon fill=\"black\" stroke=\"black\" points=\"280.89,-283.96 276.5,-274.32 273.92,-284.59 280.89,-283.96\"/>\n",
       "</g>\n",
       "<!-- 140667827188688 -->\n",
       "<g id=\"node24\" class=\"node\">\n",
       "<title>140667827188688</title>\n",
       "<polygon fill=\"lightgrey\" stroke=\"black\" points=\"317.63,-138 245.68,-138 245.68,-118 317.63,-118 317.63,-138\"/>\n",
       "<text text-anchor=\"middle\" x=\"281.65\" y=\"-124.4\" font-family=\"Times,serif\" font-size=\"12.00\">TBackward</text>\n",
       "</g>\n",
       "<!-- 140667827188688&#45;&gt;140667827188304 -->\n",
       "<g id=\"edge23\" class=\"edge\">\n",
       "<title>140667827188688&#45;&gt;140667827188304</title>\n",
       "<path fill=\"none\" stroke=\"black\" d=\"M264.95,-117.89C246.91,-108.05 217.98,-92.27 197.11,-80.88\"/>\n",
       "<polygon fill=\"black\" stroke=\"black\" points=\"198.61,-77.72 188.16,-76 195.26,-83.86 198.61,-77.72\"/>\n",
       "</g>\n",
       "<!-- 140667827189888 -->\n",
       "<g id=\"node25\" class=\"node\">\n",
       "<title>140667827189888</title>\n",
       "<polygon fill=\"lightblue\" stroke=\"black\" points=\"339.79,-212 235.52,-212 235.52,-180 339.79,-180 339.79,-212\"/>\n",
       "<text text-anchor=\"middle\" x=\"287.65\" y=\"-198.4\" font-family=\"Times,serif\" font-size=\"12.00\">fc_layers.8.weight</text>\n",
       "<text text-anchor=\"middle\" x=\"287.65\" y=\"-186.4\" font-family=\"Times,serif\" font-size=\"12.00\"> (10, 64)</text>\n",
       "</g>\n",
       "<!-- 140667827189888&#45;&gt;140667827188688 -->\n",
       "<g id=\"edge24\" class=\"edge\">\n",
       "<title>140667827189888&#45;&gt;140667827188688</title>\n",
       "<path fill=\"none\" stroke=\"black\" d=\"M286.26,-179.69C285.42,-170.4 284.33,-158.44 283.42,-148.47\"/>\n",
       "<polygon fill=\"black\" stroke=\"black\" points=\"286.89,-147.96 282.5,-138.32 279.92,-148.59 286.89,-147.96\"/>\n",
       "</g>\n",
       "</g>\n",
       "</svg>\n"
      ],
      "text/plain": [
       "<graphviz.dot.Digraph at 0x7fefc7defd00>"
      ]
     },
     "execution_count": 23,
     "metadata": {},
     "output_type": "execute_result"
    }
   ],
   "source": [
    "torchviz.make_dot(mlp5(x0), params=dict(mlp5.named_parameters()))"
   ]
  },
  {
   "cell_type": "markdown",
   "metadata": {
    "slideshow": {
     "slide_type": "subslide"
    }
   },
   "source": [
    "### Loss and Optimizer"
   ]
  },
  {
   "cell_type": "markdown",
   "metadata": {
    "slideshow": {
     "slide_type": "fragment"
    }
   },
   "source": [
    "For the loss function, we'll use PyTorch's built in negative log-likelihood loss since our model outputs probabilities."
   ]
  },
  {
   "cell_type": "code",
   "execution_count": 24,
   "metadata": {
    "execution": {
     "iopub.execute_input": "2021-05-06T06:05:52.029870Z",
     "iopub.status.busy": "2021-05-06T06:05:52.029381Z",
     "iopub.status.idle": "2021-05-06T06:05:52.059506Z",
     "shell.execute_reply": "2021-05-06T06:05:52.060056Z"
    },
    "slideshow": {
     "slide_type": "subslide"
    }
   },
   "outputs": [
    {
     "data": {
      "text/plain": [
       "tensor(2.2582, grad_fn=<NllLossBackward>)"
      ]
     },
     "execution_count": 24,
     "metadata": {},
     "output_type": "execute_result"
    }
   ],
   "source": [
    "import torch.optim\n",
    "\n",
    "# Loss:\n",
    "# Note: NLLLoss assumes *log*-probabilities (given by our LogSoftmax layer)\n",
    "loss_fn = nn.NLLLoss()\n",
    "\n",
    "# Fake ground-truth labels\n",
    "# Notice that we don't need to 1-hot encode them!\n",
    "yt = torch.randint(low=0, high=n_classes, size=(y_hat0.shape[0],))\n",
    "\n",
    "# Try out the loss\n",
    "loss_fn(y_hat0, yt) "
   ]
  },
  {
   "cell_type": "markdown",
   "metadata": {
    "slideshow": {
     "slide_type": "subslide"
    }
   },
   "source": [
    "Note that `nn.NLLLoss(y_hat, y)` assumes that $\\hat{\\vec{y}}^{(i)}=\\log\\left(\\mathrm{softmax}\\left(\\vec{z}^{(i)}\\right)\\right)$, where $\\vec{z}^{(i)}\\in\\set{R}^C$ contains the raw scores for input $\\vec{x}^{(i)}$, and therefore it simply computes:\n",
    "\n",
    "$$\n",
    "L_{\\mathrm{NLL}}\n",
    "= \\sum_{i=1}^{N} -\\left[\\hat{\\vec{y}}^{(i)}\\right]_{y^{(i)}}\n",
    "= \\sum_{i=1}^{N} -\\left[ \\log\\left(\\mathrm{softmax}\\left(\\vec{z}^{(i)}\\right)\\right) \\right]_{y^{(i)}}\n",
    "$$\n",
    "\n",
    "where $y^{(i)}\\in\\left\\{0,1,\\dots,C-1\\right\\}$ is the ground-truth class label of for sample $i$."
   ]
  },
  {
   "cell_type": "markdown",
   "metadata": {
    "slideshow": {
     "slide_type": "subslide"
    }
   },
   "source": [
    "As for the optimization scheme, we'll use a built in SGD optimizer from the `torch.optim` module.\n",
    "We will see that the semantics of using it are similar to the simple optimizer we implemented last tutorial.\n",
    "\n",
    "We won't need to calculate the loss gradient this time, as we'll use `autograd` for automatic differentiation."
   ]
  },
  {
   "cell_type": "code",
   "execution_count": 25,
   "metadata": {
    "execution": {
     "iopub.execute_input": "2021-05-06T06:05:52.063675Z",
     "iopub.status.busy": "2021-05-06T06:05:52.063193Z",
     "iopub.status.idle": "2021-05-06T06:05:52.097596Z",
     "shell.execute_reply": "2021-05-06T06:05:52.096943Z"
    },
    "slideshow": {
     "slide_type": "fragment"
    }
   },
   "outputs": [],
   "source": [
    "torch.manual_seed(42)\n",
    "\n",
    "# Model for training\n",
    "model = MLP(D_in=n_features, hidden_dims=[32, 32, 32], D_out=n_classes, nonlin='relu')\n",
    "\n",
    "# Optimizer over our model's parameters\n",
    "optimizer = torch.optim.SGD(params=model.parameters(), lr=5e-2, weight_decay=0.01, momentum=0.9)"
   ]
  },
  {
   "cell_type": "markdown",
   "metadata": {
    "slideshow": {
     "slide_type": "subslide"
    }
   },
   "source": [
    "### Training loop"
   ]
  },
  {
   "cell_type": "markdown",
   "metadata": {
    "slideshow": {
     "slide_type": "fragment"
    }
   },
   "source": [
    "This time we'll train over lazy-loaded batches from our data loader.\n",
    "\n",
    "Notice that except from our model's `__init__()` and `__forward()__`, we're using PyTorch facilities for the entire training implementation."
   ]
  },
  {
   "cell_type": "code",
   "execution_count": 26,
   "metadata": {
    "execution": {
     "iopub.execute_input": "2021-05-06T06:05:52.102057Z",
     "iopub.status.busy": "2021-05-06T06:05:52.101567Z",
     "iopub.status.idle": "2021-05-06T06:05:56.017546Z",
     "shell.execute_reply": "2021-05-06T06:05:56.018062Z"
    },
    "slideshow": {
     "slide_type": "subslide"
    }
   },
   "outputs": [
    {
     "name": "stdout",
     "output_type": "stream",
     "text": [
      "Epoch #1: Avg. loss=2.305134320259094\n",
      "Epoch #2: Avg. loss=2.2864507913589476\n",
      "Epoch #3: Avg. loss=2.256749725341797\n",
      "Epoch #4: Avg. loss=2.176988220214844\n",
      "Epoch #5: Avg. loss=1.9311089158058166\n",
      "Epoch #6: Avg. loss=1.4161055207252502\n",
      "Epoch #7: Avg. loss=0.9191412627696991\n",
      "Epoch #8: Avg. loss=0.676337045431137\n",
      "Epoch #9: Avg. loss=0.5613921701908111\n",
      "Epoch #10: Avg. loss=0.5014605939388275\n"
     ]
    }
   ],
   "source": [
    "num_epochs = 10\n",
    "for epoch_idx in range(num_epochs):\n",
    "    total_loss = 0\n",
    "    \n",
    "    for batch_idx, (X, y) in enumerate(dl_train):\n",
    "        # Forward pass\n",
    "        y_pred = model(X)\n",
    "\n",
    "        # Compute loss\n",
    "        loss = loss_fn(y_pred, y)\n",
    "        total_loss += loss.item()\n",
    "\n",
    "        # Backward pass\n",
    "        optimizer.zero_grad() # Zero gradients of all parameters\n",
    "        loss.backward()       # Run backprop algorithms to calculate gradients\n",
    "        \n",
    "        # Optimization step\n",
    "        optimizer.step()      # Use gradients to update model parameters\n",
    "        \n",
    "    print(f'Epoch #{epoch_idx+1}: Avg. loss={total_loss/len(dl_train)}')"
   ]
  },
  {
   "cell_type": "markdown",
   "metadata": {
    "slideshow": {
     "slide_type": "subslide"
    }
   },
   "source": [
    "Using the basic PyTorch building blocks we have arrived at a much more robust implementation:\n",
    "- Easy to change architecture: layers and activation functions\n",
    "- Easy to change loss\n",
    "- Easy to change optimization method\n",
    "- No need for manual gradient derivations"
   ]
  },
  {
   "cell_type": "markdown",
   "metadata": {
    "slideshow": {
     "slide_type": "subslide"
    }
   },
   "source": [
    "#### Thanks!"
   ]
  },
  {
   "cell_type": "markdown",
   "metadata": {
    "slideshow": {
     "slide_type": "skip"
    }
   },
   "source": [
    "**Credits**\n",
    "\n",
    "This tutorial was written by [Aviv A. Rosenberg](https://avivr.net).<br>\n",
    "To re-use, please provide attribution and link to the original.\n",
    "\n",
    "Some images in this tutorial were taken and/or adapted from the following sources:\n",
    "\n",
    "- MartinThoma [CC0], via Wikimedia Commons https://commons.wikimedia.org/wiki/File:Perceptron-unit.svg\n",
    "- Pattern Recognition and Machine Learning, C. M. Bishop, Springer, 2006\n",
    "- Sebastian Raschka https://sebastianraschka.com/Articles/2015_singlelayer_neurons.html\n",
    "- Favio Vázquez https://towardsdatascience.com/a-conversation-about-deep-learning-9a915983107\n",
    "- Fundamentals of Deep Learning, Nikhil Buduma, Oreilly 2017"
   ]
  }
 ],
 "metadata": {
  "celltoolbar": "Slideshow",
  "kernelspec": {
   "display_name": "Python 3",
   "language": "python",
   "name": "python3"
  },
  "language_info": {
   "codemirror_mode": {
    "name": "ipython",
    "version": 3
   },
   "file_extension": ".py",
   "mimetype": "text/x-python",
   "name": "python",
   "nbconvert_exporter": "python",
   "pygments_lexer": "ipython3",
   "version": "3.8.6"
  }
 },
 "nbformat": 4,
 "nbformat_minor": 4
}
